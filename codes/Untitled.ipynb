{
 "cells": [
  {
   "cell_type": "code",
   "execution_count": 54,
   "id": "f40077bc",
   "metadata": {},
   "outputs": [],
   "source": [
    "import json\n",
    "import CQ_utils as utils"
   ]
  },
  {
   "cell_type": "code",
   "execution_count": 67,
   "id": "936c5541",
   "metadata": {},
   "outputs": [],
   "source": [
    "data_dir = '/home/donaldo9603/workspace/AmbigQA-master/codes/data/test_cq.json'\n",
    "dev='/home/donaldo9603/workspace/AmbigQA-master/codes/data/dev_cq.json'\n",
    "train='/home/donaldo9603/workspace/AmbigQA-master/codes/data/train_cq.json'\n",
    "train='/home/donaldo9603/workspace/checkpoint/cambignq/data/dev_light.json'"
   ]
  },
  {
   "cell_type": "code",
   "execution_count": 68,
   "id": "3872683f",
   "metadata": {},
   "outputs": [
    {
     "name": "stdout",
     "output_type": "stream",
     "text": [
      "506\n"
     ]
    }
   ],
   "source": [
    "with open (data_dir) as reader:\n",
    "    data=json.load(reader)\n",
    "with open (dev) as reader:\n",
    "    data2=json.load(reader)\n",
    "with open (train) as reader:\n",
    "    t=json.load(reader)\n",
    "    print(len(data))"
   ]
  },
  {
   "cell_type": "code",
   "execution_count": 70,
   "id": "10993e2a",
   "metadata": {},
   "outputs": [
    {
     "data": {
      "text/plain": [
       "{'viewed_doc_titles': [\"Man's best friend\"],\n",
       " 'used_queries': [{'query': 'saying man best friend',\n",
       "   'results': [{'title': \"Man's best friend\",\n",
       "     'snippet': '&quot;<b>Man&#39;s best friend</b>&quot; is a common phrase about domestic dogs, referring to their \\nmillennia-long ... nor one that is devoted to me, nor one that seeks my protection, \\n<b>saying</b> that he is destitute, nor one that is afflicted, nor one that has come to me,&nbsp;...'},\n",
       "    {'title': 'List of proverbial phrases',\n",
       "     'snippet': 'Below is an alphabetical list of widely used and repeated proverbial phrases. \\nWhenever known, the origin of the phrase or proverb is noted. A proverbial \\nphrase or a proverbial expression is type of a conventional <b>saying</b> similar to \\nproverbs and transmitted by oral tradition. ... A chain is only as strong as its \\nweakest link; A dog is a <b>man&#39;s best friend</b>.'},\n",
       "    {'title': \"My Best Friend's Wedding\",\n",
       "     'snippet': 'My <b>Best Friend&#39;s</b> Wedding is a 1997 American romantic comedy film directed by \\nP.J. Hogan ... He suggested that Julianne be Michael&#39;s best <b>man</b>, but had to go \\nwith Scotty instead. ... &quot;I <b>Say</b> a Little Prayer (For You)&quot; – The Cast of My <b>Best</b> \\n<b>Friend&#39;s</b> Wedding; &quot;Suite From My <b>Best Friend&#39;s</b> Wedding&quot; – James Newton \\nHoward.'},\n",
       "    {'title': 'The Best Man Holiday',\n",
       "     'snippet': 'The Best <b>Man</b> Holiday is a 2013 American comedy-drama film written and \\ndirected by Malcolm ... His agent suggests he write a biography on his estranged \\n<b>best friend</b>, Lance, who is set to retire from football. ... Q reveals to both that he is \\ngetting married and wants Harper to be his best <b>man</b>, but not before <b>telling</b> \\nHarper that&nbsp;...'},\n",
       "    {'title': 'I Love You, Man',\n",
       "     'snippet': 'I Love You, <b>Man</b> is a 2009 American comedy film written and directed by John \\nHamburg, based on a script previously by Larry Levin. The film stars Paul Rudd \\nas a friendless <b>man</b> looking for a best <b>man</b> for his upcoming wedding. However, \\nhis new <b>best friend</b> (Jason Segel) is straining his relationship with ... USA Today \\ngave the film a glowing review, <b>stating</b> &quot;the movie works because&nbsp;...'},\n",
       "    {'title': 'Death of David Coughlin',\n",
       "     'snippet': 'David Coughlin was killed in 1999 in the desert of southern New Mexico, in the \\nUnited States, after he and Raffi Kodikian got lost while hiking. Kodikian later \\npleaded guilty to second-degree murder, <b>saying</b> that it had ... Kodikian and \\nCoughlin, <b>best friends</b> since college, were in their twenties and lived in Boston,&nbsp;...'},\n",
       "    {'title': 'Friend of Dorothy',\n",
       "     'snippet': 'In gay slang, a &quot;friend of Dorothy&quot; (FOD) is a gay <b>man</b>; and more broadly, any \\nLGBTQ person. The phrase dates back to at least World War II, when \\nhomosexual acts were illegal in the United States. <b>Stating</b> that, or asking if, \\nsomeone was a friend of Dorothy was a euphemism ... &quot;How to Be the <b>Best</b> \\n<b>Friend</b> of Dorothy in WeHo&quot;.'},\n",
       "    {'title': 'Made of Honor',\n",
       "     'snippet': 'Made of Honor is a 2008 American romantic comedy film directed by Paul \\nWeiland and written ... The plot follows a lifelong playboy who falls in love with \\nhis <b>best friend</b>, only to have her get engaged and ask him to be her maid of honor\\n. ... She concluded by explaining its release alongside Iron <b>Man saying</b>, &quot;Made of \\nHonor&nbsp;...'},\n",
       "    {'title': \"Rifleman's Creed\",\n",
       "     'snippet': 'This is my rifle. There are many like it, but this one is mine. My rifle is my <b>best</b> \\n<b>friend</b>. It is my life. I must master it as&nbsp;...'},\n",
       "    {'title': 'George Graham Vest',\n",
       "     'snippet': 'He is best known for his &quot;a <b>man&#39;s best friend</b>&quot; closing arguments from the trial in \\nwhich damages were sought for the killing of a dog named Old Drum on October\\n&nbsp;...'}]},\n",
       "  {'query': 'Where did the saying man best friend come from?',\n",
       "   'results': [{'title': \"Man's best friend\",\n",
       "     'snippet': '&quot;<b>Man&#39;s best friend</b>&quot; is a common <b>phrase</b> about domestic dogs, referring to their \\nmillennia-long ... “As they [Eumaeus and Ulysses] were thus talking, a dog that \\n<b>had</b> been lying asleep raised his head and pricked up his ears. ... <b>saying</b> that he \\nis destitute, nor one that is afflicted, nor one that has <b>come</b> to me, nor one that is \\nweak&nbsp;...'},\n",
       "    {'title': 'List of proverbial phrases',\n",
       "     'snippet': 'Below is an alphabetical list of widely used and repeated proverbial <b>phrases</b>. \\nWhenever known ... A cat may look at a king; A chain is only as strong as its \\nweakest link; A dog is a <b>man&#39;s best friend</b>. A fool and ... This <b>saying comes from</b> \\nan English proverbial rhyme, &quot;He who fights and runs away, may live to fight \\nanother day&quot;.'},\n",
       "    {'title': \"My Best Friend's Wedding\",\n",
       "     'snippet': 'My <b>Best Friend&#39;s</b> Wedding is a 1997 American romantic comedy film directed by \\nP.J. Hogan ... He suggested that Julianne be Michael&#39;s best <b>man</b>, but <b>had</b> to go \\nwith Scotty instead. ... &quot;I <b>Say</b> a Little Prayer (For You)&quot; – The Cast of My <b>Best</b> \\n<b>Friend&#39;s</b> Wedding; &quot;Suite From My ... &quot;Rupert Everett in &#39;Wedding:&#39; Here <b>comes</b> \\nthe star&quot;.'},\n",
       "    {'title': 'Friend of Dorothy',\n",
       "     'snippet': 'In gay slang, a &quot;<b>friend</b> of Dorothy&quot; (FOD) is a gay <b>man</b>; and more broadly, any \\nLGBTQ person. The <b>phrase</b> dates back to at least World War II, when \\nhomosexual acts were ... Some believe that it is <b>derived from</b> The Road to Oz (\\n1909), a sequel to the ... Her second husband Vincente Minnelli <b>had</b> speculation \\nfor years in the&nbsp;...'},\n",
       "    {'title': 'Some of My Best Friends',\n",
       "     'snippet': 'Some of My <b>Best Friends</b> is an American sitcom television series created by Marc \\nCherry and ... Macho Man; Me and Frankie Z ... I <b>had</b> friends from both \\ncommunities and I thought, if both these guys could talk to ... <b>saying</b>, &quot;Even if you \\nhappen to think of the <b>phrase</b> &#39;some of my <b>best friends</b> are gay,&#39; ... &quot;<b>Come Out</b> \\nLaughing&quot;.'},\n",
       "    {'title': 'The Best Man Holiday',\n",
       "     'snippet': 'The Best <b>Man</b> Holiday is a 2013 American comedy-drama film written and \\ndirected by Malcolm ... His agent suggests he write a biography on his estranged \\n<b>best friend</b>, Lance, who is set to retire from football. Harper ... That&#39;s all I&#39;ll <b>say</b>… ... \\nThe Best <b>Man</b> Holiday <b>did</b> even better the next day earning $12.4 million on \\nSaturday.'},\n",
       "    {'title': 'Death of David Coughlin',\n",
       "     'snippet': 'David Coughlin was killed in 1999 in the desert of southern New Mexico, in the \\nUnited States, after he and Raffi Kodikian got lost while hiking. Kodikian later \\npleaded guilty to second-degree murder, <b>saying</b> that it <b>had</b> ... Kodikian and \\nCoughlin, <b>best friends</b> since college, were in their twenties and lived in Boston,&nbsp;...'},\n",
       "    {'title': \"My Best Friend's Girl (song)\",\n",
       "     'snippet': '&quot;My <b>Best Friend&#39;s</b> Girl&quot; is a song by American rock band the Cars from their 1978 \\nself-titled ... Ocasek later said the lyrics were not inspired by any personal \\nincident, <b>saying</b> &quot;Nothing in that ... So I pulled out the lyrics someone <b>had</b> typed \\nup and added a chorus in the margin in pen: &#39;She&#39;s my <b>best friend&#39;s</b> girl/She&#39;s my \\nbest&nbsp;...'},\n",
       "    {'title': 'George Graham Vest',\n",
       "     'snippet': 'George Graham Vest (December 6, 1830 – August 9, 1904) was a U.S. politician. \\nBorn in ... He is best known for his &quot;a <b>man&#39;s best friend</b>&quot; closing arguments from \\nthe trial in ... a foxhound named Drum (or Old Drum), <b>had</b> been killed by a sheep \\nfarmer, ... Although the <b>origin</b> of the <b>phrase</b> &quot;history is written by the victors&quot; is not\\n&nbsp;...'},\n",
       "    {'title': 'Best friends forever',\n",
       "     'snippet': '&quot;<b>Best friends</b> forever&quot; (&quot;BFF&quot;) is a <b>phrase</b> that describes a <b>close friendship</b>. \\nContents. 1 Definition; 2 <b>Origin</b>; 3 Cultural perception; 4 In the media; 5 Academic\\n&nbsp;...'}]}],\n",
       " 'annotations': [{'type': 'multipleQAs',\n",
       "   'qaPairs': [{'question': \"What was the first instance of the saying man's best friend?\",\n",
       "     'answer': ['Frederick the Great of Prussia']},\n",
       "    {'question': \"Where did the popularity of the saying man's best friend come from?\",\n",
       "     'answer': ['a poem by Ogden Nash']}]}],\n",
       " 'nq_answer': ['Frederick the Great of Prussia'],\n",
       " 'id': '-8080892130396390822',\n",
       " 'nq_doc_title': \"Man's best friend (phrase)\",\n",
       " 'question': 'Where did the saying man best friend come from?',\n",
       " 'clarification_question': \"Could you clarify 'where'--'what was the first instance of man 's best friend' or 'the popularity of man 's best friend'?\",\n",
       " 'clarification_answers': [['Frederick the Great of Prussia'],\n",
       "  ['a poem by Ogden Nash']]}"
      ]
     },
     "execution_count": 70,
     "metadata": {},
     "output_type": "execute_result"
    }
   ],
   "source": [
    "data2[10]"
   ]
  },
  {
   "cell_type": "markdown",
   "id": "18686b58",
   "metadata": {},
   "source": [
    "### Dev ['viewed_doc_titles', 'used_queries', 'annotations', 'nq_answer', 'id', 'nq_doc_title', 'question', 'clarification_question', 'clarification_answers']"
   ]
  },
  {
   "cell_type": "markdown",
   "id": "e5e27e15",
   "metadata": {},
   "source": [
    "### psg_sel_cambignq_dev_2020 --> 각 data 당 related passage id 100개씩"
   ]
  },
  {
   "cell_type": "code",
   "execution_count": 11,
   "id": "3d159270",
   "metadata": {},
   "outputs": [
    {
     "data": {
      "text/plain": [
       "{'annotations': [{'type': 'multipleQAs',\n",
       "   'qaPairs': [{'question': 'Who is the 4th chairman of african union commission?',\n",
       "     'answer': ['Moussa Faki', 'Moussa Faki Mahamat']},\n",
       "    {'question': 'Who is the 3rd chairman of african union commission?',\n",
       "     'answer': ['Nkosazana Clarice Dlamini-Zuma', 'Nkosazana Dlamini-Zuma']},\n",
       "    {'question': 'Who is the 2nd chairman of african union commission?',\n",
       "     'answer': ['Jean Ping']}]},\n",
       "  {'type': 'multipleQAs',\n",
       "   'qaPairs': [{'question': 'Who became the chairman of african union commission in 2017?',\n",
       "     'answer': ['Moussa Faki', 'Moussa Faki Mahamat']},\n",
       "    {'question': 'Who became the chairman of african union commission in 2012?',\n",
       "     'answer': ['Nkosazana Clarice Dlamini-Zuma',\n",
       "      'Nkosazana Dlamini-Zuma',\n",
       "      'NDZ']},\n",
       "    {'question': 'Who became the chairman of african union commission in 2008?',\n",
       "     'answer': ['Jean Ping']}]}],\n",
       " 'id': '5780388869788119926',\n",
       " 'question': 'Who is the current chairman of african union commission?'}"
      ]
     },
     "execution_count": 11,
     "metadata": {},
     "output_type": "execute_result"
    }
   ],
   "source": [
    "t[6]"
   ]
  },
  {
   "cell_type": "code",
   "execution_count": 21,
   "id": "551035e4",
   "metadata": {},
   "outputs": [
    {
     "data": {
      "text/plain": [
       "[{'type': 'multipleQAs',\n",
       "  'qaPairs': [{'question': 'What party took control of the Italian government in 1922?',\n",
       "    'answer': ['National Fascist Party']},\n",
       "   {'question': 'What leader took control of the Italian government in 1922?',\n",
       "    'answer': ['Benito Mussolini']},\n",
       "   {'question': 'What faction took control of the Italian government in 1922?',\n",
       "    'answer': ['Italian fascists']}]},\n",
       " {'type': 'multipleQAs',\n",
       "  'qaPairs': [{'question': 'Who is the party that took control of the italian government in 1922?',\n",
       "    'answer': ['National Fascist Party', 'PNF', 'Partito Nazionale Fascista']},\n",
       "   {'question': 'Who is the prime minister that took control of the italian government in 1922?',\n",
       "    'answer': ['Benito Mussolini', 'Benito Amilcare Andrea Mussolini']}]}]"
      ]
     },
     "execution_count": 21,
     "metadata": {},
     "output_type": "execute_result"
    }
   ],
   "source": [
    "data[1]['annotations']"
   ]
  },
  {
   "cell_type": "code",
   "execution_count": 18,
   "id": "a44eb92d",
   "metadata": {},
   "outputs": [],
   "source": [
    "new_data=[]"
   ]
  },
  {
   "cell_type": "code",
   "execution_count": 22,
   "id": "43aba9fb",
   "metadata": {},
   "outputs": [],
   "source": [
    "new_data.append(data[1])"
   ]
  },
  {
   "cell_type": "code",
   "execution_count": 39,
   "id": "d22e5ec6",
   "metadata": {},
   "outputs": [],
   "source": [
    "new_data.append(data2[2])"
   ]
  },
  {
   "cell_type": "code",
   "execution_count": 43,
   "id": "2aa0e897",
   "metadata": {},
   "outputs": [],
   "source": [
    "new_data.append(data2[3])"
   ]
  },
  {
   "cell_type": "code",
   "execution_count": 45,
   "id": "d55980ed",
   "metadata": {},
   "outputs": [],
   "source": [
    "new_data.append(data[2])"
   ]
  },
  {
   "cell_type": "code",
   "execution_count": 101,
   "id": "81f48899",
   "metadata": {},
   "outputs": [
    {
     "data": {
      "text/plain": [
       "4"
      ]
     },
     "execution_count": 101,
     "metadata": {},
     "output_type": "execute_result"
    }
   ],
   "source": [
    "len(new_data)"
   ]
  },
  {
   "cell_type": "code",
   "execution_count": 106,
   "id": "b7c369c8",
   "metadata": {},
   "outputs": [],
   "source": [
    "new_data[0]['clarification_question']=\"Which one: party, leader, or faction?\""
   ]
  },
  {
   "cell_type": "code",
   "execution_count": 111,
   "id": "df22fbdb",
   "metadata": {},
   "outputs": [],
   "source": [
    "new_data[1]['clarification_question']=\"Which season? season 1, season 2, original, or China Girl?\""
   ]
  },
  {
   "cell_type": "code",
   "execution_count": 112,
   "id": "804c4d14",
   "metadata": {},
   "outputs": [],
   "source": [
    "new_data[2]['clarification_question']=\"For which grenade? World War I fragmentation grenade, updated World War I fragmentation grenade, WWI stick grenade, US ET-MP grenade, Mills bomb grenade prior to 1940, Mills bomb grenade after 1940, WWII era thermite?\""
   ]
  },
  {
   "cell_type": "code",
   "execution_count": 114,
   "id": "cc5e76c5",
   "metadata": {},
   "outputs": [],
   "source": [
    "new_data[3]['clarification_question']=\"For which year? 2010, 2007, current, or plans?\""
   ]
  },
  {
   "cell_type": "code",
   "execution_count": 116,
   "id": "ff588503",
   "metadata": {},
   "outputs": [],
   "source": [
    "with open('example.json', 'r') as f:\n",
    "    d=json.load(f)"
   ]
  },
  {
   "cell_type": "code",
   "execution_count": 131,
   "id": "fc0b8d3b",
   "metadata": {},
   "outputs": [
    {
     "data": {
      "text/plain": [
       "'Which one: party, leader, or faction?'"
      ]
     },
     "execution_count": 131,
     "metadata": {},
     "output_type": "execute_result"
    }
   ],
   "source": [
    "d[0]['clarification_question']"
   ]
  },
  {
   "cell_type": "code",
   "execution_count": 127,
   "id": "fc4977ac",
   "metadata": {},
   "outputs": [
    {
     "data": {
      "text/plain": [
       "{'type': 'multipleQAs',\n",
       " 'qaPairs': [{'question': \"How many jimmy john's are there in the world as of October 2018?\",\n",
       "   'answer': ['more than 2,800', 'almost 3,000']},\n",
       "  {'question': \"How many jimmy john's are there in the world in 2010?\",\n",
       "   'answer': ['thousand']},\n",
       "  {'question': \"How many jimmy john's are there in the world in 2007?\",\n",
       "   'answer': ['five-hundred']},\n",
       "  {'question': \"How many jimmy john's are there plans for in the world?\",\n",
       "   'answer': ['5,000 and beyond']}]}"
      ]
     },
     "execution_count": 127,
     "metadata": {},
     "output_type": "execute_result"
    }
   ],
   "source": [
    "d[3]['annotations'][0]"
   ]
  },
  {
   "cell_type": "code",
   "execution_count": 55,
   "id": "ca3c0ae5",
   "metadata": {},
   "outputs": [],
   "source": [
    "data_dir = \"/home/donaldo9603/workspace/checkpoint/cambignq/data/llm_cq_dev.json\""
   ]
  },
  {
   "cell_type": "code",
   "execution_count": 56,
   "id": "8ec2a39e",
   "metadata": {},
   "outputs": [],
   "source": [
    "with open(data_dir) as f:\n",
    "    data=json.load(f)"
   ]
  },
  {
   "cell_type": "code",
   "execution_count": 57,
   "id": "425db48a",
   "metadata": {},
   "outputs": [],
   "source": [
    "anns=utils.json_to_dataset(data)"
   ]
  },
  {
   "cell_type": "code",
   "execution_count": 58,
   "id": "9123bf83",
   "metadata": {},
   "outputs": [
    {
     "name": "stdout",
     "output_type": "stream",
     "text": [
      "{'aq': 'Who is the current chairman of african union commission?', 'dqs': ['Who is the 4th chairman of african union commission?', 'Who is the 3rd chairman of african union commission?', 'Who is the 2nd chairman of african union commission?'], 'answers': [['Moussa Faki', 'Moussa Faki Mahamat'], ['Nkosazana Clarice Dlamini-Zuma', 'Nkosazana Dlamini-Zuma'], ['Jean Ping']], 'viewed_doc_titles': ['Chairperson of the African Union Commission', 'African Union Commission'], 'gold_passages': [['Chairperson of the African Union Commission', 'The Chairperson of the <b>African Union Commission</b> is the head of the <b>African</b> \\n<b>Union Commission</b>. On January 30, 2017, it was announced that France&#39;s \\nMoussa&nbsp;...'], ['African Union Commission', 'The <b>Commission</b> of the <b>African Union</b> acts as the executive/administrative branch \\nor secretariat of the <b>AU</b> It consists of a number of Commissioners dealing with&nbsp;...']], 'orig_idx': 0}\n",
      "{'viewed_doc_titles': ['Chairperson of the African Union Commission', 'African Union Commission'], 'used_queries': [{'query': 'chairman of african union commission', 'results': [{'title': 'Chairperson of the African Union Commission', 'snippet': 'The <b>Chairperson</b> of the <b>African Union Commission</b> is the head of the <b>African</b> \\n<b>Union Commission</b>. On January 30, 2017, it was announced that France&#39;s \\nMoussa&nbsp;...'}, {'title': 'African Union Commission', 'snippet': 'The <b>Commission</b> of the <b>African Union</b> acts as the executive/administrative branch \\nor secretariat ... Moussa Faki is <b>Chairman</b> of the <b>Commission</b>, replacing \\nNkosazana Dlamini-Zuma in January 2017. Thomas Kwesi Quartey is Deputy \\n<b>Chairman</b>.'}, {'title': 'Chairperson of the African Union', 'snippet': 'The <b>Chairperson</b> of the <b>African Union</b> is the ceremonial head of the <b>African Union</b> \\nelected by ... Addis Ababa: Directorate of Information and Communication, \\n<b>African Union Commission</b>. 29 January 2012. ^ Stainburn, Samantha (28 \\nJanuary&nbsp;...'}, {'title': 'African Union', 'snippet': 'Selection of the <b>chairperson</b>[edit]. In 2006, the <b>AU</b> decided to create a <b>Committee</b> \\n&quot;to consider the implementation of a&nbsp;...'}, {'title': 'Moussa Faki', 'snippet': 'Moussa Faki Mahamat is a Chadian politician and diplomat who has been \\n<b>Chairperson</b> of the <b>African Union Commission</b> since 14 March 2017. Previously \\nhe&nbsp;...'}, {'title': 'Jean Ping', 'snippet': 'Ping was elected <b>Chairperson</b> of the <b>Commission</b> of the <b>African Union</b> in the first \\nround in 2008. He left the role in 2012. Ping has represented Gabon several \\ntimes&nbsp;...'}, {'title': 'Assembly of the African Union', 'snippet': '... the Executive Council, consisting of foreign ministers of the <b>AU</b> members states\\n; and the <b>African Union Commission</b>. The <b>Chairperson</b> of the Assembly has few&nbsp;...'}, {'title': 'Nkosazana Dlamini-Zuma', 'snippet': 'On 30 January 2017, she was replaced as <b>Chairperson</b> of the <b>AU Commission</b> by \\nChadian Foreign Minister Moussa Faki. She ran for the position of President of&nbsp;...'}, {'title': 'Thomas Kwesi Quartey', 'snippet': 'Thomas Kwesi Quartey born December 17, 1950 is a Ghanaian diplomat who \\nhas been Vice <b>Chairperson of African Union Commission</b> since January 30, 2017\\n&nbsp;...'}, {'title': 'African Union High Representative for Infrastructure Development ...', 'snippet': 'The <b>African Union</b> High Representative for Infrastructure Development post was \\ncreated in October 2018 by the <b>African Union Commission Chair</b> Moussa Faki&nbsp;...'}]}, {'query': 'african union commission', 'results': [{'title': 'African Union Commission', 'snippet': 'The <b>Commission</b> of the <b>African Union</b> acts as the executive/administrative branch \\nor secretariat of the <b>AU</b> It consists of a number of Commissioners dealing with&nbsp;...'}, {'title': 'African Union', 'snippet': 'The <b>AU Commission</b>, the secretariat to the political structures, is chaired by \\nNkosazana Dlamini-Zuma of South Africa. On 15 July 2012, Ms. Dlamini-Zuma \\nwon a&nbsp;...'}, {'title': 'Chairperson of the African Union Commission', 'snippet': 'The Chairperson of the <b>African Union Commission</b> is the head of the <b>African</b> \\n<b>Union Commission</b>. On January 30, 2017, it was announced that France&#39;s \\nMoussa&nbsp;...'}, {'title': 'Category:African Union Commission', 'snippet': 'Pages in category &quot;<b>African Union Commission</b>&quot;. The following 2 pages are in this \\ncategory, out of 2 total. This list may not reflect recent changes (learn more).'}, {'title': 'African Union High Representative for Infrastructure Development ...', 'snippet': 'The African Union High Representative for Infrastructure Development post was \\ncreated in October 2018 by the <b>African Union Commission</b> Chair Moussa Faki&nbsp;...'}, {'title': \"African Commission on Human and Peoples' Rights\", 'snippet': 'Although its authority rests on its own treaty, the African Charter, the <b>Commission</b> \\nreports to the Assembly of Heads of State and Government of the <b>African Union</b> (\\n&nbsp;...'}, {'title': 'AU Conference Center and Office Complex', 'snippet': 'The AU Conference Center and Office Complex (AUCC) is a building in Addis \\nAbaba, Ethiopia. ... Moussa Faki Mahamat, head of the <b>African Union</b> \\n<b>Commission</b>, said the allegations in the Le Monde&#39;s report were false. &quot;These are \\ntotally false&nbsp;...'}, {'title': 'Moussa Faki', 'snippet': 'Moussa Faki Mahamat is a Chadian politician and diplomat who has been \\nChairperson of the <b>African Union Commission</b> since 14 March 2017. Previously \\nhe&nbsp;...'}, {'title': 'Chairperson of the African Union', 'snippet': 'The Chairperson of the African Union is the ceremonial head of the African Union \\nelected by ... Addis Ababa: Directorate of Information and Communication, \\n<b>African Union Commission</b>. 29 January 2012. ^ Stainburn, Samantha (28 \\nJanuary&nbsp;...'}, {'title': 'Flag of the African Union', 'snippet': 'The proposals were then examined by a panel of experts put in place by the \\n<b>African Union Commission</b> and selected from the five African regions for short \\nlisting&nbsp;...'}]}], 'annotations': [{'type': 'multipleQAs', 'qaPairs': [{'question': 'Who is the 4th chairman of african union commission?', 'answer': ['Moussa Faki', 'Moussa Faki Mahamat']}, {'question': 'Who is the 3rd chairman of african union commission?', 'answer': ['Nkosazana Clarice Dlamini-Zuma', 'Nkosazana Dlamini-Zuma']}, {'question': 'Who is the 2nd chairman of african union commission?', 'answer': ['Jean Ping']}]}, {'type': 'multipleQAs', 'qaPairs': [{'question': 'Who became the chairman of african union commission in 2017?', 'answer': ['Moussa Faki', 'Moussa Faki Mahamat']}, {'question': 'Who became the chairman of african union commission in 2012?', 'answer': ['Nkosazana Clarice Dlamini-Zuma', 'Nkosazana Dlamini-Zuma', 'NDZ']}, {'question': 'Who became the chairman of african union commission in 2008?', 'answer': ['Jean Ping']}]}], 'nq_answer': ['Moussa Faki'], 'id': '5780388869788119926', 'nq_doc_title': 'Chairperson of the African Union Commission', 'question': 'Who is the current chairman of african union commission?', 'clarification_answers': [['Moussa Faki', 'Moussa Faki Mahamat'], ['Nkosazana Clarice Dlamini-Zuma', 'Nkosazana Dlamini-Zuma'], ['Jean Ping']], 'original_clarification_question': \"Could you clarify 'the current chairman'--'4th', '3rd', or '2nd'?\", 'clarification_question': ' Which chairman: 4th, 3rd, or 2nd?'}\n"
     ]
    }
   ],
   "source": [
    "print(anns[0])\n",
    "print(data[0])"
   ]
  },
  {
   "cell_type": "code",
   "execution_count": 59,
   "id": "a9ed311a",
   "metadata": {},
   "outputs": [
    {
     "data": {
      "text/plain": [
       "dict_keys(['aq', 'dqs', 'answers', 'viewed_doc_titles', 'gold_passages', 'orig_idx'])"
      ]
     },
     "execution_count": 59,
     "metadata": {},
     "output_type": "execute_result"
    }
   ],
   "source": [
    "anns[0].keys()"
   ]
  },
  {
   "cell_type": "code",
   "execution_count": 60,
   "id": "0f1751d1",
   "metadata": {},
   "outputs": [],
   "source": [
    "data_dir = \"/home/donaldo9603/workspace/checkpoint/cambignq/data/preprocessed_data/revised_dev_sw.json\""
   ]
  },
  {
   "cell_type": "code",
   "execution_count": 61,
   "id": "848b8fb0",
   "metadata": {},
   "outputs": [],
   "source": [
    "with open (data_dir) as r:\n",
    "    revised=json.load(r)"
   ]
  },
  {
   "cell_type": "code",
   "execution_count": 66,
   "id": "7c9b5c3e",
   "metadata": {},
   "outputs": [
    {
     "data": {
      "text/plain": [
       "48"
      ]
     },
     "execution_count": 66,
     "metadata": {},
     "output_type": "execute_result"
    }
   ],
   "source": [
    "len(revised.keys())"
   ]
  },
  {
   "cell_type": "code",
   "execution_count": 65,
   "id": "bdf392cc",
   "metadata": {},
   "outputs": [
    {
     "data": {
      "text/plain": [
       "{'cq': ' Which version: the video game, Ultra Adventures episode 997, Ultra Adventures episode 996, Ultra Adventures episode 995, Ultra Legends episode (in English), or Ultra Legends episode (originally)?',\n",
       " 'exclude_dq_idx': []}"
      ]
     },
     "execution_count": 65,
     "metadata": {},
     "output_type": "execute_result"
    }
   ],
   "source": [
    "revised['50']"
   ]
  },
  {
   "cell_type": "code",
   "execution_count": 63,
   "id": "0db993d9",
   "metadata": {},
   "outputs": [],
   "source": [
    "for idx, d in enumerate(data):\n",
    "    if str(idx) in revised.keys():\n",
    "        d['llm_clarification_question']= d['clarification_question']\n",
    "        d['clarification_question']= revised[str(idx)]['cq']\n",
    "    else:\n",
    "        d['llm_clarification_question']= d['clarification_question'] "
   ]
  },
  {
   "cell_type": "code",
   "execution_count": 64,
   "id": "545619fa",
   "metadata": {},
   "outputs": [
    {
     "data": {
      "text/plain": [
       "{'viewed_doc_titles': ['List of Pokémon the Series: Sun & Moon – Ultra Adventures episodes',\n",
       "  'Pokémon Ultra Sun and Ultra Moon',\n",
       "  'List of Pokémon the Series: Sun & Moon – Ultra Legends episodes ...'],\n",
       " 'used_queries': [{'query': 'When does pokemon ultra sun and moon come out?',\n",
       "   'results': [{'title': 'Pokémon Ultra Sun and Ultra Moon',\n",
       "     'snippet': 'Prior to <b>release</b>, both games were among the most highly anticipated titles for the \\nNintendo 3DS in 2017, according to Nielsen. Critical reception[edit]. Reception&nbsp;...'},\n",
       "    {'title': 'Pokémon Sun and Moon',\n",
       "     'snippet': '<b>Pokémon</b> Sun and <b>Pokémon Moon</b> are 2016 role-playing video games \\ndeveloped by Game ... Two follow-up games, <b>Pokémon Ultra Sun</b> and <b>Pokémon</b> \\nUltra <b>Moon</b>, were ... Upon <b>release</b>, the games became one of the fastest-selling \\ngames in ... Though Professor Oak <b>does</b> not appear in <b>Sun and Moon</b>, his cousin \\nSamson&nbsp;...'},\n",
       "    {'title': 'List of Pokémon the Series: Sun & Moon – Ultra Legends episodes ...',\n",
       "     'snippet': '<b>Release</b>. Original network, TV Tokyo. Original <b>release</b>, October 21, 2018 (2018-\\n10-21) – ... The twenty-second season of the <b>Pokémon</b> animated series, and the \\n... is titled <b>Pokémon</b> the Series: <b>Sun</b> &amp; <b>Moon</b> – <b>Ultra</b> Legends internationally, and \\n... him that the electrical energy around Vast Poni Canyon will allow him to <b>do</b> so.'},\n",
       "    {'title': 'List of Pokémon the Series: Sun & Moon – Ultra Adventures episodes',\n",
       "     'snippet': '<b>Release</b>. Original network, TV Tokyo. Original <b>release</b>, October 5, 2017 (2017-10\\n-05) – ... The opening for the English dub is “Under the Alolan <b>Moon</b>” by \\ncomposer Ed ... so <b>do</b> Lusamine&#39;s <b>Pokémon</b>, who are also under the <b>Ultra</b> Beast&#39;s \\ncontrol.'},\n",
       "    {'title': 'Pokémon (video game series)',\n",
       "     'snippet': '<b>Pokémon</b> is a series of video games developed by Game Freak and published by \\nNintendo ... On June 6, 2017, <b>Pokémon Ultra Sun</b> and Ultra <b>Moon</b> were \\nannounced. The two ... Let&#39;s Go, Pikachu! and <b>Pokémon</b>: Let&#39;s Go, Eevee! it was \\nconfirmed that another core <b>Pokémon</b> role-playing game <b>would be released</b> in \\nlate 2019.'},\n",
       "    {'title': 'Mimikyu',\n",
       "     'snippet': 'In <b>Pokémon Ultra Sun</b> and Ultra <b>Moon</b>, Mimikyu was given an exclusive Z-move \\ncalled Let&#39;s Snuggle Forever, a Fairy-type move that requires Mimikyu to know&nbsp;...'},\n",
       "    {'title': 'List of Pokémon video games',\n",
       "     'snippet': '2017, <b>Ultra Sun</b> and Ultra <b>Moon</b>. 2018, Let&#39;s Go, Pikachu! and Let&#39;s Go, Eevee! \\n2019, Sword and Shield &middot; <b>Pokémon</b> is a series of role-playing video games \\ndeveloped by Game Freak and published by ... The official logo of Pokémon for \\nits international release; &quot;Pokémon&quot; is short for the original Japanese title of &quot;\\nPocket&nbsp;...'},\n",
       "    {'title': 'List of generation VII Pokémon',\n",
       "     'snippet': 'A third form, Dusk Form, is exclusive to <b>Ultra Sun</b> and Ultra <b>Moon</b>. Wishiwashi, \\nYowashi (ヨワシ), 746, Water, <b>Does</b> not evolve, Totem <b>Pokémon</b> in Lana&#39;s Trial&nbsp;...'},\n",
       "    {'title': 'Lillie (Pokémon)',\n",
       "     'snippet': 'Lillie is the central character in the 2016 video game <b>Pokémon Sun and Moon</b>. ... \\nShe later appears in <b>Pokémon Ultra Sun</b> and Ultra <b>Moon</b>, where she has a ... \\nworks to overcome her limitations and <b>comes out</b> of her tribulations stronger. ... to \\nthe <b>Sun and Moon</b> games <b>would</b> star Lillie in the setting of <b>Pokémon</b> Red and \\nBlue.'},\n",
       "    {'title': 'Pokémon',\n",
       "     'snippet': '<b>Pokémon</b> also known as Pocket Monsters in Japan, is a Japanese media \\nfranchise managed ... Excluding <b>Pokémon Sun and Moon</b> and <b>Pokémon Ultra</b> \\n<b>Sun</b> and Ultra <b>Moon</b>, ... These generations are roughly chronological divisions by \\n<b>release</b>; every ... If they <b>do</b> not succeed in capturing that <b>Pokémon</b>, there are no \\nsecond&nbsp;...'}]}],\n",
       " 'annotations': [{'type': 'multipleQAs',\n",
       "   'qaPairs': [{'question': 'When does pokemon ultra sun and moon video game come out?',\n",
       "     'answer': ['17 November 2017']},\n",
       "    {'question': 'When does pokemon ultra sun and moon - Ultra Adventures episode 997 come out originally?',\n",
       "     'answer': ['December 28, 2017']},\n",
       "    {'question': 'When does pokemon ultra sun and moon - Ultra Adventures episode 996 come out originally?',\n",
       "     'answer': ['December 21, 2017']},\n",
       "    {'question': 'When does pokemon ultra sun and moon - Ultra Adventures episode 995 come out originally?',\n",
       "     'answer': ['December 14, 2017']},\n",
       "    {'question': 'When does the first pokemon ultra sun and moon - Ultra Legends episode come out in English?',\n",
       "     'answer': ['March 23, 2019']},\n",
       "    {'question': 'When does the first pokemon ultra sun and moon - Ultra Legends episode come out originally?',\n",
       "     'answer': ['October 21, 2018']}]}],\n",
       " 'nq_answer': ['17 November 2017'],\n",
       " 'id': '-3487913752502088582',\n",
       " 'nq_doc_title': 'Pokémon Ultra Sun and Ultra Moon',\n",
       " 'question': 'When does pokemon ultra sun and moon come out?',\n",
       " 'clarification_answers': [['17 November 2017'],\n",
       "  ['December 28, 2017'],\n",
       "  ['December 21, 2017'],\n",
       "  ['December 14, 2017'],\n",
       "  ['March 23, 2019'],\n",
       "  ['October 21, 2018']],\n",
       " 'original_clarification_question': \"Could you clarify 'ultra sun and moon'--'video game', '- ultra adventures episode 997 originally', '- ultra adventures episode 996 originally', '- ultra adventures episode 995 originally', 'the first - ultra legends episode in english', or 'the first - ultra legends episode originally'?\",\n",
       " 'clarification_question': ' Which version: the video game, Ultra Adventures episode 997, Ultra Adventures episode 996, Ultra Adventures episode 995, Ultra Legends episode (in English), or Ultra Legends episode (originally)?',\n",
       " 'llm_clarification_question': ' Which version: the video game, Ultra Adventures episode 997, Ultra Adventures episode 996, Ultra Adventures episode 995, Ultra Legends episode (in English), or Ultra Legends episode (originally)?'}"
      ]
     },
     "execution_count": 64,
     "metadata": {},
     "output_type": "execute_result"
    }
   ],
   "source": [
    "data[50]"
   ]
  },
  {
   "cell_type": "code",
   "execution_count": 47,
   "id": "9ec9b450",
   "metadata": {},
   "outputs": [
    {
     "data": {
      "text/plain": [
       "{'cq': ' Which version: the video game, Ultra Adventures episode 997, Ultra Adventures episode 996, Ultra Adventures episode 995, Ultra Legends episode (in English), or Ultra Legends episode (originally)?',\n",
       " 'exclude_dq_idx': []}"
      ]
     },
     "execution_count": 47,
     "metadata": {},
     "output_type": "execute_result"
    }
   ],
   "source": [
    "revised['50']"
   ]
  },
  {
   "cell_type": "code",
   "execution_count": 32,
   "id": "17bbc6b2",
   "metadata": {},
   "outputs": [
    {
     "data": {
      "text/plain": [
       "{'cq': ' Which character: Mark Healy or Mark Conner-Healy?',\n",
       " 'exclude_dq_idx': []}"
      ]
     },
     "execution_count": 32,
     "metadata": {},
     "output_type": "execute_result"
    }
   ],
   "source": [
    "revised['51']"
   ]
  },
  {
   "cell_type": "code",
   "execution_count": null,
   "id": "469d26df",
   "metadata": {},
   "outputs": [],
   "source": []
  }
 ],
 "metadata": {
  "kernelspec": {
   "display_name": "Python [conda:.conda-cambignq]",
   "language": "python",
   "name": "conda-env-.conda-cambignq-py"
  },
  "language_info": {
   "codemirror_mode": {
    "name": "ipython",
    "version": 3
   },
   "file_extension": ".py",
   "mimetype": "text/x-python",
   "name": "python",
   "nbconvert_exporter": "python",
   "pygments_lexer": "ipython3",
   "version": "3.6.12"
  }
 },
 "nbformat": 4,
 "nbformat_minor": 5
}
