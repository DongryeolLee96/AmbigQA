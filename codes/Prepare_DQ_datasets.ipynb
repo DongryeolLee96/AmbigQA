{
 "cells": [
  {
   "cell_type": "code",
   "execution_count": 1,
   "metadata": {},
   "outputs": [],
   "source": [
    "%config Completer.use_jedi = False\n",
    "%matplotlib inline\n",
    "import CQ_utils as utils\n",
    "from pathlib import Path\n",
    "%load_ext autoreload\n",
    "%autoreload 2\n",
    "\n",
    "AmbigQA_dir = Path(\"/media/disk1/ksk5693/openQA/AmbigQA/\")\n",
    "predicted_cq_dir_path = AmbigQA_dir / \"out\" / \"ambignq-cq-gen\"\n",
    "AmbigNQ_data_path = AmbigQA_dir / \"data\" / \"ambigqa\" / \"dev_cq.json\"\n",
    "output_dir = AmbigQA_dir / \"data\" / \"ambigqa\""
   ]
  },
  {
   "cell_type": "markdown",
   "metadata": {},
   "source": [
    "# Add CQ to AmbigNQ"
   ]
  },
  {
   "cell_type": "code",
   "execution_count": 2,
   "metadata": {},
   "outputs": [],
   "source": [
    "predicted_cq_pathes = [path for path in predicted_cq_dir_path.iterdir()\n",
    "                       if \"json\" in path.name and \"Bart\" not in path.name]"
   ]
  },
  {
   "cell_type": "code",
   "execution_count": 3,
   "metadata": {},
   "outputs": [
    {
     "data": {
      "text/plain": [
       "[PosixPath('/media/disk1/ksk5693/openQA/AmbigQA/out/ambignq-cq-gen/dev_predictions.json'),\n",
       " PosixPath('/media/disk1/ksk5693/openQA/AmbigQA/out/ambignq-cq-gen/dev_predictions_without_answers.json')]"
      ]
     },
     "execution_count": 3,
     "metadata": {},
     "output_type": "execute_result"
    }
   ],
   "source": [
    "predicted_cq_pathes"
   ]
  },
  {
   "cell_type": "code",
   "execution_count": 4,
   "metadata": {},
   "outputs": [
    {
     "ename": "TypeError",
     "evalue": "argument of type 'PosixPath' is not iterable",
     "output_type": "error",
     "traceback": [
      "\u001b[0;31m---------------------------------------------------------------------------\u001b[0m",
      "\u001b[0;31mTypeError\u001b[0m                                 Traceback (most recent call last)",
      "\u001b[0;32m<ipython-input-4-7d04f895b389>\u001b[0m in \u001b[0;36m<module>\u001b[0;34m\u001b[0m\n\u001b[1;32m      1\u001b[0m \u001b[0;32mfor\u001b[0m \u001b[0mpredicted_cq_path\u001b[0m \u001b[0;32min\u001b[0m \u001b[0mpredicted_cq_pathes\u001b[0m\u001b[0;34m:\u001b[0m\u001b[0;34m\u001b[0m\u001b[0;34m\u001b[0m\u001b[0m\n\u001b[0;32m----> 2\u001b[0;31m     \u001b[0mutils\u001b[0m\u001b[0;34m.\u001b[0m\u001b[0mupdate_dqs_by_cq\u001b[0m\u001b[0;34m(\u001b[0m\u001b[0mAmbigNQ_data_path\u001b[0m\u001b[0;34m,\u001b[0m \u001b[0mpredicted_cq_path\u001b[0m\u001b[0;34m,\u001b[0m \u001b[0moutput_dir\u001b[0m\u001b[0;34m)\u001b[0m\u001b[0;34m\u001b[0m\u001b[0;34m\u001b[0m\u001b[0m\n\u001b[0m",
      "\u001b[0;32m~/from_github/AmbigQA/codes/CQ_utils.py\u001b[0m in \u001b[0;36mupdate_dqs_by_cq\u001b[0;34m(AmbigNQ_data_path, predicted_cq_path, output_dir)\u001b[0m\n\u001b[1;32m    823\u001b[0m     \u001b[0mpredicted_cq_path\u001b[0m \u001b[0;34m=\u001b[0m \u001b[0mPath\u001b[0m\u001b[0;34m(\u001b[0m\u001b[0mpredicted_cq_path\u001b[0m\u001b[0;34m)\u001b[0m\u001b[0;34m\u001b[0m\u001b[0;34m\u001b[0m\u001b[0m\n\u001b[1;32m    824\u001b[0m     \u001b[0moutput_dir\u001b[0m \u001b[0;34m=\u001b[0m \u001b[0mPath\u001b[0m\u001b[0;34m(\u001b[0m\u001b[0moutput_dir\u001b[0m\u001b[0;34m)\u001b[0m\u001b[0;34m\u001b[0m\u001b[0;34m\u001b[0m\u001b[0m\n\u001b[0;32m--> 825\u001b[0;31m     \u001b[0;32massert\u001b[0m \u001b[0;34m\"dev\"\u001b[0m \u001b[0;32min\u001b[0m \u001b[0mAmbigNQ_data_path\u001b[0m\u001b[0;34m\u001b[0m\u001b[0;34m\u001b[0m\u001b[0m\n\u001b[0m\u001b[1;32m    826\u001b[0m     \u001b[0;32massert\u001b[0m \u001b[0;34m\"dev\"\u001b[0m \u001b[0;32min\u001b[0m \u001b[0mpredicted_cq_path\u001b[0m\u001b[0;34m\u001b[0m\u001b[0;34m\u001b[0m\u001b[0m\n\u001b[1;32m    827\u001b[0m \u001b[0;34m\u001b[0m\u001b[0m\n",
      "\u001b[0;31mTypeError\u001b[0m: argument of type 'PosixPath' is not iterable"
     ]
    }
   ],
   "source": [
    "for predicted_cq_path in predicted_cq_pathes:\n",
    "    utils.update_dqs_by_cq(AmbigNQ_data_path, predicted_cq_path, output_dir)"
   ]
  },
  {
   "cell_type": "code",
   "execution_count": null,
   "metadata": {},
   "outputs": [],
   "source": []
  }
 ],
 "metadata": {
  "kernelspec": {
   "display_name": "Python 3",
   "language": "python",
   "name": "python3"
  },
  "language_info": {
   "codemirror_mode": {
    "name": "ipython",
    "version": 3
   },
   "file_extension": ".py",
   "mimetype": "text/x-python",
   "name": "python",
   "nbconvert_exporter": "python",
   "pygments_lexer": "ipython3",
   "version": "3.6.12"
  }
 },
 "nbformat": 4,
 "nbformat_minor": 2
}
