{
 "cells": [
  {
   "cell_type": "code",
   "execution_count": 1,
   "metadata": {},
   "outputs": [],
   "source": [
    "%config Completer.use_jedi = False\n",
    "%matplotlib inline\n",
    "from datasets import load_dataset, Dataset, concatenate_datasets\n",
    "from IPython.display import clear_output\n",
    "import csv\n",
    "import CQ_utils as utils\n",
    "import HIT_utils as hit\n",
    "from collections import Counter, defaultdict\n",
    "from pathlib import Path\n",
    "import pandas as pd\n",
    "import json, random\n",
    "from IPython.core.display import display, HTML\n",
    "%load_ext autoreload\n",
    "%autoreload 2\n",
    "results_root = Path(\"HIT_results\")\n",
    "path_ambignq = Path(\"/media/disk1/ksk5693/openQA/ambignq/ambignq_full\")  # or ambignq_light\n",
    "path_ambigqa = Path(\"/media/disk1/ksk5693/openQA/AmbigQA/\")"
   ]
  },
  {
   "cell_type": "markdown",
   "metadata": {},
   "source": [
    "arg_template = namedtuple('arg_template', 'debug ambigqa')\n",
    "args = arg_template(False, True)\n",
    "ambig_cqg_data = AmbigCQGData(logger, args, str(dev_data_path), is_training=False)\n",
    "tokenized_path = output_dir / \"dev_20200201_ambigqa_predictions_BartTokenized_cqg.json\""
   ]
  },
  {
   "cell_type": "code",
   "execution_count": 2,
   "metadata": {
    "scrolled": false
   },
   "outputs": [],
   "source": [
    "datafile = \"train.json\"\n",
    "json_file = open(path_ambignq / datafile, encoding=\"utf-8\")\n",
    "train_data = json.load(json_file)\n",
    "ds_train = utils.json_to_dataset(train_data)\n",
    "\n",
    "datafile = \"dev.json\"\n",
    "json_file = open(path_ambignq / datafile, encoding=\"utf-8\")\n",
    "dev_data = json.load(json_file)\n",
    "ds_dev = utils.json_to_dataset(dev_data)"
   ]
  },
  {
   "cell_type": "markdown",
   "metadata": {},
   "source": [
    "# Add CQ to AmbigNQ"
   ]
  },
  {
   "cell_type": "code",
   "execution_count": 3,
   "metadata": {},
   "outputs": [
    {
     "data": {
      "application/vnd.jupyter.widget-view+json": {
       "model_id": "225cf45510d34024b3886e86e602ec38",
       "version_major": 2,
       "version_minor": 0
      },
      "text/plain": [
       "  0%|          | 0/5921 [00:00<?, ?ex/s]"
      ]
     },
     "metadata": {},
     "output_type": "display_data"
    }
   ],
   "source": [
    "ds_all = concatenate_datasets([ds_train, ds_dev])\n",
    "ds_all = ds_all.map(hit.preprocess_for_hit)"
   ]
  },
  {
   "cell_type": "markdown",
   "metadata": {},
   "source": [
    "## 1. Revise Evidently Wrong CQ"
   ]
  },
  {
   "cell_type": "code",
   "execution_count": 4,
   "metadata": {},
   "outputs": [],
   "source": [
    "def check_validity(ex):\n",
    "    ans = ex['machine_cq']\n",
    "    temp = ans.split(\"--\")\n",
    "    if len(temp) != 2:\n",
    "        return False\n",
    "    if \"' or '\" in temp[-1]:\n",
    "        options = temp[-1].split(' or ')\n",
    "    else:\n",
    "        options = temp[-1].split(\"', '\")\n",
    "        options = options[:-1] + options[-1].split(\", or \")    \n",
    "    if len(options) != len(ex[\"dqs\"]):\n",
    "        return False\n",
    "    return True\n",
    "invalid_ids = [idx for idx, ex in enumerate(ds_all) if not check_validity(ex)]\n",
    "ds_ = ds_all.select(invalid_ids)"
   ]
  },
  {
   "cell_type": "markdown",
   "metadata": {},
   "source": [
    "### 1-1 Prepared annotations"
   ]
  },
  {
   "cell_type": "code",
   "execution_count": 5,
   "metadata": {},
   "outputs": [],
   "source": [
    "df = pd.read_csv(\"HIT_results/wrong_results.csv\")\n",
    "cur_idx = 0\n",
    "mapping = {}\n",
    "for idx, row in df.iterrows():\n",
    "    for idx2 in range(9):\n",
    "        while ds_[cur_idx][\"machine_cq\"] != row.get(f\"Input.machine_cq{idx2}\"):\n",
    "            ds_[cur_idx][\"machine_cq\"] = \"NONE\"\n",
    "            cur_idx += 1\n",
    "        mapping[cur_idx] = row.get(f\"Answer.human_cq{idx2}\")"
   ]
  },
  {
   "cell_type": "markdown",
   "metadata": {},
   "source": [
    "### 1-2 Additional annotations"
   ]
  },
  {
   "cell_type": "code",
   "execution_count": 6,
   "metadata": {},
   "outputs": [],
   "source": [
    "fault = {\n",
    "    9: \"Could you be more specific--'the name', 'the meaning of the name' or 'the name in eastern orthodox church tradition'?\",\n",
    "    10: \"Could you clarify 'what'--'west bank' or 'Gaza Strip'?\",    \n",
    "    11: \"Could you clarify 'dumb and dumber 2'--'the Second Dumb and Dumber movie' or 'Dumb and Dumber To'?\",    \n",
    "    12: \"Could you be more specific--'who' or 'what'?\",    \n",
    "    13: \"Could you be more specific--'where' or 'how many'?\",    \n",
    "    14: \"Could you clarify 'start'--'start in new zealand', 'first game', or 'end'?\",    \n",
    "    15: \"Could you clarify 'a group'--'a group' or 'called'?\",    \n",
    "    16: \"Could you clarify 'who'--'overall' or 'among presidents have died'?\",    \n",
    "    17: \"Could you clarifiy 'most own goals'--'in total' or 'in a season'\",    \n",
    "}\n",
    "mapping.update(fault)\n",
    "mapping_new = {}\n",
    "for k, v in mapping.items():\n",
    "    mapping_new[invalid_ids[k]] = v"
   ]
  },
  {
   "cell_type": "markdown",
   "metadata": {},
   "source": [
    "### 1-3 Overwrite CQs"
   ]
  },
  {
   "cell_type": "code",
   "execution_count": 7,
   "metadata": {},
   "outputs": [
    {
     "data": {
      "application/vnd.jupyter.widget-view+json": {
       "model_id": "b6f59b0de6734025b1e2ce50958fa768",
       "version_major": 2,
       "version_minor": 0
      },
      "text/plain": [
       "  0%|          | 0/5921 [00:00<?, ?ex/s]"
      ]
     },
     "metadata": {},
     "output_type": "display_data"
    }
   ],
   "source": [
    "def temp(x, idx):\n",
    "    x[\"machine_cq\"]=mapping_new.get(idx, x[\"machine_cq\"])\n",
    "    return x\n",
    "ds_all = ds_all.map(temp, with_indices=True)"
   ]
  },
  {
   "cell_type": "markdown",
   "metadata": {},
   "source": [
    "## 2. Split data into train and dev"
   ]
  },
  {
   "cell_type": "code",
   "execution_count": 8,
   "metadata": {},
   "outputs": [
    {
     "data": {
      "application/vnd.jupyter.widget-view+json": {
       "model_id": "329ae79b69a44557b24d12f9daefa5f3",
       "version_major": 2,
       "version_minor": 0
      },
      "text/plain": [
       "  0%|          | 0/5921 [00:00<?, ?ex/s]"
      ]
     },
     "metadata": {},
     "output_type": "display_data"
    }
   ],
   "source": [
    "remove_columns = [\n",
    "    \"viewed_doc_titles\", \"gold_passages\", \"nouns_by_titles\", \"candidates\",\n",
    "    \"aq_underlined\", \"aq_\", \"dqs_\", \"machine_marked_cq\", \"concated_dqs_and_answers\", \n",
    "    \"marked_aq\", \"concated_passages\"\n",
    "]\n",
    "ds_all = ds_all.map(lambda x: x, remove_columns=remove_columns)"
   ]
  },
  {
   "cell_type": "code",
   "execution_count": 9,
   "metadata": {},
   "outputs": [],
   "source": [
    "ds_train_ = ds_all.select([i for i in range(len(ds_train))])\n",
    "ds_dev_ = ds_all.select([i for i in range(len(ds_train), len(ds_train)+len(ds_dev))]) "
   ]
  },
  {
   "cell_type": "markdown",
   "metadata": {},
   "source": [
    "## 3. Save datasets"
   ]
  },
  {
   "cell_type": "code",
   "execution_count": 15,
   "metadata": {
    "scrolled": true
   },
   "outputs": [
    {
     "data": {
      "text/plain": [
       "{'aq': \"Where was 'top of the lake' filmed?\",\n",
       " 'dqs': [\"Where were the scenes in the women's commune in season 1 of 'top of the lake' filmed?\",\n",
       "  \"Where was season 2 of 'top of the lake' filmed?\",\n",
       "  \"Where was the original 'top of the lake' filmed except for the women's commune?\",\n",
       "  \"Where was 'top of the lake: China Girl' filmed?\"],\n",
       " 'answers': [['Moke Lake', 'Closeburn, Queenstown, South Island'],\n",
       "  ['Sydney, Australia'],\n",
       "  ['Queenstown and Glenorchy', 'Queenstown and Glenorchy, in Otago'],\n",
       "  ['Sydney', 'Sydney, Australia']],\n",
       " 'orig_idx': 12,\n",
       " 'machine_cq': \"Could you clarify 'the lake'--'were the scenes in the women 's commune in season 1 of', 'season 2 of', 'the original except for the women 's commune', or ': china girl'?\"}"
      ]
     },
     "execution_count": 15,
     "metadata": {},
     "output_type": "execute_result"
    }
   ],
   "source": [
    "ds_dev_[5]"
   ]
  },
  {
   "cell_type": "code",
   "execution_count": 16,
   "metadata": {},
   "outputs": [],
   "source": [
    "train_data_ = utils.augment_json_with_cq(train_data, ds_train_)\n",
    "dev_data_ = utils.augment_json_with_cq(dev_data, ds_dev_)\n",
    "\n",
    "with open(path_ambigqa / \"data\" / \"ambigqa\" / \"train_cq.json\", 'w') as f:\n",
    "    json.dump(train_data_, f)\n",
    "\n",
    "with open(path_ambigqa / \"data\" / \"ambigqa\" / \"dev_cq.json\", 'w') as f:\n",
    "    json.dump(dev_data_, f)  "
   ]
  },
  {
   "cell_type": "code",
   "execution_count": null,
   "metadata": {},
   "outputs": [],
   "source": []
  },
  {
   "cell_type": "code",
   "execution_count": null,
   "metadata": {},
   "outputs": [],
   "source": []
  },
  {
   "cell_type": "markdown",
   "metadata": {},
   "source": [
    "## 4. (DEPRECATED) Prepare re-ranking results"
   ]
  },
  {
   "cell_type": "markdown",
   "metadata": {},
   "source": [
    "base = path_ambigqa / \"psg_sel\"\n",
    "\n",
    "split, ds = \"train\", ds_train\n",
    "reranked = base/\"reranking_results\"/f\"ambigqa_{split}_2020.json\"\n",
    "with open(reranked) as f:\n",
    "    reranked = json.load(f)\n",
    "selected_reranked = [reranked[ex['orig_idx']] for ex in ds]      \n",
    "with open(base/\"reranking_results\"/f\"ambigcq_{split}_2020.json\", \"w\") as json_file:\n",
    "    json.dump(selected_reranked, json_file)\n",
    "    \n",
    "split, ds = \"dev\", ds_dev\n",
    "reranked = base/\"reranking_results\"/f\"ambigqa_{split}_2020.json\"\n",
    "with open(reranked) as f:\n",
    "    reranked = json.load(f)\n",
    "selected_reranked = [reranked[ex['orig_idx']] for ex in ds]      \n",
    "with open(base/\"reranking_results\"/f\"ambigcq_{split}_2020.json\", \"w\") as json_file:\n",
    "    json.dump(selected_reranked, json_file)    "
   ]
  },
  {
   "cell_type": "code",
   "execution_count": null,
   "metadata": {},
   "outputs": [],
   "source": []
  },
  {
   "cell_type": "code",
   "execution_count": null,
   "metadata": {},
   "outputs": [],
   "source": []
  },
  {
   "cell_type": "code",
   "execution_count": null,
   "metadata": {},
   "outputs": [],
   "source": []
  },
  {
   "cell_type": "code",
   "execution_count": null,
   "metadata": {},
   "outputs": [],
   "source": []
  },
  {
   "cell_type": "code",
   "execution_count": 3,
   "metadata": {},
   "outputs": [
    {
     "ename": "TypeError",
     "evalue": "'PosixPath' object is not iterable",
     "output_type": "error",
     "traceback": [
      "\u001b[0;31m---------------------------------------------------------------------------\u001b[0m",
      "\u001b[0;31mTypeError\u001b[0m                                 Traceback (most recent call last)",
      "\u001b[0;32m<ipython-input-3-64820c3df671>\u001b[0m in \u001b[0;36m<module>\u001b[0;34m\u001b[0m\n\u001b[0;32m----> 1\u001b[0;31m \u001b[0mds_dev\u001b[0m \u001b[0;34m=\u001b[0m \u001b[0mload_dataset\u001b[0m\u001b[0;34m(\u001b[0m\u001b[0;34m'json'\u001b[0m\u001b[0;34m,\u001b[0m \u001b[0mdata_files\u001b[0m\u001b[0;34m=\u001b[0m\u001b[0mpath_ambigqa\u001b[0m \u001b[0;34m/\u001b[0m \u001b[0;34m\"data\"\u001b[0m \u001b[0;34m/\u001b[0m \u001b[0;34m\"ambigqa\"\u001b[0m \u001b[0;34m/\u001b[0m \u001b[0;34m\"dev_cq_light.json\"\u001b[0m\u001b[0;34m)\u001b[0m\u001b[0;34m\u001b[0m\u001b[0;34m\u001b[0m\u001b[0m\n\u001b[0m",
      "\u001b[0;32m~/anaconda2/envs/torch1.6/lib/python3.6/site-packages/datasets/load.py\u001b[0m in \u001b[0;36mload_dataset\u001b[0;34m(path, name, data_dir, data_files, split, cache_dir, features, download_config, download_mode, ignore_verifications, keep_in_memory, save_infos, script_version, use_auth_token, task, streaming, **config_kwargs)\u001b[0m\n\u001b[1;32m   1093\u001b[0m         \u001b[0mscript_version\u001b[0m\u001b[0;34m=\u001b[0m\u001b[0mscript_version\u001b[0m\u001b[0;34m,\u001b[0m\u001b[0;34m\u001b[0m\u001b[0;34m\u001b[0m\u001b[0m\n\u001b[1;32m   1094\u001b[0m         \u001b[0muse_auth_token\u001b[0m\u001b[0;34m=\u001b[0m\u001b[0muse_auth_token\u001b[0m\u001b[0;34m,\u001b[0m\u001b[0;34m\u001b[0m\u001b[0;34m\u001b[0m\u001b[0m\n\u001b[0;32m-> 1095\u001b[0;31m         \u001b[0;34m**\u001b[0m\u001b[0mconfig_kwargs\u001b[0m\u001b[0;34m,\u001b[0m\u001b[0;34m\u001b[0m\u001b[0;34m\u001b[0m\u001b[0m\n\u001b[0m\u001b[1;32m   1096\u001b[0m     )\n\u001b[1;32m   1097\u001b[0m \u001b[0;34m\u001b[0m\u001b[0m\n",
      "\u001b[0;32m~/anaconda2/envs/torch1.6/lib/python3.6/site-packages/datasets/load.py\u001b[0m in \u001b[0;36mload_dataset_builder\u001b[0;34m(path, name, data_dir, data_files, cache_dir, features, download_config, download_mode, script_version, use_auth_token, **config_kwargs)\u001b[0m\n\u001b[1;32m    946\u001b[0m                 \u001b[0merror_msg\u001b[0m \u001b[0;34m+=\u001b[0m \u001b[0;34mf'\\nFor example `data_files={{\"train\": \"path/to/data/train/*.{example_extensions[0]}\"}}`'\u001b[0m\u001b[0;34m\u001b[0m\u001b[0;34m\u001b[0m\u001b[0m\n\u001b[1;32m    947\u001b[0m             \u001b[0;32mraise\u001b[0m \u001b[0mValueError\u001b[0m\u001b[0;34m(\u001b[0m\u001b[0merror_msg\u001b[0m\u001b[0;34m)\u001b[0m\u001b[0;34m\u001b[0m\u001b[0;34m\u001b[0m\u001b[0m\n\u001b[0;32m--> 948\u001b[0;31m         \u001b[0mdata_files\u001b[0m \u001b[0;34m=\u001b[0m \u001b[0m_resolve_data_files_locally_or_by_urls\u001b[0m\u001b[0;34m(\u001b[0m\u001b[0;34m\".\"\u001b[0m\u001b[0;34m,\u001b[0m \u001b[0mdata_files\u001b[0m\u001b[0;34m)\u001b[0m\u001b[0;34m\u001b[0m\u001b[0;34m\u001b[0m\u001b[0m\n\u001b[0m\u001b[1;32m    949\u001b[0m \u001b[0;34m\u001b[0m\u001b[0m\n\u001b[1;32m    950\u001b[0m     \u001b[0;31m# Instantiate the dataset builder\u001b[0m\u001b[0;34m\u001b[0m\u001b[0;34m\u001b[0m\u001b[0;34m\u001b[0m\u001b[0m\n",
      "\u001b[0;32m~/anaconda2/envs/torch1.6/lib/python3.6/site-packages/datasets/load.py\u001b[0m in \u001b[0;36m_resolve_data_files_locally_or_by_urls\u001b[0;34m(base_path, patterns, allowed_extensions)\u001b[0m\n\u001b[1;32m    275\u001b[0m             [\n\u001b[1;32m    276\u001b[0m                 \u001b[0m_resolve_data_files_locally_or_by_urls\u001b[0m\u001b[0;34m(\u001b[0m\u001b[0mbase_path\u001b[0m\u001b[0;34m,\u001b[0m \u001b[0mpattern\u001b[0m\u001b[0;34m,\u001b[0m \u001b[0mallowed_extensions\u001b[0m\u001b[0;34m=\u001b[0m\u001b[0mallowed_extensions\u001b[0m\u001b[0;34m)\u001b[0m\u001b[0;34m\u001b[0m\u001b[0;34m\u001b[0m\u001b[0m\n\u001b[0;32m--> 277\u001b[0;31m                 \u001b[0;32mfor\u001b[0m \u001b[0mpattern\u001b[0m \u001b[0;32min\u001b[0m \u001b[0mpatterns\u001b[0m\u001b[0;34m\u001b[0m\u001b[0;34m\u001b[0m\u001b[0m\n\u001b[0m\u001b[1;32m    278\u001b[0m             ],\n\u001b[1;32m    279\u001b[0m             \u001b[0;34m[\u001b[0m\u001b[0;34m]\u001b[0m\u001b[0;34m,\u001b[0m\u001b[0;34m\u001b[0m\u001b[0;34m\u001b[0m\u001b[0m\n",
      "\u001b[0;31mTypeError\u001b[0m: 'PosixPath' object is not iterable"
     ]
    }
   ],
   "source": [
    "ds_dev = load_dataset('json', data_files=path_ambigqa / \"data\" / \"ambigqa\" / \"dev_cq_light.json\")"
   ]
  },
  {
   "cell_type": "code",
   "execution_count": 15,
   "metadata": {
    "scrolled": false
   },
   "outputs": [
    {
     "data": {
      "text/plain": [
       "DatasetDict({\n",
       "    train: Dataset({\n",
       "        features: ['aq', 'dqs', 'answers', 'viewed_doc_titles', 'gold_passages', 'orig_idx', 'nouns_by_titles', 'candidates', 'aq_underlined', 'aq_', 'dqs_', 'machine_marked_cq', 'machine_cq', 'concated_dqs_and_answers', 'marked_aq', 'concated_passages'],\n",
       "        num_rows: 1172\n",
       "    })\n",
       "})"
      ]
     },
     "execution_count": 15,
     "metadata": {},
     "output_type": "execute_result"
    }
   ],
   "source": [
    "ds_dev"
   ]
  },
  {
   "cell_type": "code",
   "execution_count": null,
   "metadata": {},
   "outputs": [],
   "source": []
  },
  {
   "cell_type": "code",
   "execution_count": null,
   "metadata": {},
   "outputs": [],
   "source": []
  },
  {
   "cell_type": "code",
   "execution_count": null,
   "metadata": {},
   "outputs": [],
   "source": []
  },
  {
   "cell_type": "code",
   "execution_count": 13,
   "metadata": {},
   "outputs": [
    {
     "data": {
      "text/plain": [
       "['Why did the st louis cardinals move to arizona?',\n",
       " 'Who is the current chairman of african union commission?',\n",
       " 'Who won the final hoh big brother 20?',\n",
       " 'How long do contestants get to answer on jeopardy?',\n",
       " 'Who took control of the italian government in 1922?',\n",
       " \"Where was 'top of the lake' filmed?\",\n",
       " 'How many seconds do you have to throw a grenade?',\n",
       " \"How many jimmy john's are there in the world?\",\n",
       " 'Who defeated the new york jets on the first televised monday night football game?',\n",
       " 'When is episode 113 of dragon ball super coming out?',\n",
       " 'Who is the longest serving manager in the premier league?',\n",
       " 'Who sang i fooled around and fell in love?',\n",
       " 'Who the female singer on gimme shelter?',\n",
       " 'When was the commission fir sc/st established?',\n",
       " 'What do the symbols on the indian flag represent?',\n",
       " 'Where is the stern of a boat located?',\n",
       " 'Who is the administrator of the small business administration?',\n",
       " 'What is the tallest ride at six flags over texas?',\n",
       " 'Who sang the original do you love me?',\n",
       " 'Voice of alvin in alvin and the chipmunks?',\n",
       " 'Who plays the science officer on star trek discovery?',\n",
       " 'Lucifer how many episodes are in season 3?',\n",
       " 'Who played tony in only fools and horses?',\n",
       " 'What type of cell contributes to the blood-brain barrier in the central nervous system?',\n",
       " 'Who made the song these boots are made for walking?',\n",
       " 'How many african american soldiers served in ww2?',\n",
       " 'Where did the saying man best friend come from?',\n",
       " 'How many championships did the cleveland browns win?',\n",
       " 'When did under god added to pledge of allegiance?',\n",
       " 'When did ben rectors new album come out?',\n",
       " 'Who has the most nascar wins in history?',\n",
       " 'Who played the weasley brothers in harry potter?',\n",
       " \"Who sings you've got a friend in me in toy story 2?\",\n",
       " 'When did the yankees lose the world series?',\n",
       " 'Who wrote the music for once more with feeling?',\n",
       " \"Who's face is on the 2 dollar bill?\",\n",
       " 'When does hook show up in once upon a time?',\n",
       " 'Who sings in next to me imagine dragons?',\n",
       " 'When does the last episode of stuck in the middle air?',\n",
       " 'Who signed the treaty of versailles from germany?',\n",
       " 'Which political party is currently in power in ireland?',\n",
       " 'When did the song lost boy come out?',\n",
       " 'Who played ingrid on dr quinn medicine woman?',\n",
       " 'Who played kelly on the drew carey show?',\n",
       " 'Who wrote the original you are my sunshine?',\n",
       " 'Who wrote harry styles sign of the times lyrics?',\n",
       " 'When did new zealand win the americas cup?',\n",
       " 'Who wrote the music for how to train your dragon?',\n",
       " 'When was the last time army went to a bowl game?',\n",
       " 'Highest runs in t20 international in an innings?',\n",
       " 'How often do we have a census in the uk?',\n",
       " \"What is jo's real name in grey's anatomy?\",\n",
       " 'Where did the idea of representative government first develop?',\n",
       " 'When did england win the world cup in soccer?',\n",
       " 'Where does walmart get its great value products?',\n",
       " 'Who is the actor that plays anakin skywalker?',\n",
       " 'Who is the narrator in the grinch movie?',\n",
       " 'The dna directed synthesis of an rna molecule is called?',\n",
       " 'What family does paris belong to in romeo and juliet?',\n",
       " 'When does the dispicable me 3 come out?',\n",
       " 'Who was the president of indian national congress when india became free?',\n",
       " 'Who is the original artist of sound of silence?',\n",
       " \"Blair's mega death hot sauce with liquid fury scoville?\",\n",
       " 'When was the bellagio in las vegas built?',\n",
       " 'What led to the downfall of the incan empire?',\n",
       " 'Who won the world rapid chess championship in riyadh in 2017?',\n",
       " 'Who is the main character in liv and maddie?',\n",
       " 'Who plays the white queen in alice through the looking glass?',\n",
       " 'When was the spy who dumped me released?',\n",
       " 'Who are the kane county cougars affiliated with?',\n",
       " 'When was the last time england win the world cup?',\n",
       " 'How long is st. catherine street in montreal?',\n",
       " 'When did the federal student loan program start?',\n",
       " 'Who played doc brown on back to the future?',\n",
       " 'What city in texas has the highest elevation?',\n",
       " 'What movie is the song all star from?',\n",
       " 'When did alabama became a right to work state?',\n",
       " 'The sahara mostly consists of two types of climates desert and?',\n",
       " 'Who dies in how to train your dragon 2?',\n",
       " \"Who sang i don't want to live without your love?\",\n",
       " 'Who released the rock opera inspired country album tommy bluegrass opera?',\n",
       " 'What two types of crust make up the surface of the earth?',\n",
       " \"Who won the battle of blackburn's ford?\",\n",
       " 'Who are the top 5 leading scorers in nba history?',\n",
       " 'Who was executed by firing squad in utah?',\n",
       " \"Who played the baby in baby's day out?\",\n",
       " 'What scripture talks about the whole armor of god?',\n",
       " 'Who was the first act on live aid?',\n",
       " 'What was the number one song on october 2 1975?',\n",
       " 'Who sings the song you got to keep your head up?',\n",
       " 'Who does jane eyre fall in love with?',\n",
       " 'What episode of dc legends of tomorrow is invasion?',\n",
       " 'Who was prime minister of canada in 1920?',\n",
       " 'When was put your head on my shoulder made?',\n",
       " 'How many grammy awards does whitney houston have?',\n",
       " 'Who sings the song for stuck in the middle?',\n",
       " 'Where do you find a simple gear train?',\n",
       " 'When did india conduct the nuclear test at pokhran?',\n",
       " 'When was the last time mexico made it to the quarter finals in the world cup?',\n",
       " 'Where did they film places in the heart?',\n",
       " 'Who is the captain of colombia football team?',\n",
       " 'What us president is in the world golf hall of fame?',\n",
       " \"Men's triple jump olympic champion in 2000?\",\n",
       " 'Who had no heart in wizard of oz?',\n",
       " 'Where do they film the tv show the crossing?',\n",
       " 'Percentage of babies born at 24 weeks that survive?',\n",
       " 'Who sang the song the look of love?',\n",
       " 'When did breaking dawn part 2 come out?',\n",
       " 'Microsoft live movie maker is an example of free?',\n",
       " 'What does gvwr stand for on a truck?',\n",
       " 'Where does implantation of the fertilized ovum usually occur?',\n",
       " 'When did the song unchained melody come out?',\n",
       " 'Who made the song my achy breaky heart?',\n",
       " 'When did new south wales last win the state of origin?',\n",
       " 'When did the seljuk empire begin and end?',\n",
       " 'Who made the song when i see you again?',\n",
       " 'When does pokemon ultra sun and moon come out?',\n",
       " 'Hertfordshire fire and rescue service chief fire officer?',\n",
       " \"Who won the men's figure skating 2018 olympics?\",\n",
       " 'Where is the rogers cup held in montreal?',\n",
       " 'Who played mark on the tv show roseanne?',\n",
       " 'Who won the first super bowl in 1967?',\n",
       " 'When did michael record dont matter to me?',\n",
       " 'What is a set of kettledrums in an orchestra called?',\n",
       " 'Who plays the female detective in person of interest?',\n",
       " 'Who wrote the song superstar by the carpenters?',\n",
       " 'Who did kyle play in little house on the prairie?',\n",
       " 'Who plays ruths mum in home and away?',\n",
       " 'Who wrote the national anthem trinidad and tobago?',\n",
       " 'What do you call animals live in water?',\n",
       " 'When was the immorality act repealed in south africa?',\n",
       " 'Who elects the president of the european parliament?',\n",
       " 'Who sings youre the biggest part of me?',\n",
       " 'Where was tears dry on their own filmed?',\n",
       " 'What is the position of india in commonwealth games?',\n",
       " 'When did toronto host the mlb all-star game?',\n",
       " 'Who is the winner of 2018 royal rumble?',\n",
       " 'When was the last time the cubs won the world series before 2016?',\n",
       " 'Vikram samvat is official calendar of which contry?',\n",
       " 'Galvanized metals have been covered with a thin sheet of?',\n",
       " 'Who is the chief judge of allahabad high court?',\n",
       " 'Which religion has the highest population in africa?',\n",
       " 'Where does the tv show this is us take place?',\n",
       " 'Who died in the hound of the baskervilles?',\n",
       " 'Who sings the song what a beautiful name it is?',\n",
       " 'What channel will rick and morty season 3 be on?',\n",
       " 'Who wrote the song bewitched bothered and bewildered?',\n",
       " \"Who was england's prime minister during ww1?\",\n",
       " 'When were the first us immigration laws passed?',\n",
       " 'Who owns the trump tower in new york?',\n",
       " 'Where did they film the movie in the heat of the night?',\n",
       " 'Who was the murderer in the first broadchurch?',\n",
       " 'Where does the federal reserve get its authority?',\n",
       " \"Who won season 7 rupaul's drag race?\",\n",
       " 'When did spain win their first world cup?',\n",
       " 'Indian has the largest higher education system in the world after?',\n",
       " 'How many years did deion sanders play baseball?',\n",
       " 'How many houses are in the british parliament?',\n",
       " 'Who gives macheath up to peachum and the constables?',\n",
       " 'Who sang to the window to the wall?',\n",
       " 'When does the champions league group stage start?',\n",
       " 'What was the name of the frat in animal house?',\n",
       " \"Who loves helena in a midsummer night's dream?\",\n",
       " 'Who sang the theme tune to dear john?',\n",
       " 'When did the haves and have nots start?',\n",
       " 'Who got relegated from the premier league this year?',\n",
       " 'Who sings dont you wish your girlfriend was hot like me?',\n",
       " 'Who is the current sheriff of maricopa county arizona?',\n",
       " 'What kind of car was ramone from cars?',\n",
       " 'When was the last time pittsburgh steelers won the superbowl?',\n",
       " 'Who conducted the little albert study on conditioned fear?',\n",
       " 'What college football team has an elephant mascot?',\n",
       " 'Who opened the gate in the prison walking dead?',\n",
       " \"Who's won the most premierships in afl?\",\n",
       " 'How many episodes of sherlock are there in season 1?',\n",
       " 'What is the name of zobo in english?',\n",
       " 'How many medals did australia win in the 2000 olympics?',\n",
       " 'What are the muscle fibers under the control of a single motor axon?',\n",
       " 'When does the next season of a league of their own start?',\n",
       " 'Where is the golden state warriors located at?',\n",
       " 'What are the lines parallel to the equator called?',\n",
       " 'Most clean sheets in la liga all time?',\n",
       " 'What are the 2 parks at euro disney?',\n",
       " 'Who led the first voyage to circumnavigate the globe?',\n",
       " 'Who played wicked witch of the west in oz?',\n",
       " 'Who lit the torch at the 2012 olympics?',\n",
       " '4. which latitudes experience the greatest annual change in daylight hours?',\n",
       " 'When did south korea separate from north korea?',\n",
       " \"When was ed sheeran's song perfect released?\",\n",
       " 'Who dies at the end of dear john?',\n",
       " 'When did the last wooly mammoths die out?',\n",
       " 'What was the vei of mt. st. helens?',\n",
       " 'When did thirteen reasons why season 1 come out?',\n",
       " 'The correct order of the emergency chain of survival is?',\n",
       " 'What are the names of the hunger game movies?',\n",
       " 'Who sings the theme to only fools and horses?',\n",
       " 'What bodies of water surround cabo san lucas?',\n",
       " 'Who played jill abbott on the young and the restless?',\n",
       " 'Who is hosting the fifa world cup in 2022?',\n",
       " 'Who won the mayor race in st petersburg florida?',\n",
       " 'When was on the revolutions of the heavenly spheres published?',\n",
       " 'Who starred in the tv show highway patrol?',\n",
       " 'When is the next governor election in mississippi?',\n",
       " 'Who developed the first alternating current electric system?',\n",
       " 'What were the seven ancient wonders of the world?',\n",
       " 'Who played the invisible man in hotel transylvania?',\n",
       " 'Who is the speaker of the house in california?',\n",
       " 'Who has scored the highest number of runs in test cricket?',\n",
       " 'Who plays eun jae in hello my twenties?',\n",
       " 'When does last chance u season 3 take place?',\n",
       " 'Who sang what a difference a day make?',\n",
       " 'When was the last time chiefs won a superbowl?',\n",
       " 'Who wrote the theory and practice of oligarchical collectivism?',\n",
       " 'When is the last time georgia bulldogs won the sec championship?',\n",
       " 'When did the holy spirit descended upon the apostles?',\n",
       " 'What year did star wars come out in theaters?',\n",
       " 'Who sings vocals on one of these nights?',\n",
       " 'When did alice through the looking glass come out?',\n",
       " 'Where does the ophthalmic nerve exit the skull?',\n",
       " 'Whats the dogs name in the movie up?',\n",
       " 'How many seats in rajya sabha in assam?',\n",
       " 'Where did italy win the world cup in 2006?',\n",
       " 'What is the oldest version of microsoft windows?',\n",
       " 'Who did liverpool beat in the champions league final?',\n",
       " 'What is the name of the tower big ben is in?',\n",
       " 'Who won the best actor award for the oscars?',\n",
       " 'When was the last time australia won the ashes in england?',\n",
       " 'When did they put the 3 point line in?',\n",
       " 'Who sang this is how we do it?',\n",
       " 'When was the first pirates of the caribbean movie released?',\n",
       " 'Where was the biggest gold nugget ever found?',\n",
       " 'What is the meaning of yang in chinese?',\n",
       " \"Who sings the song it's getting hot in here?\",\n",
       " 'Who played wilma in the movie the flintstones?',\n",
       " \"Who won the most grand slams in women's tennis?\",\n",
       " 'A systolic bp value is the pressure when?',\n",
       " 'When is the next series of the 100 coming out?',\n",
       " 'When did the movie inside out come out?',\n",
       " 'Where does the united states keep an emergency stockpile of oil quizlet?',\n",
       " 'Who is known as the father of toxicology?',\n",
       " 'Most points by nhl player in one game?',\n",
       " 'Who did the shot heard round the world?',\n",
       " 'When did the fur trade began in canada?',\n",
       " 'When did the treaty of guadalupe hidalgo happen?',\n",
       " 'Who fought with an angel in the bible?',\n",
       " 'When has argentina won the fifa world cup?',\n",
       " 'How many teams in the nba in 1956?',\n",
       " 'Where was the first krispy kreme store located?',\n",
       " 'Who are the longest serving managers in the premier league?',\n",
       " 'What type of horse was the black stallion?',\n",
       " 'Who won the us open golf in 2017?',\n",
       " 'Who plays mrs rogers in and then there were none?',\n",
       " 'Who does sansa marry on game of thrones?',\n",
       " 'What engine is in the audi r8 v10?',\n",
       " 'Who was the first person who discovered electricity?',\n",
       " 'Who is the little girl who played cindy lou who?',\n",
       " 'Who got stuck in the belly of a whale?',\n",
       " \"Who plays the mom in bob's burgers?\",\n",
       " 'Who is the mayor of warner robins ga?',\n",
       " 'When did the song staying alive come out?',\n",
       " 'Where does 10 things i hate about you take place?',\n",
       " 'Sky living nashville season 6 how many episodes?',\n",
       " 'When was the first tesla electric car made?',\n",
       " 'When was the first texas chainsaw massacre movie made?',\n",
       " 'When did the rams go to st louis?',\n",
       " 'Who is the author of series of unfortunate events?',\n",
       " 'Where is the headquarters for the organization that maintains si standards?',\n",
       " 'Longest and most expensive trial in us history?',\n",
       " 'Who plays buck on the tv show 9-1-1?',\n",
       " 'Which nfl team has the most superbowl wins in a row?',\n",
       " 'How much tv does the average person watch a day?',\n",
       " 'What did modern conservatives in the 1980s want to reduce?',\n",
       " 'When did legend of zelda majoras mask come out?',\n",
       " 'Who wrote the south carolina ordinance of secession?',\n",
       " 'Who wrote the lyrics to in the ghetto?',\n",
       " 'Who came up with positive and negative charges?',\n",
       " 'The ratio of the wave height to its wave length is called?',\n",
       " 'When does the 12th day of christmas begin?',\n",
       " 'When did all eyez on me come out album?',\n",
       " 'Who acted as harley quinn in suicide squad?',\n",
       " 'How many times have the lakers won the finals?',\n",
       " 'What part of florida is st. petersburg in?',\n",
       " 'When did india win the cricket world cup?',\n",
       " \"Who played eric's sister on that 70 show?\",\n",
       " 'When was the first toyota land cruiser made?',\n",
       " 'Who is the minister of trade and industry in south africa?',\n",
       " 'When will jurassic world the fallen kingdom come out?',\n",
       " 'Who said the power of the pen is mightier than the sword?',\n",
       " 'Where is olympic national park located in washington?',\n",
       " 'When did england last make the quarter final of the world cup?',\n",
       " 'Who won pairs figure skating in olympics 2018?',\n",
       " 'Who played the admiral on star trek discovery?',\n",
       " \"Who wrote if you've got the money?\",\n",
       " 'What animals are on the michigan state flag?',\n",
       " 'Who is the singer of main tera boyfriend?',\n",
       " 'Who is the chief minister of m. p?',\n",
       " 'Total number of medals won by india in olympics 2018?',\n",
       " \"Who owns green and black's organic chocolate?\",\n",
       " 'When did harry potter open at universal orlando?',\n",
       " 'Where does the monarch butterfly go in the winter?',\n",
       " 'When did pong become playable on the television?',\n",
       " 'Who is won the most super bowl games?',\n",
       " 'When did how to train a dragon come out?',\n",
       " 'What is the current population of dallas texas?',\n",
       " 'Who is the girl in somebody i used to know?',\n",
       " \"Who did the artwork for pink floyd's wall?\",\n",
       " 'What did germany have to pay after ww2?',\n",
       " 'Who sang only love can break your heart?',\n",
       " 'Which of the animal is a carrier of h1n1?',\n",
       " 'When were personal computers first sold to the public?',\n",
       " 'When does game of thrones season 7 come on hbo?',\n",
       " 'How many teams can play in champions league?',\n",
       " 'Who came up with the conservation of mass?',\n",
       " 'When did italy enter the first world war?',\n",
       " \"What is the pig called in charlotte's web?\",\n",
       " 'When did the air jordan 12 come out?',\n",
       " 'Present chairman of public accounts committee of lok sabha?',\n",
       " 'Who made the song total eclipse of the heart?',\n",
       " 'How many seasons of marco polo will there be?',\n",
       " 'Who landed the first 900 on a skateboard?',\n",
       " 'When was the last time england got to a world cup quarter final?',\n",
       " 'When did the us enter the second world war in europe?',\n",
       " 'When did castle in the sky come out?',\n",
       " 'Where is the danube river located in europe?',\n",
       " 'Greenland is the largest island in the world in which continent it is situated?',\n",
       " 'What episode of dark angel is jensen ackles in?',\n",
       " 'When does the fifty shades of grey come out?',\n",
       " 'In day of the locust where is tod hackett originally from?',\n",
       " 'What is the mouth of truth in rome?',\n",
       " 'Who plays michael on new will and grace?',\n",
       " 'How many state parks are there in virginia?',\n",
       " 'Who won 1st medal in asian games 2018 for india?',\n",
       " 'Most steals in nba game by one player?',\n",
       " 'Where was the hottest temperature recorded on earth?',\n",
       " 'Where did peanut butter and jelly time come from?',\n",
       " 'Who has played the longest in the nba?',\n",
       " 'When will they finish building the sagrada familia?',\n",
       " 'Which type of url is associated with non-profit organizations .gov .edu .org .com?',\n",
       " \"Who did raven marry in that's so raven?\",\n",
       " 'Where does it rain the most in texas?',\n",
       " 'When does the next attack on titan episode air?',\n",
       " 'Who won gold in rio paraolympic high jump?',\n",
       " 'When do riley and danny get together in baby daddy?',\n",
       " 'Who is the voice of lani in surfs up?',\n",
       " 'When did the kim family come to power?',\n",
       " 'Who is the mom on the new lost in space?',\n",
       " \"Who plays light's dad in death note?\",\n",
       " 'Who landed the first quad jump in figure skating?',\n",
       " 'Who is the most payed player in the nba?',\n",
       " 'Where do the ny yankees play spring training?',\n",
       " 'How many nba players have scored 60 points in a game?',\n",
       " 'The creation of the senate was based on the?',\n",
       " 'Who is the minister of health in malawi?',\n",
       " 'Who is the best rushing quarterback of all time?',\n",
       " 'Silence of the lambs book series in order?',\n",
       " \"Who did doc hudson's voice in cars?\",\n",
       " \"Who won britain's got talent series 8?\",\n",
       " 'Who played lead guitar for the rolling stones?',\n",
       " 'The bill of rights applies to the states through this amendment?',\n",
       " 'When was the first apple i phone made?',\n",
       " 'When does master chef junior start in 2018?',\n",
       " 'When did the byzantine empire start to decline?',\n",
       " 'Where did the hemlock wooly adelgid come from?',\n",
       " 'Who died in the book into thin air?',\n",
       " 'Where did blair and serena go to school?',\n",
       " 'When was the svalbard global seed vault built?',\n",
       " 'When will the next fifty shades of grey movie be released?',\n",
       " 'Where does the term cupboard love come from?',\n",
       " 'Who sang still crazy after all these years?',\n",
       " \"Who sang what is love baby don't hurt me?\",\n",
       " 'When was the international red cross established and why?',\n",
       " 'When did the ingalls move to walnut grove?',\n",
       " 'Who is the current agriculture minister of india?',\n",
       " 'Who played zorro son in the legend of zorro?',\n",
       " 'What is a ford mondeo in the usa?',\n",
       " 'When does the next episode of the next step come out?',\n",
       " 'When did the french join revolution on colonists side?',\n",
       " 'Who played nellie bly in frankie and johnny?',\n",
       " 'When did the first generation kindle fire come out?',\n",
       " 'What instrument do you blow into with a keyboard?',\n",
       " 'Where is the shema found in the torah?',\n",
       " 'Who won the the battle of bull run?',\n",
       " 'When did the phillies win the world series?',\n",
       " 'When does toby come back to the office?',\n",
       " 'When did louisiana become a part of the united states?',\n",
       " 'When is fortnite battle royale being released on android?',\n",
       " 'Who was the first singing brothers in the hall of fame?',\n",
       " 'Who is the tallest person on the earth?',\n",
       " 'Where does raymond live in everybody loves raymond?',\n",
       " 'How many lost in space episodes are there?',\n",
       " 'Who were the original twins in everybody loves raymond?',\n",
       " 'When did the church of england allow female bishops?',\n",
       " 'How many seats are there in the parliament of ghana?',\n",
       " \"What's the percentage of canadian hockey players in the nhl?\",\n",
       " 'Who is the girl in zz top legs video?',\n",
       " \"Who's the starting quarterback for the buffalo bills?\",\n",
       " \"Who wrote a romance called le morte d'arthur about the death of king arthur?\",\n",
       " 'Release date of south park fractured but whole?',\n",
       " 'When did neil armstrong received the presidential medal of freedom?',\n",
       " 'When was the last time usa womens hockey won gold?',\n",
       " 'Who wrote an essay on the principle of population?',\n",
       " 'Who was the lead architect that designed the world trade center and when was he born?',\n",
       " 'Who tried to evaluate attitude through the social distance?',\n",
       " 'When does the new army uniform come out?',\n",
       " 'Who was crucified on an x shaped cross?',\n",
       " 'Total number of episodes of phineas and ferb?',\n",
       " 'When does steve come back in shameless season 5?',\n",
       " 'Who play the beast in the beauty and the beast?',\n",
       " 'What animal is 1982 in the chinese zodiac?',\n",
       " \"Where did the battle of stone's river take place?\",\n",
       " 'Who sings that was then this is now?',\n",
       " 'Who was drafted first in the 2017 nfl draft?',\n",
       " 'When is rise of the teenage mutant ninja turtles coming out?',\n",
       " 'Who did we buy the gadsden purchase from?',\n",
       " 'Who has the most rebounds in a game?',\n",
       " 'Who plays the skin changer in the hobbit?',\n",
       " 'Who did i fought the law and the law won?',\n",
       " 'Who was considered the father of the blues?',\n",
       " 'Who is the actor that plays the flash?',\n",
       " 'Where did the pilgrims originally plan to land in north america?',\n",
       " 'Who presides over the joint session of the indian parliament?',\n",
       " 'What is the solid part of earth called?',\n",
       " 'Who narrates the hitchhiker guide to the galaxy?',\n",
       " 'How much did it cost rio to host the olympics?',\n",
       " 'Where does places in the heart take place?',\n",
       " 'The guy who tries to kill bugs bunny?',\n",
       " 'Who did the original while my guitar gently weeps?',\n",
       " \"When was ain't i a woman written?\",\n",
       " 'What laws directed the flow of goods between england and the colonies?',\n",
       " 'When did the drinking age change to 21 in illinois?',\n",
       " 'Who is currently the most listened to artist on spotify?',\n",
       " 'Who plays the voice of the boss baby?',\n",
       " 'How many court of appeals are there in georgia?',\n",
       " 'Who do you play as in resident evil 7?',\n",
       " \"Who sang the song she's got betty davis eyes?\",\n",
       " \"Who was in the video don't worry be happy?\",\n",
       " 'When did bruce springsteen play the super bowl?',\n",
       " 'How many episode in seven deadly sins season 2?',\n",
       " 'Who has most hat tricks in la liga?',\n",
       " 'When did france stop having kings and queens?',\n",
       " 'What is the meaning of the latin word camera obscura?',\n",
       " 'When was the last time uc made the sweet 16?',\n",
       " 'Who has scored most own goals in premier league?',\n",
       " \"Who won s5 of rupaul's drag race?\",\n",
       " 'In the dream of the rood what is the rood eventually drenched in?',\n",
       " 'Who is elected as the vice president of india?',\n",
       " 'When do they stop selling beer in wisconsin?',\n",
       " \"When did new zealand first win the america's cup?\",\n",
       " 'Who is the caddy in the greatest game ever played?',\n",
       " 'Who does jason sudeikis play on the cleveland show?',\n",
       " 'What is the rating of the new power rangers movie?',\n",
       " \"Who presents the people's postcode lottery advert?\",\n",
       " 'Who played the riddler in the original batman series?',\n",
       " 'How do you pronounce the capital of burkina faso?',\n",
       " 'Name a us president that ends with son?',\n",
       " 'Who is the new central railway minister of india?',\n",
       " \"Who was britain's got talent winner 2015?\",\n",
       " \"As blues moved into chicago's south side what style of blues developed?\",\n",
       " 'When does daylight savings time end in colorado?',\n",
       " 'Who plays the voice of mavis in hotel transylvania?',\n",
       " \"When does dr owen come to grey's anatomy?\",\n",
       " 'When can a player be substituted in soccer?',\n",
       " 'Who plays beast in the movie beauty and the beast?',\n",
       " 'Who played the father in leave it to beaver?',\n",
       " 'Who holds the record for the longest field goal?',\n",
       " 'Who was the bond girl in you only live twice?',\n",
       " 'When did rocky horror picture show come out?',\n",
       " 'Who determines the size of the supreme court?',\n",
       " 'When was july 4th declared a national holiday?',\n",
       " 'Who presented the first this is your life?',\n",
       " 'The war on poverty was a policy and slogan used in?',\n",
       " 'What kind of car in to catch a thief?',\n",
       " 'When did they start filming guardians of the galaxy?',\n",
       " 'Who serves as the president of the senate in the texas legislature?',\n",
       " 'Most number of national awards for best actress?',\n",
       " 'Where does there will be blood take place?',\n",
       " 'Where is the soccer world cup taking place this year?',\n",
       " 'The movement of food in food pipe is called?',\n",
       " 'When was america taken off the gold standard?',\n",
       " 'Who does the voice of darth vader in star wars?',\n",
       " 'How many episodes in season 2 of wynonna earp?',\n",
       " 'When did the song genie in a bottle come out?',\n",
       " 'Who plays walter denton on our miss brooks?',\n",
       " 'Who played the leprechaun in the movies leprechaun?',\n",
       " 'When did ben stone leave law and order?',\n",
       " 'Where is john wayne star on the hollywood walk of fame?',\n",
       " \"When did harry potter and the sorcerer's stone movie come out?\",\n",
       " 'Japanese hotel run by same family for 1300 years?',\n",
       " 'When was the first film made in america?',\n",
       " \"Who gets fired on grey's anatomy season 6?\",\n",
       " 'What is the most recent season of the blacklist?',\n",
       " 'How many square feet is a studio apartment?',\n",
       " 'When did plywood come into use in furniture?',\n",
       " 'When was back to you made by selena gomez?',\n",
       " 'When did west germany win the world cup?',\n",
       " 'Who wrote the book of 1 and 2 thessalonians?',\n",
       " 'When does the how to train your dragon 3 movie come out?',\n",
       " 'When is the day as long as the night?',\n",
       " 'Who wrote the lyrics to the greatest showman?',\n",
       " 'Who led the great sioux uprising in 1862?',\n",
       " 'Record for three pointers in a game ncaa?',\n",
       " \"Who sings it always feels like somebody's watching me?\",\n",
       " 'Who threw the last perfect game in mlb?',\n",
       " 'When did the capital of virginia moved from williamsburg to richmond?',\n",
       " 'Where is the moon located during a solar eclipse?',\n",
       " 'When was the first helicopter made and flown?',\n",
       " 'Where is the world cup going to be in 2019?',\n",
       " 'Who won the lincoln horse race last year?',\n",
       " 'Who plays tate on days of our lives?',\n",
       " 'When does the new season of the expanse start?',\n",
       " 'Where was in the dark tv series filmed?',\n",
       " 'When was the city of new york founded?',\n",
       " 'Who has died from earth wind and fire?',\n",
       " 'Who sings better than i in joseph king of dreams?',\n",
       " 'When is the last time the rangers won the stanley cup?',\n",
       " 'What episode does jaime lannister lose his hand?',\n",
       " 'Who has the most number of followers on instagram?',\n",
       " 'First us president to fly in an airplane?',\n",
       " 'Who sings been through the desert on a horse with no name?',\n",
       " 'Who plays young ethan in a dogs purpose?',\n",
       " 'How many states in india are under congress?',\n",
       " 'Where is american airlines hub in the us?',\n",
       " 'When was the stratosphere hotel built in las vegas?',\n",
       " \"What was the daughter's name on the jetsons?\",\n",
       " 'Where do tornadoes most commonly occur in the us?',\n",
       " 'What is the current gross national product of the us?',\n",
       " 'Who won season 26 of the amazing race?',\n",
       " 'How many sacks does clay matthews have in his career?',\n",
       " 'When does thrill of it all come out?',\n",
       " \"When did mccrory's go out of business?\",\n",
       " 'Who sang if i were a boy originally?',\n",
       " 'Who wrote give me a home among the gum trees?',\n",
       " 'Who plays patrick in 10 things i hate about you?',\n",
       " 'Who is playing parvati role in mahadev serial?',\n",
       " 'When does the new independence day come out?',\n",
       " 'Who thought atoms and the void comprised all of reality?',\n",
       " 'When was the first piece of music made?',\n",
       " 'Who does the little prince meet on earth?',\n",
       " 'What is the name of bangalore city railway station?',\n",
       " 'How many times has ole miss been to college world series?',\n",
       " 'What kind of car won the daytona 500 this year?',\n",
       " 'Where is the cash explosion tv show taped?',\n",
       " 'Where was war on the planet of the apes filmed?',\n",
       " 'Who was the programmer of ms-dos operating system?',\n",
       " 'When was france occupied by germany in ww2?',\n",
       " 'Who was british pm and viceroy during quit india movement?',\n",
       " 'Where did they film the witches of eastwick?',\n",
       " 'What year did the christmas story come out?',\n",
       " 'Who played zordon in the original power rangers?',\n",
       " 'By what name did the portuguese call the region that we now know as mumbai?',\n",
       " 'Who got the most rebounds in one game?',\n",
       " 'How many times has the patriots won the superbowl in a row?',\n",
       " 'Where did the term bye felicia come from?',\n",
       " 'How many stars are on the chicago flag?',\n",
       " 'When was i can only imagine first sang?',\n",
       " 'Who was the last person hanged in england?',\n",
       " 'Who has won the world snooker championship the most times?',\n",
       " 'Architect of north and south blocks of central secretariat in delhi?',\n",
       " 'Where is the tv show the ranch located?',\n",
       " \"Who's won the most world series in baseball?\",\n",
       " 'Who played kris kringle in miracle on 34th street?',\n",
       " 'Who has the most rbis in major league history?',\n",
       " 'Who has won the world cup back to back?',\n",
       " 'Who killed the man in thelma and louise?',\n",
       " 'The national institutes of health is a federal agency that is responsible for?',\n",
       " 'Names of the metropolitan municipalities in south africa?',\n",
       " 'Who wrote the music for avatar the last airbender?',\n",
       " 'During which time period did the third party system take place in american politics answers.com?',\n",
       " 'Who began the building of the great hypostyle hall at karnak?',\n",
       " 'Highest point from the center of the earth?',\n",
       " 'Whats the most games the red sox have won in a season?',\n",
       " 'When does the new family guy season come out?',\n",
       " 'Who brought sam winchester back from the cage?',\n",
       " 'How many times is the f word used in scarface?',\n",
       " 'Where does peanut butter jelly time come from?',\n",
       " 'The cat in the hat boy and girl?',\n",
       " 'When did the united states purchase the louisiana territory?',\n",
       " 'Who played in the super bowl in 2013?',\n",
       " \"Who sang the song i'm coming out?\",\n",
       " 'Who lived to be the oldest person in the world?',\n",
       " 'Where does diffusion occur in the excretory system?',\n",
       " 'Who plays snowman in smokey and the bandit?',\n",
       " 'Who is the statue of liberty supposed to be?',\n",
       " 'Who conducted a 300 mile march to sacramento california?',\n",
       " \"When was i'll be home for christmas released?\",\n",
       " 'Where are electrons located in a covalent bond?',\n",
       " 'When did the tournament of power arc start?',\n",
       " 'Who is the present game minister of india?',\n",
       " 'Who wrote the music for bridge on the river kwai?',\n",
       " 'Who warned the colonists that the british were coming?',\n",
       " 'Civil court of the city of new york jurisdictional limit?',\n",
       " 'Who does corbin bleu play in high school musical?',\n",
       " \"What is stacey's surname in gavin and stacey?\",\n",
       " 'When did the last episode of the simpsons air?',\n",
       " 'Who wrote the book of the new testament?',\n",
       " \"Who got eliminated in india's next superstar on 1st april 2018?\",\n",
       " 'What is the speed limit through the hindhead tunnel?',\n",
       " 'Which term refers to linking a currency value to the value of gold?',\n",
       " \"How many culver's are there in the united states?\",\n",
       " 'Where was mama mia herewe go again filmed?',\n",
       " 'Who does hannah montana pick jake or jessie?',\n",
       " 'Girl from the shut up and dance video?',\n",
       " 'When was the makkah royal clock tower hotel built?',\n",
       " 'Who plays andromeda in clash of the titans?',\n",
       " 'Where did the phantom of the opera live?',\n",
       " 'What kind of series is game of thrones?',\n",
       " 'Where was it came from outer space filmed?',\n",
       " 'When did the song angel first come out?',\n",
       " 'What is the mlb record for most hits in a row?',\n",
       " 'What is the meaning of nat in networking?',\n",
       " 'When was the last world cup that brazil won?',\n",
       " \"Who sang it's too late to turn back now?\",\n",
       " 'When did the lion king debut on broadway?',\n",
       " 'Who was involved in the battle of goliad?',\n",
       " 'When does the new episode of the next step come out?',\n",
       " \"Who sings don't tell me what to do?\",\n",
       " 'Where does most star formation take place in the milky way?',\n",
       " 'Who played mary in the passion of christ?',\n",
       " 'Who is the narrator for the tv show snapped?',\n",
       " 'What are the 3 types of enzymes in digestion?',\n",
       " 'When did george mason go to the final four?',\n",
       " 'When did the first cassette tape come out?',\n",
       " 'Who plays apocalypse in the new xmen movie?',\n",
       " 'Who holds the record for most passing yards in a season?',\n",
       " \"What percentage of australia's population is foreign born?\",\n",
       " 'When is the second sound of the heartbeat produced?',\n",
       " 'When did sunday became the seventh day of the week?',\n",
       " 'How many times did the chicago cubs play in the world series?',\n",
       " 'Who has the record for most super bowl losses?',\n",
       " 'When does the lego ninjago movie take place?',\n",
       " 'When did the financial crisis start in 2008?',\n",
       " 'Who plays lola in kinky boots the movie?',\n",
       " 'Who has the highest goals in world football?',\n",
       " 'When was the this is it tour supposed to start?',\n",
       " 'Who won the nba finals in the last four years?',\n",
       " 'When is the last time the astros won a world series?',\n",
       " 'The video with the most dislikes on youtube?',\n",
       " \"Who sings i love rock 'n' roll?\",\n",
       " \"Who is the girl from brenda's got a baby video?\",\n",
       " \"How many hungry jack's stores in australia?\",\n",
       " 'Orange is the new black who plays piper?',\n",
       " 'Who performed at the champions league final 2018?',\n",
       " 'When was the system of checks and balances created?',\n",
       " \"Who does sam marry in foyle's war?\",\n",
       " 'When did the first cellular phone come out?',\n",
       " \"What was jordan's last year with the bulls?\",\n",
       " 'Pro kabaddi 2017 how many matches per team?',\n",
       " \"What's the famous street in new orleans?\",\n",
       " 'Who has scored most goals in international football?',\n",
       " 'Who wrote the song mary did you know?',\n",
       " 'When did they start production on the post?',\n",
       " 'St. peter’s basilica the head of the catholic religion is located in?',\n",
       " 'Who voiced optimus prime in the transformers movie?',\n",
       " 'Who wrote you dont have to say you love me?',\n",
       " 'Where was the movie going in style filmed?',\n",
       " 'Who is the captain of new zealand cricket team 2015?',\n",
       " 'What other kingdom claimed ownership of the northern islands of scotland?',\n",
       " 'What kind of money do they use in russia?',\n",
       " 'Two organisms living together for their mutual benefit?',\n",
       " 'Where is the screen actors guild awards being held?',\n",
       " 'Who was the murderer in the movie in the heat of the night?',\n",
       " 'Where did anne of green gables take place?',\n",
       " \"Who won the men's french open title?\",\n",
       " 'Who played the parents in the parent trap?',\n",
       " 'Who voices rocket raccoon in guardians of the galaxy?',\n",
       " 'When did the redskins go to the superbowl?',\n",
       " 'When did the food stamp card come out?',\n",
       " 'Name the current speaker of the united states house of representatives?',\n",
       " 'Who is buried in santa croce in florence?',\n",
       " 'When does the new ep of riverdale come out?',\n",
       " 'What was the treatment in a beautiful mind?',\n",
       " 'The first foreigner to receive bharat ratna was?',\n",
       " 'When did japan go to war with russia?',\n",
       " \"Who does seth curry's brother play for?\",\n",
       " 'Where is sperm made in the human body?',\n",
       " 'What is the record for most strikeouts in a season by a hitter?',\n",
       " 'Who are the defending champions of champions trophy?',\n",
       " 'When was under god added to the pledge of alligence?',\n",
       " 'When does season 2 of jessica jones start on netflix?',\n",
       " 'Who sings with meatloaf in anything for love?',\n",
       " 'What would need to happen to change a lead atom into a gold atom?',\n",
       " 'Who sang for your love i would do anything?',\n",
       " 'Who is the best golfer in the world?',\n",
       " 'What is the airport code for negril jamaica?',\n",
       " 'Who is the most run in cricket history?',\n",
       " 'When did the simpsons get a new intro?',\n",
       " 'Where did they film girl on a train?',\n",
       " 'Who defeated marathas in 3rd battle of panipat?',\n",
       " \"Earth's interior heat is the engine that powers?\",\n",
       " 'Who wrote the song land of make believe?',\n",
       " 'Who plays quill in guardians of the galaxy?',\n",
       " \"Who's henry's father in once upon a time?\",\n",
       " 'Who is the author of delta of venus?',\n",
       " 'Who plays as beast in beauty and the beast?',\n",
       " 'When did justice league come out in canada?',\n",
       " 'Who does christine end up with in the phantom of the opera?',\n",
       " 'Who wrote the screenplay for the greatest showman?',\n",
       " 'When did the last season of jersey shore air?',\n",
       " \"What was jesse's wife's name on full house?\",\n",
       " 'When was the clock tower in london built?',\n",
       " 'What is the average age to get married in south africa?',\n",
       " 'Who sang youll never walk alone in carousel?',\n",
       " 'What is the musculoskeletal system and what does it do?',\n",
       " 'When is the new series of doctor who coming on?',\n",
       " 'Name of first episode of this is us?',\n",
       " 'Where did they escape to in the sound of music?',\n",
       " 'When was crude oil first discovered in nigeria?',\n",
       " \"What's the most points scored in an nba game?\",\n",
       " 'Who forged the ring in lord of the rings?',\n",
       " 'When did frontier take over verizon in california?',\n",
       " 'Where did kevin durant go in the nba draft?',\n",
       " 'Who wrote the song if i ruled the world?',\n",
       " 'Who did the theme song for danny phantom?',\n",
       " 'Who says hakuna matata in the lion king?',\n",
       " 'Who is the actor that plays green arrow?',\n",
       " 'Who sings evermore in the movie beauty and the beast?',\n",
       " 'When did the redskins win the super bowl?',\n",
       " 'When did morning tv start in the uk?',\n",
       " 'Who is opening for shania twain in ottawa?',\n",
       " \"Who played warden hodges in dad's army?\",\n",
       " 'When did the song stayin alive come out?',\n",
       " 'Where was the movie the summer of 42 filmed?',\n",
       " 'Share of hydroelectric power in total electricity produced in india?',\n",
       " 'What was the mad kings name in got?',\n",
       " 'Where do most jamaicans live in the us?',\n",
       " \"Who plays charlie on it's always sunny?\",\n",
       " \"When does halley's comet come back around?\",\n",
       " 'When did the samsung gear s come out?',\n",
       " 'Who won the battle of philippi civil war?',\n",
       " 'Who won the shc all-ireland final in 2016?',\n",
       " 'When did the show lie to me end?',\n",
       " 'Who had the most hits in the 90s?',\n",
       " 'When did most of the land called palestine became the country of israel?',\n",
       " 'Where did the bay of pigs take place?',\n",
       " 'Who provides fixed line telephone services with numbers starting with 5?',\n",
       " 'How many starbucks are there around the world?',\n",
       " 'When did texas become part of united states?',\n",
       " 'What was the owls name in mr rogers?',\n",
       " 'Who won the sprint 15km men’s cross country skiing event in sochi in 2014?',\n",
       " \"Who plays rocket's voice in guardians of the galaxy?\",\n",
       " 'Who is mrs potts in beauty and the beast 2017?',\n",
       " 'Who claimed victory at the first battle of bull run?',\n",
       " 'When did the voortrekkers arrive in south africa?',\n",
       " 'India rank in world bank ease of doing business?',\n",
       " 'Where does the flat iron cut of meat come from?',\n",
       " \"Who won the last olympic men's hockey?\",\n",
       " 'Was the memphis belle the first to complete 25 missions?',\n",
       " 'When is the paschal candle lit in church?',\n",
       " 'Who plays pearl in the scarlet letter movie?',\n",
       " 'Age 21 became the uniform legal drinking age across the us in?',\n",
       " 'When did the show last man standing start?',\n",
       " 'What is the name of the river in salzburg austria?',\n",
       " 'Who made it to the american idol finale?',\n",
       " 'When was the last time michigan was in the elite eight?',\n",
       " 'Scottish golf courses that have held the open?',\n",
       " 'Where does the blastocyst implanted in the female human reproductive system?',\n",
       " 'When was the song where is the love made?',\n",
       " 'What region of the country is missouri in?',\n",
       " 'Where does the new fallout game take place?',\n",
       " \"When did you don't know jack come out?\",\n",
       " 'Who dies in the plane crash on greys?',\n",
       " 'Who is hosting the next world cup 2022?',\n",
       " 'Who is the actress that portrays wonder woman?',\n",
       " 'How many times has green bay beat the bears?',\n",
       " 'Who produced toni braxton just be a man about it?',\n",
       " 'Who is the voice of raccoon in guardians of the galaxy?',\n",
       " 'Where does the movie it take place 2017?',\n",
       " 'Who did fsu beat for the 2013 championship?',\n",
       " 'When did the who play at the super bowl?',\n",
       " 'Where will the winter olympics be held in?',\n",
       " 'Where do lake huron and lake michigan meet?',\n",
       " 'What is the name of the banjo player in deliverance?',\n",
       " 'Who is the most successful goal scorer in the history of the eufa champions league?',\n",
       " 'What is the age limit to go on an lds mission?',\n",
       " 'What is the dog called in midsomer murders?',\n",
       " 'When was the last person executed in canada?',\n",
       " 'Who is the person who has lived the longest?',\n",
       " 'Who is the next king or queen of england?',\n",
       " 'Who tried to kill rachel in the bodyguard?',\n",
       " 'Who played violet rutherford on leave it to beaver?',\n",
       " 'When did new york become a free state?',\n",
       " \"Who wrote brown eyes by destiny's child?\",\n",
       " 'Where is three billboards outside of ebbing missouri filmed?',\n",
       " 'Who has won the 2017 ecuador presidential election?',\n",
       " 'When did the apple tv 4k come out?',\n",
       " 'How many goals scored ronaldo in his career?',\n",
       " 'When was the last time a $2 bill was printed?',\n",
       " 'Who does the jack represent in a deck of cards?',\n",
       " 'Who is the top goal scorer for brazil?',\n",
       " 'When did us currency leave the gold standard?',\n",
       " 'Who played in the world series in 1989?',\n",
       " 'Who figured out a way to determine the type of blood?',\n",
       " 'Who played zeb in how the west was won?',\n",
       " 'When was the first in car navigation sustem invented?',\n",
       " \"When did the song can't touch this come out?\",\n",
       " 'Who set the fire in one tree hill?',\n",
       " 'Where is the ferris wheel located in myrtle beach?',\n",
       " 'Where are the highest temperatures on earth recorded?',\n",
       " 'When did england last win the eurovision song contest?',\n",
       " 'When did the great wall of china started building?',\n",
       " 'What is the flower of the dead in spanish?',\n",
       " 'When is the releasing date of avengers infinity war?',\n",
       " 'When did the hardy boyz debut in wwe?',\n",
       " 'Who died in the movie fast and furious 7?',\n",
       " 'Who is fruma sarah in fiddler on the roof?',\n",
       " 'When does the new season of got air?',\n",
       " 'Population of the roman empire at its peak?',\n",
       " 'Who beat villanova last year in the ncaa tournament?',\n",
       " 'In 1789 the 1st 2nd and 3rd estates of france met on a tennis court and swore an oath known as the?',\n",
       " 'Who is bernardo girlfriend in west side story?',\n",
       " \"Who sings wake me up when it's all over?\",\n",
       " 'Who has the most home runs in the mlb in 2018?',\n",
       " 'What episode does jason gideon die in criminal minds?',\n",
       " 'When is the next modern family episode airing?',\n",
       " 'The festival of holi marks the end of winter and the beginning of?',\n",
       " 'Who is the current environmental minister of india?',\n",
       " 'Who has the most home runs in the home run derby?',\n",
       " 'When did the royal flying doctor service start?',\n",
       " 'What do the five stars on the australian flag stand for?',\n",
       " 'Who were the two astronauts who stayed a year on the iss?',\n",
       " 'When was netball first in the commonwealth games?',\n",
       " \"Where was baz luhrmann's romeo and juliet filmed?\",\n",
       " 'What was the first literature of the anglo-saxons?',\n",
       " \"How many books are in stephen king's dark tower?\",\n",
       " 'Who wrote the first five books of moses?',\n",
       " 'When did the rams win the super bowl?',\n",
       " 'When was the statue of liberty delivered to the united states?',\n",
       " \"Who played alan turner's son in emmerdale?\",\n",
       " 'Who does the french footballer mbappe play for?',\n",
       " 'Where does the movie jeepers creepers take place?',\n",
       " 'Who played the chicago cubs in the world series last year?',\n",
       " 'Who inspired the title of a raisin in the sun?',\n",
       " 'How many copies of bohemian rhapsody were sold?',\n",
       " 'What is the enrollment of loyola university in chicago?',\n",
       " 'When was the new international version bible written?',\n",
       " 'When did the new york rangers last win the stanley cup?',\n",
       " 'When does the second season of greenhouse academy?',\n",
       " 'Who played grandpa joe in charlie and the chocolate factory?',\n",
       " 'Who played guitar on whitesnake still of the night?',\n",
       " 'Ok google who won the world cup soccer?',\n",
       " 'When does the ration shop open in india?',\n",
       " 'What is the genre of holes by louis sachar?',\n",
       " 'Beatles do you want to know a secret singer?',\n",
       " 'Who was you make loving fun written about?',\n",
       " 'What is the os of samsung smart tv?',\n",
       " 'According to 2011 census the literacy rate of india is?',\n",
       " 'Who is washington addressing in the atlanta exposition?',\n",
       " 'How many levels are there in pac man?',\n",
       " 'Who sponsored the first season of the tv cartoon show the flintstones?',\n",
       " 'When does the new super troopers movie come out?',\n",
       " 'Who played alice in a league of their own?',\n",
       " 'When is ariana grande album sweetener coming out?',\n",
       " 'What is the airport code for charlotte nc?',\n",
       " 'What is the statue in piccadilly circus called?',\n",
       " \"Who does the voice of bob's burgers?\",\n",
       " 'When did florida stop using the electric chair?',\n",
       " 'Who was the greatest warrior for the trojans?',\n",
       " 'Who was the last american man to win wimbledon?',\n",
       " 'What part of cow does ribeye come from?',\n",
       " 'Where was the first north american indigenous games held?',\n",
       " \"What is l's real name from death note?\",\n",
       " 'What process releases nitrogen gas into the atmosphere?',\n",
       " 'Who plays football on new years day 2018?',\n",
       " 'When did ragtime flourished in the united states?',\n",
       " 'Who plays the daughter in garage sale mysteries?',\n",
       " 'What does the d stand for in tv ratings?',\n",
       " 'When does drag race all stars 3 premiere?',\n",
       " \"Who sang i can't let maggie go?\",\n",
       " 'Who wrote the music for that thing you do?',\n",
       " 'Who sang the song eye in the sky?',\n",
       " 'Who plays the superintendent in doctor blake mysteries?',\n",
       " \"When does disney's food and wine festival end?\",\n",
       " 'Who dies at the end of the movie remember the titans?',\n",
       " \"For whom was the battle of king's mountain a victory?\",\n",
       " 'When did the draft began for the vietnam war?',\n",
       " 'What has the hottest temperature been on earth?',\n",
       " 'Where did the song god bless america originate?',\n",
       " 'Where did the brown v board of education take place?',\n",
       " 'When does the new royal liverpool hospital open?',\n",
       " 'Who is fifa and how many member countries do they have?',\n",
       " 'What was the last episode of transformers g1?',\n",
       " 'How much sports are there in the winter olympics?',\n",
       " 'When was lost in space first on tv?',\n",
       " 'Average life expectancy for a west highland terrier?',\n",
       " 'What state is directly west of north dakota?',\n",
       " 'Who played cowboy curtis on pee wee herman?',\n",
       " 'Who supported north korea during the korean war?',\n",
       " 'Who wrote the song forever and ever amen?',\n",
       " \"When is season 14 of grey's anatomy coming back?\",\n",
       " 'When does the rockefeller christmas tree go up?',\n",
       " 'Where is the telephone area code 571 located?',\n",
       " \"Who wrote remember me i'm the one who loves you?\",\n",
       " 'Who gets mandy pregnant in season 2 of shameless?',\n",
       " 'What season of greys anatomy was the plane crash?',\n",
       " 'When was the last time galway won the hurling all ireland?',\n",
       " 'When was the last time man united were in the champions league?',\n",
       " 'What is mary warrens role in the crucible?',\n",
       " 'How many times did brazil win the fifa world cup?',\n",
       " 'When does tell me a story air on cbs?',\n",
       " 'When did the ottoman empire take over greece?',\n",
       " 'Who scored the first own goal in fifa world cup history?',\n",
       " 'Who won the world baseball classic this year?',\n",
       " 'What kind of fish is in filet o fish?',\n",
       " \"Where was the opening of three's company filmed?\",\n",
       " 'Where were the pilgrims originally bound a. pennsylvania b. massachusetts c. virginia d. new york?',\n",
       " 'How many american lives were lost in the revolutionary war?',\n",
       " 'Cities in new york that start with an a?',\n",
       " 'Cities in west virginia that start with s?',\n",
       " 'Who wrote stand up stand up for jesus?',\n",
       " 'Who sings a white sportcoat and a pink carnation?',\n",
       " 'Nominated in the best foreign film category at the oscars mother india lost to?',\n",
       " \"Who wrote the song i'm not going to miss you?\",\n",
       " 'When was the statue of zeus at olympia destroyed?',\n",
       " 'The only child of a president to be born in the whitehouse?',\n",
       " 'Who won the womens world cup in 2015?',\n",
       " 'When is dbz super episode 119 coming out?',\n",
       " 'What is the name of ramaiya vastavaiya heroine?',\n",
       " 'Who was the ruler of france in 1830?',\n",
       " 'Who sings beautiful girl in singin in the rain?',\n",
       " 'When did the song country roads come out?',\n",
       " \"Who wrote how come you don't call me anymore?\",\n",
       " 'How much did the deepwater horizon oil spill cost bp?',\n",
       " 'Where does anything you can do i can do better come from?',\n",
       " 'What year does the tv show vikings take place?',\n",
       " 'Who has the most blocks in the nba?',\n",
       " 'When did the teenage mutant ninja turtles cartoon come out?',\n",
       " 'Some mice have a wheel in the middle. generally what is this wheel for?',\n",
       " \"Who's won the most national championships in college football?\",\n",
       " 'The repetition of phrases or sentences with similar structures or meanings is called?',\n",
       " 'When was the first bottle of champagne made?',\n",
       " 'When did the ancient chinese civilization begin and end?',\n",
       " 'Who plays max in secret life of pets?',\n",
       " 'How old do you have to be to get a tattoo in washington?',\n",
       " 'When was the last time loyola-chicago was in the ncaa tournament?',\n",
       " 'Who sang for the wonders in that thing you do?',\n",
       " 'When was the last nuclear power plant built in the us?',\n",
       " 'Which is the latest version of ubuntu operating system?',\n",
       " \"Who sings school's out for the summer?\",\n",
       " 'Which city is known as manchester of india?',\n",
       " 'When is the new x-files coming on tv?',\n",
       " 'Who plays lord beric in game of thrones?',\n",
       " 'Who hit the longest recorded homerun in mlb history?',\n",
       " 'When is the last time the astros been to the world series?',\n",
       " 'When did the california wildfires of 2017 start?',\n",
       " 'Who pitched the first no-hitter in orioles history?',\n",
       " 'Pay for star on hollywood walk of fame?',\n",
       " 'Who plays the voice of darth vader in star wars?',\n",
       " 'Purdue football players in nfl hall of fame?',\n",
       " 'Number of branches of oriental bank of commerce in india?',\n",
       " 'Who is the president of miami dade college?',\n",
       " 'Names of the rivers in the garden of eden?',\n",
       " \"What's the most home runs hit in the home run derby?\",\n",
       " 'When was the last perfect game thrown in baseball?',\n",
       " 'What is the last episode of soul eater?',\n",
       " 'Who won new hampshire in the 2016 presidential election?',\n",
       " 'What is the purpose of a traffic circle?',\n",
       " 'Who earns the most money in the nba?',\n",
       " 'What is it called when you mix up the letters of a word?',\n",
       " \"When does callie come in grey's anatomy?\",\n",
       " 'Who was the first pharaoh to be buried in a pyramid?',\n",
       " 'Who made the clock in grand central station?',\n",
       " 'What is the name of actress in munna michael?',\n",
       " 'When was the first hand held camera invented?',\n",
       " 'Where does the smell of vanilla come from?',\n",
       " 'Song at the end of who dat boy?',\n",
       " 'Who played flash gordon in the tv series?',\n",
       " 'Who was the mother of dragons married to?',\n",
       " 'Which is the largest zone of indian railway?',\n",
       " 'When is the new christopher robin coming out?',\n",
       " 'Who played sirius black in prisoner of azkaban?',\n",
       " 'Who has made the most money on jeopardy?',\n",
       " 'Who came up with a cure for tuberculosis?',\n",
       " 'Where is the minnehaha academy located in minneapolis?',\n",
       " 'When do you buy a rosca de reyes?',\n",
       " 'When did jeep start making 4 door wranglers?',\n",
       " 'Who played matt brody on the original baywatch?',\n",
       " 'Who is in charge of the hollywood walk of fame?',\n",
       " 'Who did ed sheeran wrote nancy mulligan about?',\n",
       " 'Where did the story of the sound of music take place?',\n",
       " 'When does jane the virgin season 3 start?',\n",
       " 'Who coined the phrase manifest destiny and what does it mean?',\n",
       " 'Who won the match of asia cup 2018?',\n",
       " 'When does spring break start in the us?',\n",
       " 'Who plays the mayor in the new ghostbusters?',\n",
       " 'Who has the most 3 pointers in a season?',\n",
       " 'What do you use to test for lipids?',\n",
       " 'When did the original willy wonka come out?',\n",
       " 'What is the lining of the mouth called?',\n",
       " 'Which came first huck finn or tom sawyer?',\n",
       " 'Where can adipose tissue be found in the body?',\n",
       " 'When did construction start on the sydney harbour bridge?',\n",
       " 'What was the first year of the nissan leaf?',\n",
       " \"Who sang there's a meeting in the ladies room?\",\n",
       " 'When is season 3 of 800 words coming out?',\n",
       " 'When did the queen became queen of england?',\n",
       " 'Who sings when i kissed the teacher in mamma mia?',\n",
       " 'Why did the roman catholic and eastern orthodox split?',\n",
       " 'How many episodes are there in season 2 of the shannara chronicles?',\n",
       " 'When did the beatles play at the cow palace?',\n",
       " \"Who did meg's voice first on family guy?\",\n",
       " ...]"
      ]
     },
     "execution_count": 13,
     "metadata": {},
     "output_type": "execute_result"
    }
   ],
   "source": [
    "ds_dev['train']['aq']"
   ]
  },
  {
   "cell_type": "code",
   "execution_count": null,
   "metadata": {},
   "outputs": [],
   "source": []
  },
  {
   "cell_type": "code",
   "execution_count": 10,
   "metadata": {},
   "outputs": [
    {
     "data": {
      "text/plain": [
       "{'aq': 'Why did the st louis cardinals move to arizona?',\n",
       " 'dqs': ['What ability caused the st louis cardinals move to arizona?',\n",
       "  'What physical issue caused the st louis cardinals move to arizona?',\n",
       "  'What fan issue caused the st louis cardinals move to arizona?'],\n",
       " 'answers': [['overall mediocrity of the Cardinals'],\n",
       "  ['old stadium'],\n",
       "  ['game attendance to dwindle']],\n",
       " 'viewed_doc_titles': ['History of the St. Louis Cardinals (NFL)',\n",
       "  'History of the Arizona Cardinals'],\n",
       " 'gold_passages': [['History of the St. Louis Cardinals (NFL)',\n",
       "   'The professional American football team now known as the <b>Arizona Cardinals</b> \\npreviously ... During the <b>Cardinals</b>&#39; tenure in <b>St</b>. <b>Louis</b>, they <b>were</b> called the &quot;Big \\nRed&quot;, the ... On March 15, 1988, the NFL team owners voted to allow Bidwill to \\n<b>move</b> the <b>Cardinals</b> from <b>St</b>. <b>Louis</b> to Tempe, <b>Arizona</b> for the 1988 NFL season.'],\n",
       "  ['History of the Arizona Cardinals',\n",
       "   'On March 15, 1988, the NFL team owners voted to allow Bidwill to <b>move</b> the \\n<b>Cardinals</b> from <b>St</b>. <b>Louis</b> to Phoenix, <b>Arizona</b> for the 1988 NFL season. The team\\n&nbsp;...']],\n",
       " 'orig_idx': 3,\n",
       " 'nouns_by_titles': ['the st louis cardinals'],\n",
       " 'candidates': ['the st louis cardinals', 'move', 'arizona'],\n",
       " 'aq_underlined': 'why did <ins>the st louis cardinals</ins> <ins>move</ins> to <ins>arizona</ins> ?',\n",
       " 'aq_': 'why did PROPN0 move to arizona ?',\n",
       " 'dqs_': ['what ability caused PROPN0 move to arizona ?',\n",
       "  'what physical issue caused PROPN0 move to arizona ?',\n",
       "  'what fan issue caused PROPN0 move to arizona ?'],\n",
       " 'machine_marked_cq': \"Could you clarify '<strong><ins>the st louis cardinals</ins></strong>'--'what ability caused', 'what physical issue caused', or 'what fan issue caused'?\",\n",
       " 'machine_cq': \"Could you clarify 'the st louis cardinals'--'what ability caused', 'what physical issue caused', or 'what fan issue caused'?\",\n",
       " 'concated_dqs_and_answers': '<ul><li>What ability caused the st louis cardinals move to arizona?   overall mediocrity of the Cardinals</li><li>What physical issue caused the st louis cardinals move to arizona?   old stadium</li><li>What fan issue caused the st louis cardinals move to arizona?   game attendance to dwindle</li></ul>',\n",
       " 'marked_aq': 'why did <strong><ins>the st louis cardinals</ins></strong> <ins>move</ins> to <ins>arizona</ins> ?',\n",
       " 'concated_passages': '[History of the St. Louis Cardinals (NFL)]<br>The professional American football team now known as the <b>Arizona Cardinals</b>  previously ... During the <b>Cardinals</b>&#39; tenure in <b>St</b>. <b>Louis</b>, they <b>were</b> called the &quot;Big  Red&quot;, the ... On March 15, 1988, the NFL team owners voted to allow Bidwill to  <b>move</b> the <b>Cardinals</b> from <b>St</b>. <b>Louis</b> to Tempe, <b>Arizona</b> for the 1988 NFL season.<hr>[History of the Arizona Cardinals]<br>On March 15, 1988, the NFL team owners voted to allow Bidwill to <b>move</b> the  <b>Cardinals</b> from <b>St</b>. <b>Louis</b> to Phoenix, <b>Arizona</b> for the 1988 NFL season. The team &nbsp;...'}"
      ]
     },
     "execution_count": 10,
     "metadata": {},
     "output_type": "execute_result"
    }
   ],
   "source": [
    "ds_dev['train'][0]"
   ]
  },
  {
   "cell_type": "code",
   "execution_count": null,
   "metadata": {},
   "outputs": [],
   "source": []
  },
  {
   "cell_type": "code",
   "execution_count": null,
   "metadata": {},
   "outputs": [],
   "source": []
  },
  {
   "cell_type": "code",
   "execution_count": null,
   "metadata": {},
   "outputs": [],
   "source": []
  },
  {
   "cell_type": "code",
   "execution_count": 9,
   "metadata": {},
   "outputs": [],
   "source": [
    "from transformers import BartTokenizer"
   ]
  },
  {
   "cell_type": "code",
   "execution_count": 13,
   "metadata": {},
   "outputs": [
    {
     "data": {
      "application/vnd.jupyter.widget-view+json": {
       "model_id": "0eeab64d6d8f4573b9121ae9693004fc",
       "version_major": 2,
       "version_minor": 0
      },
      "text/plain": [
       "Downloading:   0%|          | 0.00/899k [00:00<?, ?B/s]"
      ]
     },
     "metadata": {},
     "output_type": "display_data"
    },
    {
     "data": {
      "application/vnd.jupyter.widget-view+json": {
       "model_id": "fe7ca222c1334b3eb813a04c29d2854a",
       "version_major": 2,
       "version_minor": 0
      },
      "text/plain": [
       "Downloading:   0%|          | 0.00/456k [00:00<?, ?B/s]"
      ]
     },
     "metadata": {},
     "output_type": "display_data"
    }
   ],
   "source": [
    "tokenizer = BartTokenizer.from_pretrained(\"facebook/bart-large\")"
   ]
  },
  {
   "cell_type": "code",
   "execution_count": 16,
   "metadata": {},
   "outputs": [
    {
     "ename": "NameError",
     "evalue": "name 'ds_dev' is not defined",
     "output_type": "error",
     "traceback": [
      "\u001b[0;31m---------------------------------------------------------------------------\u001b[0m",
      "\u001b[0;31mNameError\u001b[0m                                 Traceback (most recent call last)",
      "\u001b[0;32m<ipython-input-16-b59fb87345af>\u001b[0m in \u001b[0;36m<module>\u001b[0;34m\u001b[0m\n\u001b[0;32m----> 1\u001b[0;31m \u001b[0;34m[\u001b[0m\u001b[0mlen\u001b[0m\u001b[0;34m(\u001b[0m\u001b[0mtokenizer\u001b[0m\u001b[0;34m.\u001b[0m\u001b[0mencode\u001b[0m\u001b[0;34m(\u001b[0m\u001b[0mex\u001b[0m\u001b[0;34m[\u001b[0m\u001b[0;34m\"machine_cq\"\u001b[0m\u001b[0;34m]\u001b[0m\u001b[0;34m)\u001b[0m\u001b[0;34m)\u001b[0m \u001b[0;32mfor\u001b[0m \u001b[0mex\u001b[0m \u001b[0;32min\u001b[0m \u001b[0mds_dev\u001b[0m\u001b[0;34m]\u001b[0m\u001b[0;34m\u001b[0m\u001b[0;34m\u001b[0m\u001b[0m\n\u001b[0m",
      "\u001b[0;31mNameError\u001b[0m: name 'ds_dev' is not defined"
     ]
    }
   ],
   "source": [
    "[len(tokenizer.encode(ex[\"machine_cq\"])) for ex in ds_dev]"
   ]
  },
  {
   "cell_type": "code",
   "execution_count": null,
   "metadata": {},
   "outputs": [],
   "source": []
  },
  {
   "cell_type": "code",
   "execution_count": null,
   "metadata": {},
   "outputs": [],
   "source": []
  },
  {
   "cell_type": "code",
   "execution_count": 11,
   "metadata": {},
   "outputs": [],
   "source": [
    "import transformers"
   ]
  },
  {
   "cell_type": "code",
   "execution_count": 12,
   "metadata": {},
   "outputs": [
    {
     "name": "stdout",
     "output_type": "stream",
     "text": [
      "3.0.0\n"
     ]
    }
   ],
   "source": [
    "print(transformers.__version__)"
   ]
  },
  {
   "cell_type": "code",
   "execution_count": null,
   "metadata": {},
   "outputs": [],
   "source": []
  },
  {
   "cell_type": "code",
   "execution_count": null,
   "metadata": {},
   "outputs": [],
   "source": []
  },
  {
   "cell_type": "code",
   "execution_count": null,
   "metadata": {},
   "outputs": [],
   "source": []
  },
  {
   "cell_type": "code",
   "execution_count": null,
   "metadata": {},
   "outputs": [],
   "source": []
  },
  {
   "cell_type": "code",
   "execution_count": null,
   "metadata": {},
   "outputs": [],
   "source": []
  },
  {
   "cell_type": "code",
   "execution_count": 30,
   "metadata": {},
   "outputs": [],
   "source": [
    "def check_validity(ex):\n",
    "    ans = ex['machine_cq']\n",
    "    temp = ans.split(\"--\")\n",
    "    if len(temp) != 2:\n",
    "        return False\n",
    "    if \"' or '\" in temp[-1]:\n",
    "        options = temp[-1].split(' or ')\n",
    "    else:\n",
    "        options = temp[-1].split(\"', '\")\n",
    "        options = options[:-1] + options[-1].split(\", or \")    \n",
    "    if len(options) != len(ex[\"dqs\"]):\n",
    "        return False\n",
    "    return True"
   ]
  },
  {
   "cell_type": "code",
   "execution_count": null,
   "metadata": {},
   "outputs": [],
   "source": []
  },
  {
   "cell_type": "code",
   "execution_count": 40,
   "metadata": {},
   "outputs": [
    {
     "data": {
      "text/html": [
       "<div>\n",
       "<style scoped>\n",
       "    .dataframe tbody tr th:only-of-type {\n",
       "        vertical-align: middle;\n",
       "    }\n",
       "\n",
       "    .dataframe tbody tr th {\n",
       "        vertical-align: top;\n",
       "    }\n",
       "\n",
       "    .dataframe thead th {\n",
       "        text-align: right;\n",
       "    }\n",
       "</style>\n",
       "<table border=\"1\" class=\"dataframe\">\n",
       "  <thead>\n",
       "    <tr style=\"text-align: right;\">\n",
       "      <th></th>\n",
       "      <th>HITId</th>\n",
       "      <th>HITTypeId</th>\n",
       "      <th>Title</th>\n",
       "      <th>Description</th>\n",
       "      <th>Keywords</th>\n",
       "      <th>Reward</th>\n",
       "      <th>CreationTime</th>\n",
       "      <th>MaxAssignments</th>\n",
       "      <th>RequesterAnnotation</th>\n",
       "      <th>AssignmentDurationInSeconds</th>\n",
       "      <th>...</th>\n",
       "      <th>Answer.human_cq1</th>\n",
       "      <th>Answer.human_cq2</th>\n",
       "      <th>Answer.human_cq3</th>\n",
       "      <th>Answer.human_cq4</th>\n",
       "      <th>Answer.human_cq5</th>\n",
       "      <th>Answer.human_cq6</th>\n",
       "      <th>Answer.human_cq7</th>\n",
       "      <th>Answer.human_cq8</th>\n",
       "      <th>Approve</th>\n",
       "      <th>Reject</th>\n",
       "    </tr>\n",
       "  </thead>\n",
       "  <tbody>\n",
       "    <tr>\n",
       "      <th>0</th>\n",
       "      <td>3MWOYZD5X6BC55UT38OR2SX7OBCNO8</td>\n",
       "      <td>39P6QDR003RZ9IRNUQ1RZZPYQFHMDS</td>\n",
       "      <td>CQ WRONG</td>\n",
       "      <td>CQ WRONG</td>\n",
       "      <td>survey, demographics</td>\n",
       "      <td>$1.00</td>\n",
       "      <td>Sun May 29 20:20:05 PDT 2022</td>\n",
       "      <td>1</td>\n",
       "      <td>BatchId:356838;OriginalHitTemplateId:920937243;</td>\n",
       "      <td>25200</td>\n",
       "      <td>...</td>\n",
       "      <td>Could you clarify 'new album'--'compilation', ...</td>\n",
       "      <td>Could you clarify 'start'--'end', 'commonly st...</td>\n",
       "      <td>Could you clarify 'who'--'the character', 'the...</td>\n",
       "      <td>Could you be more specific--'who holds the rec...</td>\n",
       "      <td>Could you clarify 'begin'--'begin' or 'end'?</td>\n",
       "      <td>Could you clarify 'known'--'most famously' or ...</td>\n",
       "      <td>Could you clarify 'start'--'start' or 'finish'?</td>\n",
       "      <td>Could you clarify 'the pair of hand drums'--'t...</td>\n",
       "      <td>NaN</td>\n",
       "      <td>NaN</td>\n",
       "    </tr>\n",
       "    <tr>\n",
       "      <th>1</th>\n",
       "      <td>3H6W48L9GFCKDZF8A9STNBFORSCPWI</td>\n",
       "      <td>39P6QDR003RZ9IRNUQ1RZZPYQFHMDS</td>\n",
       "      <td>CQ WRONG</td>\n",
       "      <td>CQ WRONG</td>\n",
       "      <td>survey, demographics</td>\n",
       "      <td>$1.00</td>\n",
       "      <td>Sun May 29 20:20:05 PDT 2022</td>\n",
       "      <td>1</td>\n",
       "      <td>BatchId:356838;OriginalHitTemplateId:920937243;</td>\n",
       "      <td>25200</td>\n",
       "      <td>...</td>\n",
       "      <td>Could you clarify 'coins'--'the two-cent piece...</td>\n",
       "      <td>Could you clarify 'start'--'start' or 'finish'?</td>\n",
       "      <td>Could you clarify 'office 2019'--'commercial p...</td>\n",
       "      <td>Could you clarify 'men’s and women’s'--'men’s'...</td>\n",
       "      <td>Could you be more specific--'how many games', ...</td>\n",
       "      <td>Could you clarify 'located'--'by which river' ...</td>\n",
       "      <td>Could you clarify 'start'--'begin' or 'end'?</td>\n",
       "      <td>Could you clarify 'When'--'which super bowl' o...</td>\n",
       "      <td>NaN</td>\n",
       "      <td>NaN</td>\n",
       "    </tr>\n",
       "    <tr>\n",
       "      <th>2</th>\n",
       "      <td>38DCH97KISPJ7RGO3NO3YQBQUSPJQ8</td>\n",
       "      <td>39P6QDR003RZ9IRNUQ1RZZPYQFHMDS</td>\n",
       "      <td>CQ WRONG</td>\n",
       "      <td>CQ WRONG</td>\n",
       "      <td>survey, demographics</td>\n",
       "      <td>$1.00</td>\n",
       "      <td>Sun May 29 20:20:05 PDT 2022</td>\n",
       "      <td>1</td>\n",
       "      <td>BatchId:356838;OriginalHitTemplateId:920937243;</td>\n",
       "      <td>25200</td>\n",
       "      <td>...</td>\n",
       "      <td>Could you be more specific--'start according t...</td>\n",
       "      <td>Could you clarify 'where'--'through what' or '...</td>\n",
       "      <td>Could you be more specific--'if you are born i...</td>\n",
       "      <td>Could you clarify 'where'--'what', 'In what', ...</td>\n",
       "      <td>Could you clarify 'superoxide dismutase'--'sod...</td>\n",
       "      <td>Could you clarify 'the brady bunch'--'the brad...</td>\n",
       "      <td>Could you be more specific-'what was', 'when',...</td>\n",
       "      <td>Could be more specific--'where' or 'when'?</td>\n",
       "      <td>NaN</td>\n",
       "      <td>NaN</td>\n",
       "    </tr>\n",
       "    <tr>\n",
       "      <th>3</th>\n",
       "      <td>3CRWSLD92VR6NN9TR79RPD87JL2MO7</td>\n",
       "      <td>39P6QDR003RZ9IRNUQ1RZZPYQFHMDS</td>\n",
       "      <td>CQ WRONG</td>\n",
       "      <td>CQ WRONG</td>\n",
       "      <td>survey, demographics</td>\n",
       "      <td>$1.00</td>\n",
       "      <td>Sun May 29 20:20:05 PDT 2022</td>\n",
       "      <td>1</td>\n",
       "      <td>BatchId:356838;OriginalHitTemplateId:920937243;</td>\n",
       "      <td>25200</td>\n",
       "      <td>...</td>\n",
       "      <td>Could you be more specific--'the goonies I', '...</td>\n",
       "      <td>Could you clarify 'most goals'--'what' or 'wha...</td>\n",
       "      <td>Could you clarify 'model'--'whose' or 'what'?</td>\n",
       "      <td>Could you clarify 'alternate ending'--'where c...</td>\n",
       "      <td>Could you be more specific--'in US' or 'in Bri...</td>\n",
       "      <td>Could you be more specific--'in US', 'in Nethe...</td>\n",
       "      <td>Could you clarify 'start'--'start' or 'end'?</td>\n",
       "      <td>Could you be more specific--'x axis' or 'y axis'?</td>\n",
       "      <td>NaN</td>\n",
       "      <td>NaN</td>\n",
       "    </tr>\n",
       "    <tr>\n",
       "      <th>4</th>\n",
       "      <td>3E22YV8GHCTUQ56UI816RS2XYG8NPP</td>\n",
       "      <td>39P6QDR003RZ9IRNUQ1RZZPYQFHMDS</td>\n",
       "      <td>CQ WRONG</td>\n",
       "      <td>CQ WRONG</td>\n",
       "      <td>survey, demographics</td>\n",
       "      <td>$1.00</td>\n",
       "      <td>Sun May 29 20:20:05 PDT 2022</td>\n",
       "      <td>1</td>\n",
       "      <td>BatchId:356838;OriginalHitTemplateId:920937243;</td>\n",
       "      <td>25200</td>\n",
       "      <td>...</td>\n",
       "      <td>Could you be more specific--'most goals' or 'a...</td>\n",
       "      <td>Could you be more specific--'from what opera',...</td>\n",
       "      <td>Could you clarify 'what type of tissue'--'what...</td>\n",
       "      <td>Could you clarify 'begin'--'begin' or 'end'?</td>\n",
       "      <td>Could you be more specific--'plasma membrane b...</td>\n",
       "      <td>Could you be more specific--'when' or 'where'?</td>\n",
       "      <td>Could you be more specific--'who' or 'what'?</td>\n",
       "      <td>Could you clarify 'wrote'--'wrote' or 'produced'?</td>\n",
       "      <td>NaN</td>\n",
       "      <td>NaN</td>\n",
       "    </tr>\n",
       "    <tr>\n",
       "      <th>5</th>\n",
       "      <td>3MD8CKRQ0AAJJSVOG2D33GLVQERJR9</td>\n",
       "      <td>39P6QDR003RZ9IRNUQ1RZZPYQFHMDS</td>\n",
       "      <td>CQ WRONG</td>\n",
       "      <td>CQ WRONG</td>\n",
       "      <td>survey, demographics</td>\n",
       "      <td>$1.00</td>\n",
       "      <td>Sun May 29 20:20:05 PDT 2022</td>\n",
       "      <td>1</td>\n",
       "      <td>BatchId:356838;OriginalHitTemplateId:920937243;</td>\n",
       "      <td>25200</td>\n",
       "      <td>...</td>\n",
       "      <td>Could you be more specific--'when' or 'why?</td>\n",
       "      <td>Could you clarify 'nfl record'--'who' or 'what'?</td>\n",
       "      <td>Could you clarify 'who'--'none', 'that was coa...</td>\n",
       "      <td>Could you clarify 'workers'--'workers' or 'lab...</td>\n",
       "      <td>Could you clarify 'season 3'--'Season 3', 'Sea...</td>\n",
       "      <td>Could you be more specific--'in Australia' or ...</td>\n",
       "      <td>Could you clarify 'Where'--'Where' or 'what ri...</td>\n",
       "      <td>Could you clarify 'failure'--'failure' or 'bac...</td>\n",
       "      <td>NaN</td>\n",
       "      <td>NaN</td>\n",
       "    </tr>\n",
       "    <tr>\n",
       "      <th>6</th>\n",
       "      <td>334ZEL5JYH29LIMYB45D1M7DBAKSOP</td>\n",
       "      <td>39P6QDR003RZ9IRNUQ1RZZPYQFHMDS</td>\n",
       "      <td>CQ WRONG</td>\n",
       "      <td>CQ WRONG</td>\n",
       "      <td>survey, demographics</td>\n",
       "      <td>$1.00</td>\n",
       "      <td>Sun May 29 20:20:05 PDT 2022</td>\n",
       "      <td>1</td>\n",
       "      <td>BatchId:356838;OriginalHitTemplateId:920937243;</td>\n",
       "      <td>25200</td>\n",
       "      <td>...</td>\n",
       "      <td>Could you clarify 'the eighth sims 3 expansion...</td>\n",
       "      <td>Could you clarify 'what'--'none' or 'the code ...</td>\n",
       "      <td>Could you be more specific--'hard' or 'soft'?</td>\n",
       "      <td>Could you be more specific--'when' or 'where'?</td>\n",
       "      <td>Could you be more specific--'because it trigge...</td>\n",
       "      <td>Could you clarify 'pnc banks'--'pnc banks' or ...</td>\n",
       "      <td>Could you clarify 'the olympic opening process...</td>\n",
       "      <td>Could you clarify 'opening and closing'--'open...</td>\n",
       "      <td>NaN</td>\n",
       "      <td>NaN</td>\n",
       "    </tr>\n",
       "    <tr>\n",
       "      <th>7</th>\n",
       "      <td>3KG2UQJ0NUBFQH79ILGVRXS73CUNQG</td>\n",
       "      <td>39P6QDR003RZ9IRNUQ1RZZPYQFHMDS</td>\n",
       "      <td>CQ WRONG</td>\n",
       "      <td>CQ WRONG</td>\n",
       "      <td>survey, demographics</td>\n",
       "      <td>$1.00</td>\n",
       "      <td>Sun May 29 20:20:05 PDT 2022</td>\n",
       "      <td>1</td>\n",
       "      <td>BatchId:356838;OriginalHitTemplateId:920937243;</td>\n",
       "      <td>25200</td>\n",
       "      <td>...</td>\n",
       "      <td>Could you clarify 'a musical pattern'--'in the...</td>\n",
       "      <td>Could you be more specific--'what' or 'which p...</td>\n",
       "      <td>Could you be more specific--'Catholic high sch...</td>\n",
       "      <td>Could you clarify 'us sailors'--'us sailors' o...</td>\n",
       "      <td>Could you clarify 'where'--'located' or 'neare...</td>\n",
       "      <td>Could you clarify 'start'--'start' or 'end'?</td>\n",
       "      <td>Could you clarify 'what album'--'medium' or 's...</td>\n",
       "      <td>Could you clarify 'begin'--'begin' or 'end'?</td>\n",
       "      <td>NaN</td>\n",
       "      <td>NaN</td>\n",
       "    </tr>\n",
       "    <tr>\n",
       "      <th>8</th>\n",
       "      <td>3VADEH0UINKR6IYZQ4ISQMC3LFGSP6</td>\n",
       "      <td>39P6QDR003RZ9IRNUQ1RZZPYQFHMDS</td>\n",
       "      <td>CQ WRONG</td>\n",
       "      <td>CQ WRONG</td>\n",
       "      <td>survey, demographics</td>\n",
       "      <td>$1.00</td>\n",
       "      <td>Sun May 29 20:20:05 PDT 2022</td>\n",
       "      <td>1</td>\n",
       "      <td>BatchId:356838;OriginalHitTemplateId:920937243;</td>\n",
       "      <td>25200</td>\n",
       "      <td>...</td>\n",
       "      <td>Could you be more specific--'debut' or 'Until ...</td>\n",
       "      <td>Could you clarify 'major league baseball'--'al...</td>\n",
       "      <td>Could you be more specific--'pro shops', 'whic...</td>\n",
       "      <td>Could you be more specific--'andhra pradesh pr...</td>\n",
       "      <td>Could you clarify 'the due process clause'--'t...</td>\n",
       "      <td>Could you clarify 'the two sides'--'official n...</td>\n",
       "      <td>Could you clarify 'english and italian sonnets...</td>\n",
       "      <td>Could you clarify 'executive order 9066'--'wha...</td>\n",
       "      <td>NaN</td>\n",
       "      <td>NaN</td>\n",
       "    </tr>\n",
       "    <tr>\n",
       "      <th>9</th>\n",
       "      <td>34XASH8KM19O8NLU67M6EDDXTQYMPO</td>\n",
       "      <td>39P6QDR003RZ9IRNUQ1RZZPYQFHMDS</td>\n",
       "      <td>CQ WRONG</td>\n",
       "      <td>CQ WRONG</td>\n",
       "      <td>survey, demographics</td>\n",
       "      <td>$1.00</td>\n",
       "      <td>Sun May 29 20:20:05 PDT 2022</td>\n",
       "      <td>1</td>\n",
       "      <td>BatchId:356838;OriginalHitTemplateId:920937243;</td>\n",
       "      <td>25200</td>\n",
       "      <td>...</td>\n",
       "      <td>Could you be more specific--'what general type...</td>\n",
       "      <td>Could you clarify 'where'--'who' or 'styles th...</td>\n",
       "      <td>Could you clarify 'get'--'come from' or 'place'?</td>\n",
       "      <td>Could you clarify 'of cell'--'throughout cell'...</td>\n",
       "      <td>Could you clarify 'members of the joint chiefs...</td>\n",
       "      <td>Could you clarify '3 times'--'3 times' or 'mor...</td>\n",
       "      <td>Could you be more specific--'' or  'after beco...</td>\n",
       "      <td>Could you clarify 'charlie brown christmas'--'...</td>\n",
       "      <td>NaN</td>\n",
       "      <td>NaN</td>\n",
       "    </tr>\n",
       "    <tr>\n",
       "      <th>10</th>\n",
       "      <td>31ODACBEO52C6UZEQHXHQR2DQB2SQX</td>\n",
       "      <td>39P6QDR003RZ9IRNUQ1RZZPYQFHMDS</td>\n",
       "      <td>CQ WRONG</td>\n",
       "      <td>CQ WRONG</td>\n",
       "      <td>survey, demographics</td>\n",
       "      <td>$1.00</td>\n",
       "      <td>Sun May 29 20:20:05 PDT 2022</td>\n",
       "      <td>1</td>\n",
       "      <td>BatchId:356838;OriginalHitTemplateId:920937243;</td>\n",
       "      <td>25200</td>\n",
       "      <td>...</td>\n",
       "      <td>Could you clarify 'Where'--'which institution'...</td>\n",
       "      <td>Could you clarify 'us female leader'--'who was...</td>\n",
       "      <td>Could you clarify 'tv and debut'--'TV debut', ...</td>\n",
       "      <td>Could you clarify 'love simon'--'the pre-order...</td>\n",
       "      <td>Could you be more specific--'what' or 'who'?</td>\n",
       "      <td>Could you clarify 'who'--'which character' or ...</td>\n",
       "      <td>Could you clarify 'in counting crows song'--'n...</td>\n",
       "      <td>Could you be more specific--'World Bank', 'int...</td>\n",
       "      <td>NaN</td>\n",
       "      <td>NaN</td>\n",
       "    </tr>\n",
       "    <tr>\n",
       "      <th>11</th>\n",
       "      <td>3ABAOCJ4SJR98ZM96K1VEI37YMKMQF</td>\n",
       "      <td>39P6QDR003RZ9IRNUQ1RZZPYQFHMDS</td>\n",
       "      <td>CQ WRONG</td>\n",
       "      <td>CQ WRONG</td>\n",
       "      <td>survey, demographics</td>\n",
       "      <td>$1.00</td>\n",
       "      <td>Sun May 29 20:20:05 PDT 2022</td>\n",
       "      <td>1</td>\n",
       "      <td>BatchId:356838;OriginalHitTemplateId:920937243;</td>\n",
       "      <td>25200</td>\n",
       "      <td>...</td>\n",
       "      <td>Could you clarify 'the land before time'--'I',...</td>\n",
       "      <td>Could you clarify 'on'--'on the frieze of' or ...</td>\n",
       "      <td>Could you clarify 'where'--'in what country' o...</td>\n",
       "      <td>Could you clarify 'males'--'all', 'african ame...</td>\n",
       "      <td>Could you be more specific--'period' or '..'?</td>\n",
       "      <td>Could you clarify 'used'--'used first' or 'lat...</td>\n",
       "      <td>Could you clarify 'come'--'Hammersmith Apollo'...</td>\n",
       "      <td>Could you be more specific--'in Australia', 'i...</td>\n",
       "      <td>NaN</td>\n",
       "      <td>NaN</td>\n",
       "    </tr>\n",
       "    <tr>\n",
       "      <th>12</th>\n",
       "      <td>3YGYP1365CWF2IM9V05VWN2CZYWNRH</td>\n",
       "      <td>39P6QDR003RZ9IRNUQ1RZZPYQFHMDS</td>\n",
       "      <td>CQ WRONG</td>\n",
       "      <td>CQ WRONG</td>\n",
       "      <td>survey, demographics</td>\n",
       "      <td>$1.00</td>\n",
       "      <td>Sun May 29 20:20:14 PDT 2022</td>\n",
       "      <td>1</td>\n",
       "      <td>BatchId:356838;OriginalHitTemplateId:920937243;</td>\n",
       "      <td>25200</td>\n",
       "      <td>...</td>\n",
       "      <td>Could you be more specific--'the prime ministe...</td>\n",
       "      <td>Could you clarify 'start'--'start' or 'end'?</td>\n",
       "      <td>Could you clarify 'the first and last female r...</td>\n",
       "      <td>Could you be more specific--'in vertebrates', ...</td>\n",
       "      <td>Could you be more specific--'what broadway sho...</td>\n",
       "      <td>Could you clarify 'army air corps'--'US' or 'UK'?</td>\n",
       "      <td>Could you clarify 'first'--'in the music world...</td>\n",
       "      <td>Could you clarify 'who'--'from redditch', 'fro...</td>\n",
       "      <td>NaN</td>\n",
       "      <td>NaN</td>\n",
       "    </tr>\n",
       "    <tr>\n",
       "      <th>13</th>\n",
       "      <td>3FO95NVK6NNCIVEE3WMHVHCIMX4SRY</td>\n",
       "      <td>39P6QDR003RZ9IRNUQ1RZZPYQFHMDS</td>\n",
       "      <td>CQ WRONG</td>\n",
       "      <td>CQ WRONG</td>\n",
       "      <td>survey, demographics</td>\n",
       "      <td>$1.00</td>\n",
       "      <td>Sun May 29 20:20:14 PDT 2022</td>\n",
       "      <td>1</td>\n",
       "      <td>BatchId:356838;OriginalHitTemplateId:920937243;</td>\n",
       "      <td>25200</td>\n",
       "      <td>...</td>\n",
       "      <td>Could you clarify 'where'--'where' or 'in what...</td>\n",
       "      <td>Could you clarify 'begin'--'begin' or 'end'?</td>\n",
       "      <td>Could you clarify 'chief'--'chief' or 'deputy'?</td>\n",
       "      <td>Could you clarify 'come'--'in US', 'in Europe'...</td>\n",
       "      <td>Could you be more specific--'who' or 'when'?</td>\n",
       "      <td>Could you clarify 'what style'--'what style' o...</td>\n",
       "      <td>Could you clarify 'record'--'who' or 'what'?</td>\n",
       "      <td>Could you clarify 'it always feels like somebo...</td>\n",
       "      <td>NaN</td>\n",
       "      <td>NaN</td>\n",
       "    </tr>\n",
       "    <tr>\n",
       "      <th>14</th>\n",
       "      <td>3OB6JN3AA1C9K019JZQVJ8DCU8MMRG</td>\n",
       "      <td>39P6QDR003RZ9IRNUQ1RZZPYQFHMDS</td>\n",
       "      <td>CQ WRONG</td>\n",
       "      <td>CQ WRONG</td>\n",
       "      <td>survey, demographics</td>\n",
       "      <td>$1.00</td>\n",
       "      <td>Sun May 29 20:20:14 PDT 2022</td>\n",
       "      <td>1</td>\n",
       "      <td>BatchId:356838;OriginalHitTemplateId:920937243;</td>\n",
       "      <td>25200</td>\n",
       "      <td>...</td>\n",
       "      <td>Could you clarify 'pm and viceroy'--'pm' or 'v...</td>\n",
       "      <td>Could you clarify 'snapped'--'Snapped' or 'sna...</td>\n",
       "      <td>Could you be more specific--'what is' or 'what...</td>\n",
       "      <td>Could you clarify 'king or queen'--'king' or '...</td>\n",
       "      <td>Could you clarify 'coming'--'on CD, digital do...</td>\n",
       "      <td>Could you be more specific--'who' or 'how many...</td>\n",
       "      <td>Could you clarify 'greece'--'all of mainland, ...</td>\n",
       "      <td>Could you clarify 'structures or meanings'--'s...</td>\n",
       "      <td>NaN</td>\n",
       "      <td>NaN</td>\n",
       "    </tr>\n",
       "    <tr>\n",
       "      <th>15</th>\n",
       "      <td>3NOEP8XAVFPZ2ZKYKEOFPUTV0UIPXB</td>\n",
       "      <td>39P6QDR003RZ9IRNUQ1RZZPYQFHMDS</td>\n",
       "      <td>CQ WRONG</td>\n",
       "      <td>CQ WRONG</td>\n",
       "      <td>survey, demographics</td>\n",
       "      <td>$1.00</td>\n",
       "      <td>Sun May 29 20:20:10 PDT 2022</td>\n",
       "      <td>1</td>\n",
       "      <td>BatchId:356838;OriginalHitTemplateId:920937243;</td>\n",
       "      <td>25200</td>\n",
       "      <td>...</td>\n",
       "      <td>Could you be more specific--'who is generally ...</td>\n",
       "      <td>Could you clarify 'the god'--'the god' or 'the...</td>\n",
       "      <td>Could you be more specific--'who' and 'how'?</td>\n",
       "      <td>Could you clarify 'you were always on my mind'...</td>\n",
       "      <td>Could you clarify 'what religion'--'what chris...</td>\n",
       "      <td>Could you be more specific--'what', 'why', or ...</td>\n",
       "      <td>Could you be more specific--'muscle cells', 'i...</td>\n",
       "      <td>Could you be more specific--'scapula (uppermos...</td>\n",
       "      <td>NaN</td>\n",
       "      <td>NaN</td>\n",
       "    </tr>\n",
       "  </tbody>\n",
       "</table>\n",
       "<p>16 rows × 83 columns</p>\n",
       "</div>"
      ],
      "text/plain": [
       "                             HITId                       HITTypeId     Title  \\\n",
       "0   3MWOYZD5X6BC55UT38OR2SX7OBCNO8  39P6QDR003RZ9IRNUQ1RZZPYQFHMDS  CQ WRONG   \n",
       "1   3H6W48L9GFCKDZF8A9STNBFORSCPWI  39P6QDR003RZ9IRNUQ1RZZPYQFHMDS  CQ WRONG   \n",
       "2   38DCH97KISPJ7RGO3NO3YQBQUSPJQ8  39P6QDR003RZ9IRNUQ1RZZPYQFHMDS  CQ WRONG   \n",
       "3   3CRWSLD92VR6NN9TR79RPD87JL2MO7  39P6QDR003RZ9IRNUQ1RZZPYQFHMDS  CQ WRONG   \n",
       "4   3E22YV8GHCTUQ56UI816RS2XYG8NPP  39P6QDR003RZ9IRNUQ1RZZPYQFHMDS  CQ WRONG   \n",
       "5   3MD8CKRQ0AAJJSVOG2D33GLVQERJR9  39P6QDR003RZ9IRNUQ1RZZPYQFHMDS  CQ WRONG   \n",
       "6   334ZEL5JYH29LIMYB45D1M7DBAKSOP  39P6QDR003RZ9IRNUQ1RZZPYQFHMDS  CQ WRONG   \n",
       "7   3KG2UQJ0NUBFQH79ILGVRXS73CUNQG  39P6QDR003RZ9IRNUQ1RZZPYQFHMDS  CQ WRONG   \n",
       "8   3VADEH0UINKR6IYZQ4ISQMC3LFGSP6  39P6QDR003RZ9IRNUQ1RZZPYQFHMDS  CQ WRONG   \n",
       "9   34XASH8KM19O8NLU67M6EDDXTQYMPO  39P6QDR003RZ9IRNUQ1RZZPYQFHMDS  CQ WRONG   \n",
       "10  31ODACBEO52C6UZEQHXHQR2DQB2SQX  39P6QDR003RZ9IRNUQ1RZZPYQFHMDS  CQ WRONG   \n",
       "11  3ABAOCJ4SJR98ZM96K1VEI37YMKMQF  39P6QDR003RZ9IRNUQ1RZZPYQFHMDS  CQ WRONG   \n",
       "12  3YGYP1365CWF2IM9V05VWN2CZYWNRH  39P6QDR003RZ9IRNUQ1RZZPYQFHMDS  CQ WRONG   \n",
       "13  3FO95NVK6NNCIVEE3WMHVHCIMX4SRY  39P6QDR003RZ9IRNUQ1RZZPYQFHMDS  CQ WRONG   \n",
       "14  3OB6JN3AA1C9K019JZQVJ8DCU8MMRG  39P6QDR003RZ9IRNUQ1RZZPYQFHMDS  CQ WRONG   \n",
       "15  3NOEP8XAVFPZ2ZKYKEOFPUTV0UIPXB  39P6QDR003RZ9IRNUQ1RZZPYQFHMDS  CQ WRONG   \n",
       "\n",
       "   Description              Keywords Reward                  CreationTime  \\\n",
       "0     CQ WRONG  survey, demographics  $1.00  Sun May 29 20:20:05 PDT 2022   \n",
       "1     CQ WRONG  survey, demographics  $1.00  Sun May 29 20:20:05 PDT 2022   \n",
       "2     CQ WRONG  survey, demographics  $1.00  Sun May 29 20:20:05 PDT 2022   \n",
       "3     CQ WRONG  survey, demographics  $1.00  Sun May 29 20:20:05 PDT 2022   \n",
       "4     CQ WRONG  survey, demographics  $1.00  Sun May 29 20:20:05 PDT 2022   \n",
       "5     CQ WRONG  survey, demographics  $1.00  Sun May 29 20:20:05 PDT 2022   \n",
       "6     CQ WRONG  survey, demographics  $1.00  Sun May 29 20:20:05 PDT 2022   \n",
       "7     CQ WRONG  survey, demographics  $1.00  Sun May 29 20:20:05 PDT 2022   \n",
       "8     CQ WRONG  survey, demographics  $1.00  Sun May 29 20:20:05 PDT 2022   \n",
       "9     CQ WRONG  survey, demographics  $1.00  Sun May 29 20:20:05 PDT 2022   \n",
       "10    CQ WRONG  survey, demographics  $1.00  Sun May 29 20:20:05 PDT 2022   \n",
       "11    CQ WRONG  survey, demographics  $1.00  Sun May 29 20:20:05 PDT 2022   \n",
       "12    CQ WRONG  survey, demographics  $1.00  Sun May 29 20:20:14 PDT 2022   \n",
       "13    CQ WRONG  survey, demographics  $1.00  Sun May 29 20:20:14 PDT 2022   \n",
       "14    CQ WRONG  survey, demographics  $1.00  Sun May 29 20:20:14 PDT 2022   \n",
       "15    CQ WRONG  survey, demographics  $1.00  Sun May 29 20:20:10 PDT 2022   \n",
       "\n",
       "    MaxAssignments                              RequesterAnnotation  \\\n",
       "0                1  BatchId:356838;OriginalHitTemplateId:920937243;   \n",
       "1                1  BatchId:356838;OriginalHitTemplateId:920937243;   \n",
       "2                1  BatchId:356838;OriginalHitTemplateId:920937243;   \n",
       "3                1  BatchId:356838;OriginalHitTemplateId:920937243;   \n",
       "4                1  BatchId:356838;OriginalHitTemplateId:920937243;   \n",
       "5                1  BatchId:356838;OriginalHitTemplateId:920937243;   \n",
       "6                1  BatchId:356838;OriginalHitTemplateId:920937243;   \n",
       "7                1  BatchId:356838;OriginalHitTemplateId:920937243;   \n",
       "8                1  BatchId:356838;OriginalHitTemplateId:920937243;   \n",
       "9                1  BatchId:356838;OriginalHitTemplateId:920937243;   \n",
       "10               1  BatchId:356838;OriginalHitTemplateId:920937243;   \n",
       "11               1  BatchId:356838;OriginalHitTemplateId:920937243;   \n",
       "12               1  BatchId:356838;OriginalHitTemplateId:920937243;   \n",
       "13               1  BatchId:356838;OriginalHitTemplateId:920937243;   \n",
       "14               1  BatchId:356838;OriginalHitTemplateId:920937243;   \n",
       "15               1  BatchId:356838;OriginalHitTemplateId:920937243;   \n",
       "\n",
       "    AssignmentDurationInSeconds  ...  \\\n",
       "0                         25200  ...   \n",
       "1                         25200  ...   \n",
       "2                         25200  ...   \n",
       "3                         25200  ...   \n",
       "4                         25200  ...   \n",
       "5                         25200  ...   \n",
       "6                         25200  ...   \n",
       "7                         25200  ...   \n",
       "8                         25200  ...   \n",
       "9                         25200  ...   \n",
       "10                        25200  ...   \n",
       "11                        25200  ...   \n",
       "12                        25200  ...   \n",
       "13                        25200  ...   \n",
       "14                        25200  ...   \n",
       "15                        25200  ...   \n",
       "\n",
       "                                     Answer.human_cq1  \\\n",
       "0   Could you clarify 'new album'--'compilation', ...   \n",
       "1   Could you clarify 'coins'--'the two-cent piece...   \n",
       "2   Could you be more specific--'start according t...   \n",
       "3   Could you be more specific--'the goonies I', '...   \n",
       "4   Could you be more specific--'most goals' or 'a...   \n",
       "5         Could you be more specific--'when' or 'why?   \n",
       "6   Could you clarify 'the eighth sims 3 expansion...   \n",
       "7   Could you clarify 'a musical pattern'--'in the...   \n",
       "8   Could you be more specific--'debut' or 'Until ...   \n",
       "9   Could you be more specific--'what general type...   \n",
       "10  Could you clarify 'Where'--'which institution'...   \n",
       "11  Could you clarify 'the land before time'--'I',...   \n",
       "12  Could you be more specific--'the prime ministe...   \n",
       "13  Could you clarify 'where'--'where' or 'in what...   \n",
       "14  Could you clarify 'pm and viceroy'--'pm' or 'v...   \n",
       "15  Could you be more specific--'who is generally ...   \n",
       "\n",
       "                                     Answer.human_cq2  \\\n",
       "0   Could you clarify 'start'--'end', 'commonly st...   \n",
       "1     Could you clarify 'start'--'start' or 'finish'?   \n",
       "2   Could you clarify 'where'--'through what' or '...   \n",
       "3   Could you clarify 'most goals'--'what' or 'wha...   \n",
       "4   Could you be more specific--'from what opera',...   \n",
       "5    Could you clarify 'nfl record'--'who' or 'what'?   \n",
       "6   Could you clarify 'what'--'none' or 'the code ...   \n",
       "7   Could you be more specific--'what' or 'which p...   \n",
       "8   Could you clarify 'major league baseball'--'al...   \n",
       "9   Could you clarify 'where'--'who' or 'styles th...   \n",
       "10  Could you clarify 'us female leader'--'who was...   \n",
       "11  Could you clarify 'on'--'on the frieze of' or ...   \n",
       "12       Could you clarify 'start'--'start' or 'end'?   \n",
       "13       Could you clarify 'begin'--'begin' or 'end'?   \n",
       "14  Could you clarify 'snapped'--'Snapped' or 'sna...   \n",
       "15  Could you clarify 'the god'--'the god' or 'the...   \n",
       "\n",
       "                                     Answer.human_cq3  \\\n",
       "0   Could you clarify 'who'--'the character', 'the...   \n",
       "1   Could you clarify 'office 2019'--'commercial p...   \n",
       "2   Could you be more specific--'if you are born i...   \n",
       "3       Could you clarify 'model'--'whose' or 'what'?   \n",
       "4   Could you clarify 'what type of tissue'--'what...   \n",
       "5   Could you clarify 'who'--'none', 'that was coa...   \n",
       "6       Could you be more specific--'hard' or 'soft'?   \n",
       "7   Could you be more specific--'Catholic high sch...   \n",
       "8   Could you be more specific--'pro shops', 'whic...   \n",
       "9    Could you clarify 'get'--'come from' or 'place'?   \n",
       "10  Could you clarify 'tv and debut'--'TV debut', ...   \n",
       "11  Could you clarify 'where'--'in what country' o...   \n",
       "12  Could you clarify 'the first and last female r...   \n",
       "13    Could you clarify 'chief'--'chief' or 'deputy'?   \n",
       "14  Could you be more specific--'what is' or 'what...   \n",
       "15       Could you be more specific--'who' and 'how'?   \n",
       "\n",
       "                                     Answer.human_cq4  \\\n",
       "0   Could you be more specific--'who holds the rec...   \n",
       "1   Could you clarify 'men’s and women’s'--'men’s'...   \n",
       "2   Could you clarify 'where'--'what', 'In what', ...   \n",
       "3   Could you clarify 'alternate ending'--'where c...   \n",
       "4        Could you clarify 'begin'--'begin' or 'end'?   \n",
       "5   Could you clarify 'workers'--'workers' or 'lab...   \n",
       "6      Could you be more specific--'when' or 'where'?   \n",
       "7   Could you clarify 'us sailors'--'us sailors' o...   \n",
       "8   Could you be more specific--'andhra pradesh pr...   \n",
       "9   Could you clarify 'of cell'--'throughout cell'...   \n",
       "10  Could you clarify 'love simon'--'the pre-order...   \n",
       "11  Could you clarify 'males'--'all', 'african ame...   \n",
       "12  Could you be more specific--'in vertebrates', ...   \n",
       "13  Could you clarify 'come'--'in US', 'in Europe'...   \n",
       "14  Could you clarify 'king or queen'--'king' or '...   \n",
       "15  Could you clarify 'you were always on my mind'...   \n",
       "\n",
       "                                     Answer.human_cq5  \\\n",
       "0        Could you clarify 'begin'--'begin' or 'end'?   \n",
       "1   Could you be more specific--'how many games', ...   \n",
       "2   Could you clarify 'superoxide dismutase'--'sod...   \n",
       "3   Could you be more specific--'in US' or 'in Bri...   \n",
       "4   Could you be more specific--'plasma membrane b...   \n",
       "5   Could you clarify 'season 3'--'Season 3', 'Sea...   \n",
       "6   Could you be more specific--'because it trigge...   \n",
       "7   Could you clarify 'where'--'located' or 'neare...   \n",
       "8   Could you clarify 'the due process clause'--'t...   \n",
       "9   Could you clarify 'members of the joint chiefs...   \n",
       "10       Could you be more specific--'what' or 'who'?   \n",
       "11      Could you be more specific--'period' or '..'?   \n",
       "12  Could you be more specific--'what broadway sho...   \n",
       "13       Could you be more specific--'who' or 'when'?   \n",
       "14  Could you clarify 'coming'--'on CD, digital do...   \n",
       "15  Could you clarify 'what religion'--'what chris...   \n",
       "\n",
       "                                     Answer.human_cq6  \\\n",
       "0   Could you clarify 'known'--'most famously' or ...   \n",
       "1   Could you clarify 'located'--'by which river' ...   \n",
       "2   Could you clarify 'the brady bunch'--'the brad...   \n",
       "3   Could you be more specific--'in US', 'in Nethe...   \n",
       "4      Could you be more specific--'when' or 'where'?   \n",
       "5   Could you be more specific--'in Australia' or ...   \n",
       "6   Could you clarify 'pnc banks'--'pnc banks' or ...   \n",
       "7        Could you clarify 'start'--'start' or 'end'?   \n",
       "8   Could you clarify 'the two sides'--'official n...   \n",
       "9   Could you clarify '3 times'--'3 times' or 'mor...   \n",
       "10  Could you clarify 'who'--'which character' or ...   \n",
       "11  Could you clarify 'used'--'used first' or 'lat...   \n",
       "12  Could you clarify 'army air corps'--'US' or 'UK'?   \n",
       "13  Could you clarify 'what style'--'what style' o...   \n",
       "14  Could you be more specific--'who' or 'how many...   \n",
       "15  Could you be more specific--'what', 'why', or ...   \n",
       "\n",
       "                                     Answer.human_cq7  \\\n",
       "0     Could you clarify 'start'--'start' or 'finish'?   \n",
       "1        Could you clarify 'start'--'begin' or 'end'?   \n",
       "2   Could you be more specific-'what was', 'when',...   \n",
       "3        Could you clarify 'start'--'start' or 'end'?   \n",
       "4        Could you be more specific--'who' or 'what'?   \n",
       "5   Could you clarify 'Where'--'Where' or 'what ri...   \n",
       "6   Could you clarify 'the olympic opening process...   \n",
       "7   Could you clarify 'what album'--'medium' or 's...   \n",
       "8   Could you clarify 'english and italian sonnets...   \n",
       "9   Could you be more specific--'' or  'after beco...   \n",
       "10  Could you clarify 'in counting crows song'--'n...   \n",
       "11  Could you clarify 'come'--'Hammersmith Apollo'...   \n",
       "12  Could you clarify 'first'--'in the music world...   \n",
       "13       Could you clarify 'record'--'who' or 'what'?   \n",
       "14  Could you clarify 'greece'--'all of mainland, ...   \n",
       "15  Could you be more specific--'muscle cells', 'i...   \n",
       "\n",
       "                                     Answer.human_cq8 Approve Reject  \n",
       "0   Could you clarify 'the pair of hand drums'--'t...     NaN    NaN  \n",
       "1   Could you clarify 'When'--'which super bowl' o...     NaN    NaN  \n",
       "2          Could be more specific--'where' or 'when'?     NaN    NaN  \n",
       "3   Could you be more specific--'x axis' or 'y axis'?     NaN    NaN  \n",
       "4   Could you clarify 'wrote'--'wrote' or 'produced'?     NaN    NaN  \n",
       "5   Could you clarify 'failure'--'failure' or 'bac...     NaN    NaN  \n",
       "6   Could you clarify 'opening and closing'--'open...     NaN    NaN  \n",
       "7        Could you clarify 'begin'--'begin' or 'end'?     NaN    NaN  \n",
       "8   Could you clarify 'executive order 9066'--'wha...     NaN    NaN  \n",
       "9   Could you clarify 'charlie brown christmas'--'...     NaN    NaN  \n",
       "10  Could you be more specific--'World Bank', 'int...     NaN    NaN  \n",
       "11  Could you be more specific--'in Australia', 'i...     NaN    NaN  \n",
       "12  Could you clarify 'who'--'from redditch', 'fro...     NaN    NaN  \n",
       "13  Could you clarify 'it always feels like somebo...     NaN    NaN  \n",
       "14  Could you clarify 'structures or meanings'--'s...     NaN    NaN  \n",
       "15  Could you be more specific--'scapula (uppermos...     NaN    NaN  \n",
       "\n",
       "[16 rows x 83 columns]"
      ]
     },
     "execution_count": 40,
     "metadata": {},
     "output_type": "execute_result"
    }
   ],
   "source": [
    "df"
   ]
  },
  {
   "cell_type": "code",
   "execution_count": 72,
   "metadata": {},
   "outputs": [
    {
     "name": "stdout",
     "output_type": "stream",
     "text": [
      "9\n",
      "What is the name of the samaritan woman at the well?\n",
      "Could you clarify 'the name'--'the meaning of' or 'in eastern orthodox church tradition'?\n",
      "What's the name of the samaritan woman at the well?\n",
      "What is the meaning of the name of the samaritan woman at the well?\n",
      "What is the name of the samaritan woman at the well in Eastern Orthodox Church tradition?\n",
      "----------\n",
      "10\n",
      "What is the west bank and gaza strip?\n",
      "Could you clarify 'what'--?\n",
      "What is the west bank ?\n",
      "What is the Gaza Strip?\n",
      "----------\n",
      "11\n",
      "Who played freda in dumb and dumber 2?\n",
      "Could you clarify 'played'--'the second movie'?\n",
      "Who played Freda in the Second Dumb and Dumber movie?\n",
      "Who played Freda in Dumb and Dumber To?\n",
      "----------\n",
      "12\n",
      "Most runs by a player in single ipl season?\n",
      "Could you clarify 'runs'--'has scored'?\n",
      "Who has the most runs by a player in a single IPL season?\n",
      "What is the most runs a player has scored in a single IPL season?\n",
      "----------\n",
      "13\n",
      "Where was the hindenburg scheduled to fly and how many passengers were on the british airship?\n",
      "Could you clarify 'scheduled'--'hindenburg'?\n",
      "Where was the Hindenburg scheduled to fly?\n",
      "How many passengers were on the British airship Hindenburg?\n",
      "----------\n",
      "14\n",
      "When did the springbok tour start and end?\n",
      "Could you clarify 'the springbok'--''s arrive in new zealand' or 'the first game of'?\n",
      "When did the Springbok's arrive in New Zealand?\n",
      "When did the first game of the Springbok Tour start?\n",
      "When did the Springbok tour end?\n",
      "----------\n",
      "15\n",
      "A group of objects orbiting between mars and jupiter?\n",
      "Could you clarify 'a group'--'called'?\n",
      "What is the group of objects orbiting between mars and jupiter?\n",
      "What is the group of objects orbiting between mars and jupiter called?\n",
      "----------\n",
      "16\n",
      "Who was the longest living president of the united states?\n",
      "Could you clarify 'who'--'of presidents have died , who had life'?\n",
      "Who is the longest living president of the United States?\n",
      "Of presidents who have died, who had the longest life?\n",
      "----------\n",
      "17\n",
      "Player with most own goals in premier league?\n",
      "Could you clarify 'player'--'in a season'?\n",
      "Who is the player with the most own goals in Premier League?\n",
      "Who is the player with the most own goals in a season in Premier League?\n",
      "----------\n"
     ]
    }
   ],
   "source": [
    "for idx in range(9, 18):\n",
    "    print(idx)\n",
    "    print(ds_[idx][\"aq\"])    \n",
    "    print(ds_[idx][\"machine_cq\"])\n",
    "    for i in ds_[idx][\"dqs\"]:\n",
    "        print(i)\n",
    "    print(\"----------\")"
   ]
  },
  {
   "cell_type": "code",
   "execution_count": 54,
   "metadata": {},
   "outputs": [
    {
     "data": {
      "text/plain": [
       "\"Could you clarify 'who'--'when did live'?\""
      ]
     },
     "execution_count": 54,
     "metadata": {},
     "output_type": "execute_result"
    }
   ],
   "source": [
    "df.iloc[0][\"Input.machine_cq0\"]"
   ]
  },
  {
   "cell_type": "code",
   "execution_count": 11,
   "metadata": {},
   "outputs": [
    {
     "data": {
      "text/plain": [
       "\"Could you clarify 'the simpsons first air'--'as an animated short on the tracey ullman show' or 'as a half-hour prime time show'?\""
      ]
     },
     "execution_count": 11,
     "metadata": {},
     "output_type": "execute_result"
    }
   ],
   "source": [
    "ex['machine_cq']."
   ]
  },
  {
   "cell_type": "code",
   "execution_count": null,
   "metadata": {},
   "outputs": [],
   "source": []
  },
  {
   "cell_type": "code",
   "execution_count": 76,
   "metadata": {},
   "outputs": [
    {
     "data": {
      "text/plain": [
       "[0,\n",
       " 1,\n",
       " 2,\n",
       " 3,\n",
       " 4,\n",
       " 5,\n",
       " 6,\n",
       " 7,\n",
       " 8,\n",
       " 9,\n",
       " 10,\n",
       " 11,\n",
       " 12,\n",
       " 13,\n",
       " 14,\n",
       " 15,\n",
       " 16,\n",
       " 17,\n",
       " 18,\n",
       " 19,\n",
       " 20,\n",
       " 21,\n",
       " 22,\n",
       " 23,\n",
       " 24,\n",
       " 25,\n",
       " 26,\n",
       " 27,\n",
       " 28,\n",
       " 29,\n",
       " 30,\n",
       " 31,\n",
       " 32,\n",
       " 33,\n",
       " 34,\n",
       " 35,\n",
       " 36,\n",
       " 37,\n",
       " 38,\n",
       " 39,\n",
       " 40,\n",
       " 41,\n",
       " 42,\n",
       " 43,\n",
       " 44,\n",
       " 45,\n",
       " 46,\n",
       " 47,\n",
       " 48,\n",
       " 49,\n",
       " 50,\n",
       " 51,\n",
       " 52,\n",
       " 53,\n",
       " 54,\n",
       " 55,\n",
       " 56,\n",
       " 57,\n",
       " 58,\n",
       " 59,\n",
       " 60,\n",
       " 61,\n",
       " 62,\n",
       " 63,\n",
       " 64,\n",
       " 65,\n",
       " 66,\n",
       " 67,\n",
       " 68,\n",
       " 69,\n",
       " 70,\n",
       " 71,\n",
       " 72,\n",
       " 73,\n",
       " 74,\n",
       " 75,\n",
       " 76,\n",
       " 77,\n",
       " 78,\n",
       " 79,\n",
       " 80,\n",
       " 81,\n",
       " 82,\n",
       " 83,\n",
       " 84,\n",
       " 85,\n",
       " 86,\n",
       " 87,\n",
       " 88,\n",
       " 89,\n",
       " 90,\n",
       " 91,\n",
       " 92,\n",
       " 93,\n",
       " 94,\n",
       " 95,\n",
       " 96,\n",
       " 97,\n",
       " 98,\n",
       " 99,\n",
       " 100,\n",
       " 101,\n",
       " 102,\n",
       " 103,\n",
       " 104,\n",
       " 105,\n",
       " 106,\n",
       " 107,\n",
       " 108,\n",
       " 109,\n",
       " 110,\n",
       " 111,\n",
       " 112,\n",
       " 113,\n",
       " 114,\n",
       " 115,\n",
       " 116,\n",
       " 117,\n",
       " 118,\n",
       " 119,\n",
       " 120,\n",
       " 121,\n",
       " 122,\n",
       " 123,\n",
       " 124,\n",
       " 125,\n",
       " 126,\n",
       " 127,\n",
       " 128,\n",
       " 129,\n",
       " 130,\n",
       " 131,\n",
       " 132,\n",
       " 133,\n",
       " 134,\n",
       " 135,\n",
       " 136,\n",
       " 137,\n",
       " 138,\n",
       " 139,\n",
       " 140,\n",
       " 141,\n",
       " 142,\n",
       " 143,\n",
       " 144,\n",
       " 145,\n",
       " 146,\n",
       " 147,\n",
       " 148,\n",
       " 149,\n",
       " 150,\n",
       " 151,\n",
       " 152]"
      ]
     },
     "execution_count": 76,
     "metadata": {},
     "output_type": "execute_result"
    }
   ],
   "source": [
    "sorted(mapping.keys())"
   ]
  },
  {
   "cell_type": "code",
   "execution_count": null,
   "metadata": {},
   "outputs": [],
   "source": []
  },
  {
   "cell_type": "code",
   "execution_count": null,
   "metadata": {},
   "outputs": [],
   "source": []
  },
  {
   "cell_type": "code",
   "execution_count": 54,
   "metadata": {},
   "outputs": [
    {
     "data": {
      "text/plain": [
       "\"Could you clarify 'who'--'when did live'?\""
      ]
     },
     "execution_count": 54,
     "metadata": {},
     "output_type": "execute_result"
    }
   ],
   "source": [
    "df.iloc[0][\"Input.machine_cq0\"]"
   ]
  },
  {
   "cell_type": "code",
   "execution_count": null,
   "metadata": {},
   "outputs": [],
   "source": []
  },
  {
   "cell_type": "code",
   "execution_count": null,
   "metadata": {},
   "outputs": [],
   "source": []
  },
  {
   "cell_type": "code",
   "execution_count": null,
   "metadata": {},
   "outputs": [],
   "source": []
  },
  {
   "cell_type": "code",
   "execution_count": null,
   "metadata": {},
   "outputs": [],
   "source": []
  },
  {
   "cell_type": "code",
   "execution_count": null,
   "metadata": {},
   "outputs": [],
   "source": []
  },
  {
   "cell_type": "code",
   "execution_count": null,
   "metadata": {},
   "outputs": [],
   "source": []
  },
  {
   "cell_type": "code",
   "execution_count": null,
   "metadata": {},
   "outputs": [],
   "source": []
  },
  {
   "cell_type": "code",
   "execution_count": 32,
   "metadata": {},
   "outputs": [],
   "source": [
    "invalid_ids = [idx for idx, ex in enumerate(ds_) if not check_validity(ex)]"
   ]
  },
  {
   "cell_type": "code",
   "execution_count": 34,
   "metadata": {},
   "outputs": [
    {
     "data": {
      "text/plain": [
       "153"
      ]
     },
     "execution_count": 34,
     "metadata": {},
     "output_type": "execute_result"
    }
   ],
   "source": [
    "len(invalid_ids)"
   ]
  },
  {
   "cell_type": "code",
   "execution_count": 35,
   "metadata": {},
   "outputs": [
    {
     "data": {
      "application/vnd.jupyter.widget-view+json": {
       "model_id": "",
       "version_major": 2,
       "version_minor": 0
      },
      "text/plain": [
       "  0%|          | 0/153 [00:00<?, ?ex/s]"
      ]
     },
     "metadata": {},
     "output_type": "display_data"
    },
    {
     "data": {
      "application/vnd.jupyter.widget-view+json": {
       "model_id": "",
       "version_major": 2,
       "version_minor": 0
      },
      "text/plain": [
       "  0%|          | 0/153 [00:00<?, ?ex/s]"
      ]
     },
     "metadata": {},
     "output_type": "display_data"
    },
    {
     "name": "stdout",
     "output_type": "stream",
     "text": [
      "Save: data_splits_for_HIT/wrong.csv\n"
     ]
    },
    {
     "data": {
      "text/plain": [
       "159092"
      ]
     },
     "execution_count": 35,
     "metadata": {},
     "output_type": "execute_result"
    }
   ],
   "source": [
    "name = \"wrong\"\n",
    "ids, num_queries_per_page = invalid_ids, 9\n",
    "ds_ = ds_all.select(ids).map(hit.preprocess_for_hit)\n",
    "ds_ = ds_.map(lambda x: x, remove_columns=[\"viewed_doc_titles\", \"answers\", \"orig_idx\", \"dqs\",\n",
    "                                           \"gold_passages\", \"nouns_by_titles\", \"aq_\", \"dqs_\", \"candidates\"])\n",
    "sharded_sets = [ds_.shard(num_shards=num_queries_per_page, index=i) for i in range(num_queries_per_page)]\n",
    "ds_ = hit.merge_queries(sharded_sets)\n",
    "filename = f\"data_splits_for_HIT/{name}.csv\"\n",
    "print(f\"Save: {filename}\")\n",
    "ds_.to_csv(filename, index=False)"
   ]
  },
  {
   "cell_type": "code",
   "execution_count": 36,
   "metadata": {},
   "outputs": [
    {
     "name": "stdout",
     "output_type": "stream",
     "text": [
      "False\n"
     ]
    }
   ],
   "source": [
    "name = \"wrong\"\n",
    "ids, num_queries_per_page = invalid_ids, 9\n",
    "hit.compose_mturk_html(ds_all, good_examples,\n",
    "                       csv_file=f\"data_splits_for_HIT/{name}.csv\",\n",
    "                       html_template_file=f\"{name}_template.html\",\n",
    "                       html_example_file=f\"{name}_example.html\",\n",
    "                       basic_html_code=hit.BASIC_HTML_CODE)"
   ]
  },
  {
   "cell_type": "code",
   "execution_count": null,
   "metadata": {},
   "outputs": [],
   "source": []
  },
  {
   "cell_type": "code",
   "execution_count": null,
   "metadata": {},
   "outputs": [],
   "source": []
  },
  {
   "cell_type": "code",
   "execution_count": null,
   "metadata": {},
   "outputs": [],
   "source": []
  },
  {
   "cell_type": "code",
   "execution_count": null,
   "metadata": {},
   "outputs": [],
   "source": []
  },
  {
   "cell_type": "code",
   "execution_count": null,
   "metadata": {},
   "outputs": [],
   "source": []
  },
  {
   "cell_type": "markdown",
   "metadata": {},
   "source": [
    "# Used examples as good examples"
   ]
  },
  {
   "cell_type": "code",
   "execution_count": 3,
   "metadata": {},
   "outputs": [],
   "source": [
    "# idx, reason, gold_cq.\n",
    "good_examples = [\n",
    "    # G0: when did ireland rugby last win the grand slam ?\n",
    "    {\"idx\": 28, \n",
    "     \"subtitle\": \"No revision required.\", \n",
    "     \"reason\": \"{option}{ambiguous_part} makes sense.\",\n",
    "    },\n",
    "    # G1: when did the packers play at camp randall ? \n",
    "    {\"idx\": 88, \n",
    "     \"subtitle\": \"Revision required: choose {ambiguous part} from suggested underlined candidates.\", \n",
    "     \"reason\": \"{option}{ambiguous_part} makes sense.\",\n",
    "     \"gold_cq\": \"Could you clarify '<mark>play</mark>'--'first', 'last , as of 2017'?\"\n",
    "    },\n",
    "    # G2: who is the current archbishop of los angeles ? \n",
    "    {\"idx\": 259, \n",
    "     \"subtitle\": \"Revision required: write {ambiguous part} that is a part of one suggested underlined candidate.\", \n",
    "     \"reason\": \"The desirable {ambiguous part} is 'current' that is not in suggested underlined candidates. In such cases, you need to write 'current' regardless of suggested candidates.\",\n",
    "     \"gold_cq\": \"<span style='font-family:monospace'>Could you clarify '<mark>current</mark>'--'5th', '4th', or '3rd'?\"\n",
    "    },\n",
    "    # G3: where does the cumberland river begin and end ?\n",
    "    {\"idx\": 85, \n",
    "     \"subtitle\": \"Revision required: revise {option_i}.\", \n",
    "     \"reason\": \"The auto-generated {option_i}s are wrong.\",\n",
    "     \"gold_cq\": \"<span style='font-family:monospace'>Could you clarify '<mark>begin</mark>'--<mark>'begin' or 'end'</mark></span>?\"\n",
    "    },    \n",
    "    # G4: When did the edwardian era start and end?  \n",
    "    {\"idx\": 55, \n",
    "     \"subtitle\": \"Revision required: need to read Wikipedia passsages.\", \n",
    "     \"reason\": \"Provided possible interpretaions are wrong according to Wikipedia Passages.\",\n",
    "     \"gold_cq\": \"<span style='font-family:monospace'>Could you clarify '<mark>start</mark>'--<mark>'start' or 'end'</mark></span>?\"\n",
    "    },  \n",
    "    # G5: when did the han solo movie come out ?    \n",
    "    {\"idx\": 8, \n",
    "     \"subtitle\": \"Revision required: need to delete redundant parts of options.\", \n",
    "     \"reason\": \"<mark>'first premiered' and 'came' are redundant when 'come' is chosen as the {ambiguous part}.</mark> {ambiguous part}{option} makes sense.\",\n",
    "     \"gold_cq\": \"<span style='font-family:monospace'>Could you clarify '<mark>come</mark>'--<mark>'in los angeles' or 'in united states'</mark></span>?\"\n",
    "    },\n",
    "    # G6: what is the population of rochester new york ?     \n",
    "    {\"idx\": 76, \n",
    "     \"subtitle\": \"Revision required: when picking one {ambiguous part} is hard.\", \n",
    "     \"reason\": \"<mark>Choosing either 'rochester new york' or 'the population' as {ambiguous part} makes sense. Therefore, write 'Could you be more specific' without {ambiguous part}. Also, revising {option_i} in the form of 'in 19XX' is correct as it has minimal information enough to be distinguished from other options.</mark>\",\n",
    "     \"gold_cq\": \"<span style='font-family:monospace'><mark>Could you be more specific--'in 2010', 'in 2000', 'in 1990', or 'in 2018'?</mark></span>\" \n",
    "    },\n",
    "    # G7: when was the forbidden city opened to the public ?\n",
    "    {\"idx\": 64, \n",
    "     \"subtitle\": \"No revision required: replacing {ambiguous part} with {option_i} makes sense.\", \n",
    "     \"reason\": \"Putting {option_i} instead of {ambiguous part} in the ambiguous question makes the question be clarified.\",\n",
    "    },\n",
    "    # G8: what are the measurements of a full mattress ? \n",
    "    {\"idx\": 86, \n",
    "     \"subtitle\": \"Revision required: when picking one {ambiguous part} is hard\", \n",
    "     \"reason\": \"<mark>Both 'measurement' and 'a full mattress' can be {ambiguous part}.</mark> In such cases, write 'Could you be more specific' without {ambiguous part}.\",\n",
    "     \"gold_cq\": \"<span style='font-family:monospace'><mark>Could you be more specific</mark>'--'standard in inches', 'standard in centimeters', 'xl in inches', or 'xl in centimeters'</span>'?\"\n",
    "    },    \n",
    "]"
   ]
  },
  {
   "cell_type": "markdown",
   "metadata": {},
   "source": [
    "# Distribute examples"
   ]
  },
  {
   "cell_type": "code",
   "execution_count": 4,
   "metadata": {},
   "outputs": [],
   "source": [
    "num_validation_examples = 71\n",
    "num_examples_to_be_annotated = len(ds_all) - num_validation_examples\n",
    "num_groups = 10\n",
    "num_hits_per_group = 65\n",
    "num_examples_per_hit = 10\n",
    "num_validation_example_per_hit = 1\n",
    "\n",
    "num_validation_examples_first = 10 # Free to change. to 71. (allow overlapping with second validation)\n",
    "\n",
    "# 1st qualification\n",
    "filter1 = [i for i in range(num_validation_examples_first)] \n",
    "\n",
    "# 2nd qualification per group\n",
    "filter2 = [i for i in range(num_validation_examples-num_hits_per_group, num_validation_examples)] \n",
    "filter2_placements = random.choices(range(10), k=num_hits_per_group)\n",
    "\n",
    "# checksum\n",
    "assert num_examples_to_be_annotated == num_hits_per_group*(num_examples_per_hit-num_validation_example_per_hit)*num_groups\n",
    "\n",
    "distribution = {\"qualifier\": ([i for i in range(num_validation_examples_first)], num_validation_examples_first)}\n",
    "\n",
    "offset = num_validation_examples\n",
    "for group_id in range(num_groups):\n",
    "    total_ids = []\n",
    "    offset += group_id * (num_hits_per_group * num_examples_per_hit)\n",
    "    for hit_id in range(num_hits_per_group):\n",
    "        start_idx = offset + hit_id * (num_examples_per_hit-num_validation_example_per_hit)\n",
    "        end_idx = offset + (hit_id+1) * (num_examples_per_hit-num_validation_example_per_hit)\n",
    "        ids = [i for i in range(start_idx, end_idx)]\n",
    "        ids = ids[:filter2_placements[hit_id]] + [filter2[hit_id]] + ids[filter2_placements[hit_id]:]\n",
    "        total_ids += ids\n",
    "    distribution[f\"group{group_id}\"] = (total_ids, num_examples_per_hit)"
   ]
  },
  {
   "cell_type": "code",
   "execution_count": 8,
   "metadata": {},
   "outputs": [
    {
     "data": {
      "application/vnd.jupyter.widget-view+json": {
       "model_id": "abfa1e23470a41fa8bdccea0370d2b6d",
       "version_major": 2,
       "version_minor": 0
      },
      "text/plain": [
       "  0%|          | 0/10 [00:00<?, ?ex/s]"
      ]
     },
     "metadata": {},
     "output_type": "display_data"
    },
    {
     "data": {
      "application/vnd.jupyter.widget-view+json": {
       "model_id": "9e4fa737197e4dd786c352d74aa1c83c",
       "version_major": 2,
       "version_minor": 0
      },
      "text/plain": [
       "  0%|          | 0/10 [00:00<?, ?ex/s]"
      ]
     },
     "metadata": {},
     "output_type": "display_data"
    },
    {
     "name": "stdout",
     "output_type": "stream",
     "text": [
      "Save: data_splits_for_HIT/qualifier.csv\n"
     ]
    },
    {
     "data": {
      "application/vnd.jupyter.widget-view+json": {
       "model_id": "50b6df3132fd428baa9eb65df7fcd31b",
       "version_major": 2,
       "version_minor": 0
      },
      "text/plain": [
       "  0%|          | 0/650 [00:00<?, ?ex/s]"
      ]
     },
     "metadata": {},
     "output_type": "display_data"
    },
    {
     "data": {
      "application/vnd.jupyter.widget-view+json": {
       "model_id": "e645ad16d36e450eb6c0e49424fb6ff9",
       "version_major": 2,
       "version_minor": 0
      },
      "text/plain": [
       "  0%|          | 0/650 [00:00<?, ?ex/s]"
      ]
     },
     "metadata": {},
     "output_type": "display_data"
    },
    {
     "name": "stdout",
     "output_type": "stream",
     "text": [
      "Save: data_splits_for_HIT/group0.csv\n"
     ]
    },
    {
     "data": {
      "application/vnd.jupyter.widget-view+json": {
       "model_id": "b3a0cf1cd35240cb84cb8ad56e2340a1",
       "version_major": 2,
       "version_minor": 0
      },
      "text/plain": [
       "  0%|          | 0/650 [00:00<?, ?ex/s]"
      ]
     },
     "metadata": {},
     "output_type": "display_data"
    },
    {
     "data": {
      "application/vnd.jupyter.widget-view+json": {
       "model_id": "aad8d5ba236b425e929993cfb94158e9",
       "version_major": 2,
       "version_minor": 0
      },
      "text/plain": [
       "  0%|          | 0/650 [00:00<?, ?ex/s]"
      ]
     },
     "metadata": {},
     "output_type": "display_data"
    },
    {
     "name": "stdout",
     "output_type": "stream",
     "text": [
      "Save: data_splits_for_HIT/group1.csv\n"
     ]
    },
    {
     "data": {
      "application/vnd.jupyter.widget-view+json": {
       "model_id": "3f9ce8253973479a84ccdfb97e3e0fc7",
       "version_major": 2,
       "version_minor": 0
      },
      "text/plain": [
       "  0%|          | 0/650 [00:00<?, ?ex/s]"
      ]
     },
     "metadata": {},
     "output_type": "display_data"
    },
    {
     "data": {
      "application/vnd.jupyter.widget-view+json": {
       "model_id": "ce77962a33e64708be2ad93a6f929ddf",
       "version_major": 2,
       "version_minor": 0
      },
      "text/plain": [
       "  0%|          | 0/650 [00:00<?, ?ex/s]"
      ]
     },
     "metadata": {},
     "output_type": "display_data"
    },
    {
     "name": "stdout",
     "output_type": "stream",
     "text": [
      "Save: data_splits_for_HIT/group2.csv\n"
     ]
    },
    {
     "data": {
      "application/vnd.jupyter.widget-view+json": {
       "model_id": "bf3dbd398d8d4825b8bcfa2598fde3a1",
       "version_major": 2,
       "version_minor": 0
      },
      "text/plain": [
       "  0%|          | 0/650 [00:00<?, ?ex/s]"
      ]
     },
     "metadata": {},
     "output_type": "display_data"
    },
    {
     "data": {
      "application/vnd.jupyter.widget-view+json": {
       "model_id": "118a7cd87859491db8dfad03ef7c1cf2",
       "version_major": 2,
       "version_minor": 0
      },
      "text/plain": [
       "  0%|          | 0/650 [00:00<?, ?ex/s]"
      ]
     },
     "metadata": {},
     "output_type": "display_data"
    },
    {
     "name": "stdout",
     "output_type": "stream",
     "text": [
      "Save: data_splits_for_HIT/group3.csv\n"
     ]
    },
    {
     "data": {
      "application/vnd.jupyter.widget-view+json": {
       "model_id": "0cffee8656ff4c4c931c6ee56aaeead5",
       "version_major": 2,
       "version_minor": 0
      },
      "text/plain": [
       "  0%|          | 0/650 [00:00<?, ?ex/s]"
      ]
     },
     "metadata": {},
     "output_type": "display_data"
    },
    {
     "data": {
      "application/vnd.jupyter.widget-view+json": {
       "model_id": "c977792e683e448cb9e855ea3628c19c",
       "version_major": 2,
       "version_minor": 0
      },
      "text/plain": [
       "  0%|          | 0/650 [00:00<?, ?ex/s]"
      ]
     },
     "metadata": {},
     "output_type": "display_data"
    },
    {
     "name": "stdout",
     "output_type": "stream",
     "text": [
      "Save: data_splits_for_HIT/group4.csv\n"
     ]
    },
    {
     "data": {
      "application/vnd.jupyter.widget-view+json": {
       "model_id": "28aa79ff875d407c8729f7478be4563b",
       "version_major": 2,
       "version_minor": 0
      },
      "text/plain": [
       "  0%|          | 0/650 [00:00<?, ?ex/s]"
      ]
     },
     "metadata": {},
     "output_type": "display_data"
    },
    {
     "data": {
      "application/vnd.jupyter.widget-view+json": {
       "model_id": "7c1027fa71a74628bb3fcf2151bf8631",
       "version_major": 2,
       "version_minor": 0
      },
      "text/plain": [
       "  0%|          | 0/650 [00:00<?, ?ex/s]"
      ]
     },
     "metadata": {},
     "output_type": "display_data"
    },
    {
     "name": "stdout",
     "output_type": "stream",
     "text": [
      "Save: data_splits_for_HIT/group5.csv\n"
     ]
    },
    {
     "data": {
      "application/vnd.jupyter.widget-view+json": {
       "model_id": "968a2e5599db4315a61514be22162521",
       "version_major": 2,
       "version_minor": 0
      },
      "text/plain": [
       "  0%|          | 0/650 [00:00<?, ?ex/s]"
      ]
     },
     "metadata": {},
     "output_type": "display_data"
    },
    {
     "data": {
      "application/vnd.jupyter.widget-view+json": {
       "model_id": "573762bf5a044444b935e9d3f4c2a0e0",
       "version_major": 2,
       "version_minor": 0
      },
      "text/plain": [
       "  0%|          | 0/650 [00:00<?, ?ex/s]"
      ]
     },
     "metadata": {},
     "output_type": "display_data"
    },
    {
     "name": "stdout",
     "output_type": "stream",
     "text": [
      "Save: data_splits_for_HIT/group6.csv\n"
     ]
    },
    {
     "data": {
      "application/vnd.jupyter.widget-view+json": {
       "model_id": "52178df6f15c4928b6a4f694340edd4c",
       "version_major": 2,
       "version_minor": 0
      },
      "text/plain": [
       "  0%|          | 0/650 [00:00<?, ?ex/s]"
      ]
     },
     "metadata": {},
     "output_type": "display_data"
    },
    {
     "data": {
      "application/vnd.jupyter.widget-view+json": {
       "model_id": "b49ff1775a1b440697677396ead13390",
       "version_major": 2,
       "version_minor": 0
      },
      "text/plain": [
       "  0%|          | 0/650 [00:00<?, ?ex/s]"
      ]
     },
     "metadata": {},
     "output_type": "display_data"
    },
    {
     "name": "stdout",
     "output_type": "stream",
     "text": [
      "Save: data_splits_for_HIT/group7.csv\n"
     ]
    },
    {
     "data": {
      "application/vnd.jupyter.widget-view+json": {
       "model_id": "c16f16e8f08d4b23a033e1f38fc39bc0",
       "version_major": 2,
       "version_minor": 0
      },
      "text/plain": [
       "  0%|          | 0/650 [00:00<?, ?ex/s]"
      ]
     },
     "metadata": {},
     "output_type": "display_data"
    },
    {
     "data": {
      "application/vnd.jupyter.widget-view+json": {
       "model_id": "dbd916b0ae8d497292947c211d081e11",
       "version_major": 2,
       "version_minor": 0
      },
      "text/plain": [
       "  0%|          | 0/650 [00:00<?, ?ex/s]"
      ]
     },
     "metadata": {},
     "output_type": "display_data"
    },
    {
     "name": "stdout",
     "output_type": "stream",
     "text": [
      "Save: data_splits_for_HIT/group8.csv\n"
     ]
    },
    {
     "data": {
      "application/vnd.jupyter.widget-view+json": {
       "model_id": "605bf055ca7d4a1fa959250721cf2cd3",
       "version_major": 2,
       "version_minor": 0
      },
      "text/plain": [
       "  0%|          | 0/650 [00:00<?, ?ex/s]"
      ]
     },
     "metadata": {},
     "output_type": "display_data"
    },
    {
     "data": {
      "application/vnd.jupyter.widget-view+json": {
       "model_id": "62c4af94c4f14d889da13cf2d6eebbc2",
       "version_major": 2,
       "version_minor": 0
      },
      "text/plain": [
       "  0%|          | 0/650 [00:00<?, ?ex/s]"
      ]
     },
     "metadata": {},
     "output_type": "display_data"
    },
    {
     "name": "stdout",
     "output_type": "stream",
     "text": [
      "Save: data_splits_for_HIT/group9.csv\n"
     ]
    }
   ],
   "source": [
    "for name, info in distribution.items():\n",
    "    ids, num_queries_per_page = info\n",
    "    ds_ = ds_all.select(ids).map(hit.preprocess_for_hit)\n",
    "    ds_ = ds_.map(lambda x: x, remove_columns=[\"viewed_doc_titles\", \"answers\", \"orig_idx\", \"dqs\",\n",
    "                                               \"gold_passages\", \"nouns_by_titles\", \"aq_\", \"dqs_\", \"candidates\"])\n",
    "    sharded_sets = [ds_.shard(num_shards=num_queries_per_page, index=i) for i in range(num_queries_per_page)]\n",
    "    ds_ = hit.merge_queries(sharded_sets)\n",
    "    filename = f\"data_splits_for_HIT/{name}.csv\"\n",
    "    print(f\"Save: {filename}\")\n",
    "    ds_.to_csv(filename, index=False)"
   ]
  },
  {
   "cell_type": "code",
   "execution_count": null,
   "metadata": {},
   "outputs": [],
   "source": []
  },
  {
   "cell_type": "markdown",
   "metadata": {},
   "source": [
    "## Write qualification HTML codes"
   ]
  },
  {
   "cell_type": "code",
   "execution_count": 9,
   "metadata": {},
   "outputs": [
    {
     "name": "stdout",
     "output_type": "stream",
     "text": [
      "False\n"
     ]
    }
   ],
   "source": [
    "name = \"group1\"\n",
    "ids, num_queries_per_page = distribution[name]\n",
    "hit.compose_mturk_html(ds_all, good_examples,\n",
    "                       csv_file=f\"data_splits_for_HIT/{name}.csv\",\n",
    "                       html_template_file=f\"{name}_template.html\",\n",
    "                       html_example_file=f\"{name}_example.html\",\n",
    "                       basic_html_code=hit.BASIC_HTML_CODE)"
   ]
  },
  {
   "cell_type": "code",
   "execution_count": 13,
   "metadata": {},
   "outputs": [
    {
     "data": {
      "text/plain": [
       "5921"
      ]
     },
     "execution_count": 13,
     "metadata": {},
     "output_type": "execute_result"
    }
   ],
   "source": [
    "len(ds_all)"
   ]
  },
  {
   "cell_type": "code",
   "execution_count": 11,
   "metadata": {},
   "outputs": [
    {
     "data": {
      "text/plain": [
       "'\\n<style>\\n.query_box\\n{\\n   border: 2px solid black;\\n   margin-top:0px;\\n   margin-right:15px;\\n   margin-bottom:0px;\\n   margin-left:15px;\\n}\\n.passage_box\\n{\\n   border: 1px solid black;\\n   margin-top:0px;\\n   margin-right:15px;\\n   margin-bottom:0px;\\n   margin-left:15px;\\n}\\n.aq_box\\n{\\n   /* width:300px; */\\n   border: 1px solid black;\\n   margin-top:15px;\\n   margin-right:0px;\\n   margin-bottom:0px;\\n   margin-left:15px;\\n}\\n.instruction_title_text_style\\n{\\n  font-weight: bold;\\n  font-size: 15px;\\n}\\n.raw_text_style\\n{\\n  font-family: monospace;\\n  font-size: 15px;\\n}\\n.collapsible {\\n  background-color: #777;\\n  color: white;\\n  cursor: pointer;\\n  padding: 18px;\\n  width: 100%;\\n  border: none;\\n  text-align: left;\\n  outline: none;\\n  font-size: 15px;\\n}\\n\\n.active, .collapsible:hover {\\n  background-color: #555;\\n}\\n\\n.collapsible:after {\\n  content: \\'\\\\002B\\';\\n  color: white;\\n  font-weight: bold;\\n  float: right;\\n  margin-left: 5px;\\n}\\n\\n.active:after {\\n  content: \"\\\\2212\";\\n}\\n\\n.content {\\n  padding: 0 18px;\\n  max-height: 0;\\n  overflow: hidden;\\n  transition: max-height 0.2s ease-out;\\n  background-color: #f1f1f1;\\n}\\n</style>\\n  <meta name=\"viewport\" content=\"width=device-width, initial-scale=1\">\\n  <link rel=\"stylesheet\" href=\"https://maxcdn.bootstrapcdn.com/bootstrap/3.4.1/css/bootstrap.min.css\">\\n  <script src=\"https://ajax.googleapis.com/ajax/libs/jquery/3.6.0/jquery.min.js\"></script>\\n  <script src=\"https://maxcdn.bootstrapcdn.com/bootstrap/3.4.1/js/bootstrap.min.js\"></script>\\n</head>\\n\\n\\n\\n\\n<!-- You must include this JavaScript file -->\\n<script src=\"https://assets.crowd.aws/crowd-html-elements.js\"></script>\\n\\n<!-- For the full list of available Crowd HTML Elements and their input/output documentation,\\n      please refer to https://docs.aws.amazon.com/sagemaker/latest/dg/sms-ui-template-reference.html -->\\n\\n<!-- You must include crowd-form so that your task submits answers to MTurk -->\\n<crowd-form answer-format=\"flatten-objects\">\\n\\n    <crowd-instructions link-text=\"View instructions\" link-type=\"button\">\\n        <short-summary>\\n            <p>\\n              Given an ambiguous question that can be interpreted in several ways (each with a distinct answer), \\n              a software has generated a clarification question to determine the answer that is \\n              sought by the questioner. \\n              Your task is to fix errors in the auto-generated clarification question, if any.\\n            </p>\\n        </short-summary>\\n\\n        <detailed-instructions>\\n            <p>\\n              <b>Task</b>:\\n              Given an ambiguous question that can be interpreted in several ways (each with a distinct answer), \\n              a software has generated a clarification question to determine the answer that is \\n              sought by the questioner. \\n              Your task is to fix errors in the auto-generated clarification question, if any. <br> <br>\\n              The format of the clarification question is as follows:<br>\\n              <span style=\"font-family:monospace\">\\n                Could you clarify \\'{ambiguous part}\\'--\\'{option_1}\\', \\'{option_2}\\', ... , or \\'{option_n}\\'?\\n              </span><br>\\n              where\\n              <ui>\\n                <li> <span style=\"font-family:monospace\">{ambiguous part}</span>: phrase in ambiguous question that needs to be clarified </li>\\n                <li> <span style=\"font-family:monospace\">{option_i}</span>: clarification on {ambiguous part}</li>\\n              </ui>\\n              <br>\\n\\n            $$guidelines\\n            </p>\\n            <p>\\n              <b>Result</b>: Your submission will be accepted as long as:\\n              <ui>\\n                <li>The revised clarification question is correctly formatted, \\n                i.e., \\'\\'Could you clarify \\'{ambiguous part}\\'--\\'{option_1}\\', \\'{option_2}\\', ... , or \\'{option_n}\\'?`` \\n                (in general) or \\n                \\'\\'Could you be more specific--\\'{option_1}\\', \\'{option_2}\\', ... , or \\'{option_n}\\'?`` \\n                (when {ambiguous part} is undecidable)</li>\\n                <li>{ambiguous part} is correct for each question.</li>\\n                <li>The list of {option_i} is correct for each question. </li>\\n                <li>The revised clarification question is correct for the test questions. </li>\\n              </ui>\\n            </p>\\n            Among 10 questions, there are some <mark>test questions</mark> whose {ambiguous part} and {option} are very obvious \\n            and do not involve subjective judgement. \\n            <mark>Wrongly answering these questions will be interpreted as answering carelessly so that your submission \\n            will be rejected, and you will be disqualified for our next HITs</mark>.\\n        </detailed-instructions>\\n\\n        $$examples\\n\\n    </crowd-instructions>\\n\\n    <h4>Revise the machine-generated clarification questions</h4>\\n    <p>\\n    If necessary, toggle <strong>[Relevant Wikipedia Passages]</strong> that provides relevant Wikipedia passages.\\n    </p>\\n\\n    $$queries\\n\\n\\n    <crowd-input name=\"feedback\" \\n    placeholder=\"[Not mandatory] Any uncertain problem?, Any other comments or questions?\"></crowd-input>\\n\\n</crowd-form>\\n'"
      ]
     },
     "execution_count": 11,
     "metadata": {},
     "output_type": "execute_result"
    }
   ],
   "source": [
    "hit.BASIC_HTML_CODE_FOR_QUALIFICATION"
   ]
  },
  {
   "cell_type": "code",
   "execution_count": null,
   "metadata": {},
   "outputs": [],
   "source": []
  },
  {
   "cell_type": "code",
   "execution_count": null,
   "metadata": {},
   "outputs": [],
   "source": []
  },
  {
   "cell_type": "markdown",
   "metadata": {},
   "source": [
    "# Used examples in Instructions\n",
    "* train-0: used in instructions for underlined...  \n",
    "* train-7: used in instructions for underlined..."
   ]
  },
  {
   "cell_type": "code",
   "execution_count": 8,
   "metadata": {},
   "outputs": [
    {
     "data": {
      "application/vnd.jupyter.widget-view+json": {
       "model_id": "8d36bc0ebec84d22a1fb6008ccb91e76",
       "version_major": 2,
       "version_minor": 0
      },
      "text/plain": [
       "  0%|          | 0/184 [00:00<?, ?ex/s]"
      ]
     },
     "metadata": {},
     "output_type": "display_data"
    },
    {
     "data": {
      "application/vnd.jupyter.widget-view+json": {
       "model_id": "fcb7da069f9e4085a885b27a5ed571aa",
       "version_major": 2,
       "version_minor": 0
      },
      "text/plain": [
       "  0%|          | 0/184 [00:00<?, ?ex/s]"
      ]
     },
     "metadata": {},
     "output_type": "display_data"
    }
   ],
   "source": [
    "# selected_ids = ids_gold\n",
    "# # selected_ids = ids_silver\n",
    "# ds_ = ds_train.select(selected_ids).map(hit.preprocess_for_hit)\n",
    "# ds_ = ds_.map(lambda x: x, remove_columns=[\"viewed_doc_titles\", \"answers\", \"orig_idx\", \"dqs\",\n",
    "#                                            \"gold_passages\", \"nouns_by_titles\", \"aq_\", \"dqs_\", \"candidates\"])\n",
    "# file = []\n",
    "# for inst, idx in zip(ds_, ids_gold):\n",
    "#     file.append(f\"<p> {idx} <br>\")\n",
    "#     file.append(inst[\"marked_aq\"] + \"<br>\")\n",
    "#     file.append(inst[\"machine_marked_cq\"])\n",
    "#     file.append(\"</p>\")\n",
    "# with open(\"gold_examples.html\", 'w') as f:\n",
    "#     for line in file:\n",
    "#         f.write(line + \"\\n\")\n",
    "\n",
    "# selected_ids = ids_silver\n",
    "# ds_ = ds_train.select(selected_ids).map(hit.preprocess_for_hit)\n",
    "# ds_ = ds_.map(lambda x: x, remove_columns=[\"viewed_doc_titles\", \"answers\", \"orig_idx\", \"dqs\",\n",
    "#                                            \"gold_passages\", \"nouns_by_titles\", \"aq_\", \"dqs_\", \"candidates\"])        \n",
    "# file = []\n",
    "# for inst, idx in zip(ds_, ids_silver):\n",
    "#     file.append(f\"<p> {idx} <br>\")\n",
    "#     file.append(inst[\"marked_aq\"] + \"<br>\")\n",
    "#     file.append(inst[\"machine_marked_cq\"])\n",
    "#     file.append(\"</p>\")\n",
    "# with open(\"silver_examples.html\", 'w') as f:\n",
    "#     for line in file:\n",
    "#         f.write(line + \"\\n\")        \n",
    "        \n",
    "        \n",
    "selected_ids = [i for i in range(300) if i not in ids_gold + ids_silver]\n",
    "ds_ = ds_train.select(selected_ids).map(hit.preprocess_for_hit)\n",
    "ds_ = ds_.map(lambda x: x, remove_columns=[\"viewed_doc_titles\", \"answers\", \"orig_idx\", \"dqs\",\n",
    "                                           \"gold_passages\", \"nouns_by_titles\", \"aq_\", \"dqs_\", \"candidates\"])        \n",
    "file = []\n",
    "for inst, idx in zip(ds_, selected_ids):\n",
    "    file.append(f\"<p> {idx} <br>\")\n",
    "    file.append(inst[\"marked_aq\"] + \"<br>\")\n",
    "    file.append(inst[\"machine_marked_cq\"])\n",
    "    file.append(\"</p>\")\n",
    "with open(\"bad_examples.html\", 'w') as f:\n",
    "    for line in file:\n",
    "        f.write(line + \"\\n\")              "
   ]
  },
  {
   "cell_type": "code",
   "execution_count": 9,
   "metadata": {},
   "outputs": [
    {
     "name": "stdout",
     "output_type": "stream",
     "text": [
      "> \u001b[0;32m<ipython-input-6-30d92093050c>\u001b[0m(31)\u001b[0;36m<listcomp>\u001b[0;34m()\u001b[0m\n",
      "\u001b[0;32m     29 \u001b[0;31m\u001b[0;34m\u001b[0m\u001b[0m\n",
      "\u001b[0m\u001b[0;32m     30 \u001b[0;31m\u001b[0;34m\u001b[0m\u001b[0m\n",
      "\u001b[0m\u001b[0;32m---> 31 \u001b[0;31m\u001b[0mselected_ids\u001b[0m \u001b[0;34m=\u001b[0m \u001b[0;34m[\u001b[0m\u001b[0mi\u001b[0m \u001b[0;32mfor\u001b[0m \u001b[0mi\u001b[0m \u001b[0;32min\u001b[0m \u001b[0mrange\u001b[0m\u001b[0;34m(\u001b[0m\u001b[0;36m300\u001b[0m\u001b[0;34m)\u001b[0m \u001b[0;32mif\u001b[0m \u001b[0mi\u001b[0m \u001b[0;32mnot\u001b[0m \u001b[0;32min\u001b[0m \u001b[0mids_gold\u001b[0m \u001b[0;34m+\u001b[0m \u001b[0mids_silver\u001b[0m\u001b[0;34m]\u001b[0m\u001b[0;34m\u001b[0m\u001b[0;34m\u001b[0m\u001b[0m\n",
      "\u001b[0m\u001b[0;32m     32 \u001b[0;31m\u001b[0mds_\u001b[0m \u001b[0;34m=\u001b[0m \u001b[0mds_train\u001b[0m\u001b[0;34m.\u001b[0m\u001b[0mselect\u001b[0m\u001b[0;34m(\u001b[0m\u001b[0mselected_ids\u001b[0m\u001b[0;34m)\u001b[0m\u001b[0;34m.\u001b[0m\u001b[0mmap\u001b[0m\u001b[0;34m(\u001b[0m\u001b[0mhit\u001b[0m\u001b[0;34m.\u001b[0m\u001b[0mpreprocess_for_hit\u001b[0m\u001b[0;34m)\u001b[0m\u001b[0;34m\u001b[0m\u001b[0;34m\u001b[0m\u001b[0m\n",
      "\u001b[0m\u001b[0;32m     33 \u001b[0;31mds_ = ds_.map(lambda x: x, remove_columns=[\"viewed_doc_titles\", \"answers\", \"orig_idx\", \"dqs\",\n",
      "\u001b[0m\n",
      "ipdb> s\n"
     ]
    }
   ],
   "source": [
    "%debug"
   ]
  },
  {
   "cell_type": "code",
   "execution_count": null,
   "metadata": {},
   "outputs": [],
   "source": []
  }
 ],
 "metadata": {
  "kernelspec": {
   "display_name": "Python 3",
   "language": "python",
   "name": "python3"
  },
  "language_info": {
   "codemirror_mode": {
    "name": "ipython",
    "version": 3
   },
   "file_extension": ".py",
   "mimetype": "text/x-python",
   "name": "python",
   "nbconvert_exporter": "python",
   "pygments_lexer": "ipython3",
   "version": "3.8.10"
  }
 },
 "nbformat": 4,
 "nbformat_minor": 2
}
